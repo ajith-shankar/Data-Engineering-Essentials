{
 "cells": [
  {
   "cell_type": "code",
   "execution_count": 12,
   "id": "1e5f2e9c",
   "metadata": {},
   "outputs": [],
   "source": [
    "import findspark\n",
    "findspark.init()"
   ]
  },
  {
   "cell_type": "code",
   "execution_count": 14,
   "id": "d3b8e626",
   "metadata": {},
   "outputs": [],
   "source": [
    "import pyspark\n",
    "from pyspark.sql import SparkSession\n",
    "\n",
    "spark = SparkSession.builder.appName(\"PWC - Multiple Delimiter\").master(\"local[*]\").getOrCreate()"
   ]
  },
  {
   "cell_type": "code",
   "execution_count": 15,
   "id": "130233c9",
   "metadata": {},
   "outputs": [
    {
     "data": {
      "text/html": [
       "\n",
       "            <div>\n",
       "                <p><b>SparkSession - in-memory</b></p>\n",
       "                \n",
       "        <div>\n",
       "            <p><b>SparkContext</b></p>\n",
       "\n",
       "            <p><a href=\"http://192.168.1.40:4040\">Spark UI</a></p>\n",
       "\n",
       "            <dl>\n",
       "              <dt>Version</dt>\n",
       "                <dd><code>v3.3.4</code></dd>\n",
       "              <dt>Master</dt>\n",
       "                <dd><code>local[*]</code></dd>\n",
       "              <dt>AppName</dt>\n",
       "                <dd><code>PWC - Multiple Delimiter</code></dd>\n",
       "            </dl>\n",
       "        </div>\n",
       "        \n",
       "            </div>\n",
       "        "
      ],
      "text/plain": [
       "<pyspark.sql.session.SparkSession at 0x764e27f559f0>"
      ]
     },
     "execution_count": 15,
     "metadata": {},
     "output_type": "execute_result"
    }
   ],
   "source": [
    "spark"
   ]
  },
  {
   "cell_type": "markdown",
   "id": "fab61452",
   "metadata": {},
   "source": [
    "### Read the data having multiple delimiter "
   ]
  },
  {
   "cell_type": "code",
   "execution_count": 16,
   "id": "0a88e472",
   "metadata": {},
   "outputs": [
    {
     "name": "stdout",
     "output_type": "stream",
     "text": [
      "+-----+------+---------------+\n",
      "|sl_no|  Name|Quarterly_Sales|\n",
      "+-----+------+---------------+\n",
      "|    1| Virat|       20,30,40|\n",
      "|    2|Sachin|       42,72,64|\n",
      "|    3|Sourav|       95,84,77|\n",
      "|    4|Ashwin|       75,88,92|\n",
      "+-----+------+---------------+\n",
      "\n"
     ]
    }
   ],
   "source": [
    "df = spark.read.csv(\"file:///home/hadoop/Downloads/tableConvert.com_22mlx9.csv\", header=True, sep=\"|\")\n",
    "df.show()"
   ]
  },
  {
   "cell_type": "markdown",
   "id": "a3c75a99",
   "metadata": {},
   "source": [
    "### Solution"
   ]
  },
  {
   "cell_type": "code",
   "execution_count": 26,
   "id": "98434651",
   "metadata": {},
   "outputs": [
    {
     "name": "stdout",
     "output_type": "stream",
     "text": [
      "+-----+------+---+---+---+\n",
      "|sl_no|  Name| Q1| Q2| Q3|\n",
      "+-----+------+---+---+---+\n",
      "|    1| Virat| 20| 30| 40|\n",
      "|    2|Sachin| 42| 72| 64|\n",
      "|    3|Sourav| 95| 84| 77|\n",
      "|    4|Ashwin| 75| 88| 92|\n",
      "+-----+------+---+---+---+\n",
      "\n"
     ]
    }
   ],
   "source": [
    "from pyspark.sql.functions import split,col\n",
    "\n",
    "df_final = df.withColumn(\"Q1\", split(col(\"Quarterly_Sales\"), \",\")[0]) \\\n",
    "             .withColumn(\"Q2\", split(col(\"Quarterly_Sales\"), \",\")[1]) \\\n",
    "             .withColumn(\"Q3\", split(col(\"Quarterly_Sales\"), \",\")[2]).drop(\"Quarterly_Sales\")\n",
    "             \n",
    "\n",
    "df_final.show()"
   ]
  },
  {
   "cell_type": "code",
   "execution_count": null,
   "id": "692bd012",
   "metadata": {},
   "outputs": [],
   "source": []
  }
 ],
 "metadata": {
  "kernelspec": {
   "display_name": "Python 3 (ipykernel)",
   "language": "python",
   "name": "python3"
  },
  "language_info": {
   "codemirror_mode": {
    "name": "ipython",
    "version": 3
   },
   "file_extension": ".py",
   "mimetype": "text/x-python",
   "name": "python",
   "nbconvert_exporter": "python",
   "pygments_lexer": "ipython3",
   "version": "3.10.12"
  }
 },
 "nbformat": 4,
 "nbformat_minor": 5
}
