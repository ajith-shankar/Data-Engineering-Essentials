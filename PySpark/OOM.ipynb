{
 "cells": [
  {
   "cell_type": "markdown",
   "id": "9c2f6544-7e7c-4f70-ad49-605710228be8",
   "metadata": {},
   "source": [
    "# <font color=Blue>Out Of Memory</font>"
   ]
  },
  {
   "cell_type": "markdown",
   "id": "07bf8837-6805-4f41-832b-a057a6f16bb4",
   "metadata": {},
   "source": [
    "# 1) Driver Out Of Memory"
   ]
  },
  {
   "cell_type": "markdown",
   "id": "e84e5b34-921c-46f0-8c64-a47724d6f662",
   "metadata": {},
   "source": [
    "* spark.driver.memory\n",
    "* spark.driver.memoryOverhead   => Non JVM process => 10% of driver memory (minimum 384MB) "
   ]
  },
  {
   "cell_type": "markdown",
   "id": "1024a9f8-4c44-443f-aad7-320242bd1fc2",
   "metadata": {},
   "source": [
    "### 1.1) Common Reason for Driver OOM"
   ]
  },
  {
   "cell_type": "markdown",
   "id": "82417879-6c95-4d19-b7c5-39ef64105acd",
   "metadata": {},
   "source": [
    "1) collect() method is used\n",
    "2) Broadcast\n",
    "3) More objects is used in the process"
   ]
  },
  {
   "cell_type": "markdown",
   "id": "cc418fb2-7d24-4073-90d2-7f4a67c0ef77",
   "metadata": {},
   "source": [
    "# 2) Executor Out Of Memory"
   ]
  },
  {
   "cell_type": "markdown",
   "id": "3ae73213-1f7d-4921-b7ba-134f5f29d857",
   "metadata": {},
   "source": [
    "* spark.executor.memory\n",
    "* spark.executor.memoryOverhead  => 10% of executor memory => Non JVM process, Container\n",
    "    * Ex: --executor-memory = 10GB\n",
    "    * executor-memoryOverhead = 10 % 10GB = 1GB\n",
    "    * total executor memory asked will be = 10 + 1 = 11GB"
   ]
  },
  {
   "cell_type": "markdown",
   "id": "7fa076b5-8516-4e5d-b7c8-65c245b3613a",
   "metadata": {},
   "source": [
    "* --executor-memory will be devided into 4 part\n",
    "* 1) Reserved memory = 300 mb\n",
    "  2) User memory = --executor memory - Unified memory - Reserved memory\n",
    "  3) Unified memory = 0.6 * --executor-memory (Unified memory = Execution memory + Storage Memory)<br>\n",
    "  Storage memory = 50% of Unified memory\n",
    "\n",
    "* Executor memory alwasy must be greater than (1.5 times * Reserved Memory)"
   ]
  },
  {
   "cell_type": "markdown",
   "id": "6cd6573c-4bdb-474e-8643-dca92be7ed85",
   "metadata": {},
   "source": [
    "### Reserved Memory"
   ]
  },
  {
   "cell_type": "markdown",
   "id": "6913682d-79a9-4158-a2ea-dbe133ac216e",
   "metadata": {},
   "source": [
    "* It is used to store Spark Internal Objects\n",
    "* Used by Spark Engine"
   ]
  },
  {
   "cell_type": "markdown",
   "id": "45dd02c3-ed42-4d73-a636-40d1ad8126c3",
   "metadata": {},
   "source": [
    "### User Memory"
   ]
  },
  {
   "cell_type": "markdown",
   "id": "24db9617-c4f1-42ea-86fb-6f853b69283c",
   "metadata": {},
   "source": [
    "* It is used to store user defined functions, data structures, variables, Spark Internal Metadata\n",
    "* This is used by RDD operation"
   ]
  },
  {
   "cell_type": "markdown",
   "id": "71603a2a-676c-461c-9efa-f86a80e6ca28",
   "metadata": {},
   "source": [
    "### Storage Memory"
   ]
  },
  {
   "cell_type": "markdown",
   "id": "137168df-c00a-4756-a5c5-5c4872e1d861",
   "metadata": {},
   "source": [
    "* It is used to store dataframe, caching, broadcast\n",
    "* Memory eviction is done by LRU algorithem (Least Recently Used)"
   ]
  },
  {
   "cell_type": "markdown",
   "id": "713b7085-0e4f-4ccb-9199-eafa48401a1b",
   "metadata": {},
   "source": [
    "### Executor Memory"
   ]
  },
  {
   "cell_type": "markdown",
   "id": "7c5cd978-2653-43a1-acee-3449d0f7d17a",
   "metadata": {},
   "source": [
    "* It is used for storing objectthat are required during execution of spark tasks\n",
    "* Store hash table for hash aggregation\n",
    "* short lived, cleaner after each operation\n",
    "* spilling to disk"
   ]
  },
  {
   "cell_type": "code",
   "execution_count": null,
   "id": "14cf98a0-e205-4561-8de7-ce9454e68319",
   "metadata": {},
   "outputs": [],
   "source": []
  }
 ],
 "metadata": {
  "kernelspec": {
   "display_name": "Python 3 (ipykernel)",
   "language": "python",
   "name": "python3"
  },
  "language_info": {
   "codemirror_mode": {
    "name": "ipython",
    "version": 3
   },
   "file_extension": ".py",
   "mimetype": "text/x-python",
   "name": "python",
   "nbconvert_exporter": "python",
   "pygments_lexer": "ipython3",
   "version": "3.12.1"
  }
 },
 "nbformat": 4,
 "nbformat_minor": 5
}
