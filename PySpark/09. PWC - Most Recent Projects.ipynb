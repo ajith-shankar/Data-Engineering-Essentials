{
 "cells": [
  {
   "cell_type": "code",
   "execution_count": 3,
   "id": "bcb171c6",
   "metadata": {},
   "outputs": [],
   "source": [
    "import findspark\n",
    "findspark.init()"
   ]
  },
  {
   "cell_type": "code",
   "execution_count": 4,
   "id": "78372247",
   "metadata": {},
   "outputs": [
    {
     "name": "stderr",
     "output_type": "stream",
     "text": [
      "24/04/22 00:32:49 WARN Utils: Your hostname, ajith-Lenovo-G50-80 resolves to a loopback address: 127.0.1.1; using 192.168.1.40 instead (on interface wlp3s0)\n",
      "24/04/22 00:32:49 WARN Utils: Set SPARK_LOCAL_IP if you need to bind to another address\n",
      "24/04/22 00:32:50 WARN NativeCodeLoader: Unable to load native-hadoop library for your platform... using builtin-java classes where applicable\n"
     ]
    }
   ],
   "source": [
    "import pyspark\n",
    "from pyspark.sql import SparkSession\n",
    "\n",
    "spark = SparkSession.builder.appName(\"PWC - Most Recent Projects\").master(\"local[*]\").getOrCreate()"
   ]
  },
  {
   "cell_type": "code",
   "execution_count": 5,
   "id": "970f61cb",
   "metadata": {},
   "outputs": [
    {
     "data": {
      "text/html": [
       "\n",
       "            <div>\n",
       "                <p><b>SparkSession - in-memory</b></p>\n",
       "                \n",
       "        <div>\n",
       "            <p><b>SparkContext</b></p>\n",
       "\n",
       "            <p><a href=\"http://192.168.1.40:4040\">Spark UI</a></p>\n",
       "\n",
       "            <dl>\n",
       "              <dt>Version</dt>\n",
       "                <dd><code>v3.3.4</code></dd>\n",
       "              <dt>Master</dt>\n",
       "                <dd><code>local[*]</code></dd>\n",
       "              <dt>AppName</dt>\n",
       "                <dd><code>PWC - Most Recent Projects</code></dd>\n",
       "            </dl>\n",
       "        </div>\n",
       "        \n",
       "            </div>\n",
       "        "
      ],
      "text/plain": [
       "<pyspark.sql.session.SparkSession at 0x77ec8445a0b0>"
      ]
     },
     "execution_count": 5,
     "metadata": {},
     "output_type": "execute_result"
    }
   ],
   "source": [
    "spark"
   ]
  },
  {
   "cell_type": "code",
   "execution_count": 7,
   "id": "18de0e11",
   "metadata": {},
   "outputs": [
    {
     "data": {
      "text/plain": [
       "4"
      ]
     },
     "execution_count": 7,
     "metadata": {},
     "output_type": "execute_result"
    }
   ],
   "source": [
    "spark.sparkContext.defaultParallelism"
   ]
  },
  {
   "cell_type": "markdown",
   "id": "b0aab410",
   "metadata": {},
   "source": [
    "## Find the most recent projects and the total number of projects for each employees"
   ]
  },
  {
   "cell_type": "code",
   "execution_count": 8,
   "id": "0a8f9064",
   "metadata": {},
   "outputs": [
    {
     "name": "stderr",
     "output_type": "stream",
     "text": [
      "                                                                                \r"
     ]
    },
    {
     "name": "stdout",
     "output_type": "stream",
     "text": [
      "+------+--------+----------+\n",
      "|Emp_Id|Projects| Proj_Date|\n",
      "+------+--------+----------+\n",
      "|     1|   Proj1|2022-01-10|\n",
      "|     1|   Proj2|2022-02-15|\n",
      "|     1|   Proj3|2022-03-20|\n",
      "|     2|   Proj1|2022-01-15|\n",
      "|     2|   Proj2|2022-02-10|\n",
      "|     2|   Proj3|2022-03-15|\n",
      "|     2|   Proj4|2022-04-20|\n",
      "+------+--------+----------+\n",
      "\n"
     ]
    }
   ],
   "source": [
    "data = [(1, 'Proj1', '2022-01-10'),\n",
    "        (1, 'Proj2', '2022-02-15'),\n",
    "        (1, 'Proj3', '2022-03-20'),\n",
    "        (2, 'Proj1', '2022-01-15'),\n",
    "        (2, 'Proj2', '2022-02-10'),\n",
    "        (2, 'Proj3', '2022-03-15'),\n",
    "        (2, 'Proj4', '2022-04-20')\n",
    "    ]\n",
    "\n",
    "schema = \"Emp_Id int, Projects string, Proj_Date string\"\n",
    "\n",
    "\n",
    "df_emp = spark.createDataFrame(data=data, schema=schema)\n",
    "\n",
    "df_emp.show()"
   ]
  },
  {
   "cell_type": "code",
   "execution_count": 11,
   "id": "5e96c967",
   "metadata": {},
   "outputs": [
    {
     "name": "stderr",
     "output_type": "stream",
     "text": [
      "\r",
      "[Stage 2:>                                                          (0 + 4) / 4]\r"
     ]
    },
    {
     "name": "stdout",
     "output_type": "stream",
     "text": [
      "+------+-------------------+--------------+\n",
      "|Emp_Id|Most_Recent_Project|Total_Projects|\n",
      "+------+-------------------+--------------+\n",
      "|     1|              Proj3|             3|\n",
      "|     2|              Proj4|             4|\n",
      "+------+-------------------+--------------+\n",
      "\n"
     ]
    },
    {
     "name": "stderr",
     "output_type": "stream",
     "text": [
      "\r",
      "                                                                                \r"
     ]
    }
   ],
   "source": [
    "from pyspark.sql.functions import last, count\n",
    "\n",
    "df_res = df_emp.groupBy(\"Emp_Id\") \\\n",
    "                .agg(\n",
    "                        last(\"Projects\").alias(\"Most_Recent_Project\"),\n",
    "                        count(\"Projects\").alias(\"Total_Projects\")\n",
    "                    )\n",
    "\n",
    "df_res.show()"
   ]
  },
  {
   "cell_type": "code",
   "execution_count": null,
   "id": "a5174193",
   "metadata": {},
   "outputs": [],
   "source": []
  }
 ],
 "metadata": {
  "kernelspec": {
   "display_name": "Python 3 (ipykernel)",
   "language": "python",
   "name": "python3"
  },
  "language_info": {
   "codemirror_mode": {
    "name": "ipython",
    "version": 3
   },
   "file_extension": ".py",
   "mimetype": "text/x-python",
   "name": "python",
   "nbconvert_exporter": "python",
   "pygments_lexer": "ipython3",
   "version": "3.10.12"
  }
 },
 "nbformat": 4,
 "nbformat_minor": 5
}
