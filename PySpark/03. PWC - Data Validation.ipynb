{
 "cells": [
  {
   "cell_type": "code",
   "execution_count": 3,
   "id": "42171088",
   "metadata": {},
   "outputs": [],
   "source": [
    "import findspark\n",
    "findspark.init()"
   ]
  },
  {
   "cell_type": "code",
   "execution_count": 4,
   "id": "f13c508b",
   "metadata": {},
   "outputs": [
    {
     "name": "stderr",
     "output_type": "stream",
     "text": [
      "24/03/25 23:32:14 WARN Utils: Your hostname, ajith-Lenovo-G50-80 resolves to a loopback address: 127.0.1.1; using 192.168.1.40 instead (on interface wlp3s0)\n",
      "24/03/25 23:32:14 WARN Utils: Set SPARK_LOCAL_IP if you need to bind to another address\n",
      "24/03/25 23:32:15 WARN NativeCodeLoader: Unable to load native-hadoop library for your platform... using builtin-java classes where applicable\n"
     ]
    }
   ],
   "source": [
    "import pyspark\n",
    "from pyspark.sql import SparkSession\n",
    "\n",
    "spark = SparkSession.builder.appName(\"PWC - Data Validation\").master(\"local[*]\").getOrCreate()"
   ]
  },
  {
   "cell_type": "code",
   "execution_count": 5,
   "id": "8372a095",
   "metadata": {},
   "outputs": [
    {
     "data": {
      "text/html": [
       "\n",
       "            <div>\n",
       "                <p><b>SparkSession - in-memory</b></p>\n",
       "                \n",
       "        <div>\n",
       "            <p><b>SparkContext</b></p>\n",
       "\n",
       "            <p><a href=\"http://192.168.1.40:4040\">Spark UI</a></p>\n",
       "\n",
       "            <dl>\n",
       "              <dt>Version</dt>\n",
       "                <dd><code>v3.3.4</code></dd>\n",
       "              <dt>Master</dt>\n",
       "                <dd><code>local[*]</code></dd>\n",
       "              <dt>AppName</dt>\n",
       "                <dd><code>PWC - Data Validation</code></dd>\n",
       "            </dl>\n",
       "        </div>\n",
       "        \n",
       "            </div>\n",
       "        "
      ],
      "text/plain": [
       "<pyspark.sql.session.SparkSession at 0x71fa181dda50>"
      ]
     },
     "execution_count": 5,
     "metadata": {},
     "output_type": "execute_result"
    }
   ],
   "source": [
    "spark"
   ]
  },
  {
   "cell_type": "markdown",
   "id": "d2596855",
   "metadata": {},
   "source": [
    "### Data Validation between Source and Target table"
   ]
  },
  {
   "cell_type": "code",
   "execution_count": 26,
   "id": "3ef8ef1e",
   "metadata": {},
   "outputs": [
    {
     "name": "stdout",
     "output_type": "stream",
     "text": [
      "+---+----+\n",
      "| id|name|\n",
      "+---+----+\n",
      "|  1|   A|\n",
      "|  2|   B|\n",
      "|  3|   C|\n",
      "|  4|   D|\n",
      "|  5|   E|\n",
      "+---+----+\n",
      "\n",
      "+---+----+\n",
      "| id|name|\n",
      "+---+----+\n",
      "|  1|   A|\n",
      "|  2|   B|\n",
      "|  3|   X|\n",
      "|  4|   F|\n",
      "|  6|   G|\n",
      "+---+----+\n",
      "\n"
     ]
    }
   ],
   "source": [
    "source_data = [(1, 'A'), (2, 'B'), (3, 'C'), (4, 'D'), (5, 'E')]\n",
    "source_schema = ['id', 'name']\n",
    "source_df = spark.createDataFrame(source_data, source_schema)\n",
    "\n",
    "\n",
    "target_data = [(1, 'A'), (2, 'B'), (3, 'X'), (4, 'F'), (6, 'G')]\n",
    "target_schema = ['id', 'name']\n",
    "target_df = spark.createDataFrame(target_data, target_schema)\n",
    "\n",
    "source_df.show()\n",
    "target_df.show()"
   ]
  },
  {
   "cell_type": "markdown",
   "id": "89378b2c",
   "metadata": {},
   "source": [
    "## Solution"
   ]
  },
  {
   "cell_type": "code",
   "execution_count": 27,
   "id": "05f82f13",
   "metadata": {},
   "outputs": [
    {
     "name": "stdout",
     "output_type": "stream",
     "text": [
      "+----+----+----+----+\n",
      "|  id|name|  id|name|\n",
      "+----+----+----+----+\n",
      "|   1|   A|   1|   A|\n",
      "|   2|   B|   2|   B|\n",
      "|   3|   C|   3|   X|\n",
      "|   4|   D|   4|   F|\n",
      "|   5|   E|null|null|\n",
      "|null|null|   6|   G|\n",
      "+----+----+----+----+\n",
      "\n"
     ]
    }
   ],
   "source": [
    "from pyspark.sql.functions import col, when, coalesce\n",
    "df = source_df.alias(\"t1\").join(target_df.alias(\"t2\"), on=(col(\"t1.id\") == col(\"t2.id\")), how='full')\n",
    "df.show()"
   ]
  },
  {
   "cell_type": "code",
   "execution_count": 28,
   "id": "998ee975",
   "metadata": {},
   "outputs": [
    {
     "name": "stdout",
     "output_type": "stream",
     "text": [
      "+---------+---------+-----------+-----------+\n",
      "|source_id|target_id|source_name|target_name|\n",
      "+---------+---------+-----------+-----------+\n",
      "|        1|        1|          A|          A|\n",
      "|        2|        2|          B|          B|\n",
      "|        3|        3|          C|          X|\n",
      "|        4|        4|          D|          F|\n",
      "|        5|     null|          E|       null|\n",
      "|     null|        6|       null|          G|\n",
      "+---------+---------+-----------+-----------+\n",
      "\n"
     ]
    }
   ],
   "source": [
    "df = df.select(col(\"t1.id\").alias(\"source_id\"), col(\"t2.id\").alias(\"target_id\"), col(\"t1.name\") \\\n",
    "               .alias(\"source_name\"), col(\"t2.name\").alias(\"target_name\"))\n",
    "df.show()"
   ]
  },
  {
   "cell_type": "code",
   "execution_count": 29,
   "id": "eef840d0",
   "metadata": {},
   "outputs": [
    {
     "name": "stdout",
     "output_type": "stream",
     "text": [
      "+---------+---------+-----------+-----------+-------------+\n",
      "|source_id|target_id|source_name|target_name|      comment|\n",
      "+---------+---------+-----------+-----------+-------------+\n",
      "|        1|        1|          A|          A|         null|\n",
      "|        2|        2|          B|          B|         null|\n",
      "|        3|        3|          C|          X|   Mismatched|\n",
      "|        4|        4|          D|          F|   Mismatched|\n",
      "|        5|     null|          E|       null|new in source|\n",
      "|     null|        6|       null|          G|new in target|\n",
      "+---------+---------+-----------+-----------+-------------+\n",
      "\n"
     ]
    }
   ],
   "source": [
    "df = df.withColumn(\"comment\", when((col(\"source_id\") == col(\"target_id\")) \\\n",
    "                                   & (col(\"source_name\") != col(\"target_name\")), \"Mismatched\") \\\n",
    "                   .when(col(\"target_id\").isNull(), \"new in source\").when(col(\"source_id\").isNull(), \"new in target\")\n",
    "                  )\n",
    "\n",
    "df.show()"
   ]
  },
  {
   "cell_type": "code",
   "execution_count": 30,
   "id": "eef68bf5",
   "metadata": {},
   "outputs": [
    {
     "name": "stdout",
     "output_type": "stream",
     "text": [
      "+---------+---------+-----------+-----------+-------------+\n",
      "|source_id|target_id|source_name|target_name|      comment|\n",
      "+---------+---------+-----------+-----------+-------------+\n",
      "|        3|        3|          C|          X|   Mismatched|\n",
      "|        4|        4|          D|          F|   Mismatched|\n",
      "|        5|     null|          E|       null|new in source|\n",
      "|     null|        6|       null|          G|new in target|\n",
      "+---------+---------+-----------+-----------+-------------+\n",
      "\n"
     ]
    }
   ],
   "source": [
    "df = df.filter(col(\"comment\").isNotNull())\n",
    "df.show()"
   ]
  },
  {
   "cell_type": "code",
   "execution_count": 31,
   "id": "e731161d",
   "metadata": {},
   "outputs": [
    {
     "name": "stdout",
     "output_type": "stream",
     "text": [
      "+---+-------------+\n",
      "| id|      comment|\n",
      "+---+-------------+\n",
      "|  3|   Mismatched|\n",
      "|  4|   Mismatched|\n",
      "|  5|new in source|\n",
      "|  6|new in target|\n",
      "+---+-------------+\n",
      "\n"
     ]
    }
   ],
   "source": [
    "final_df = df.withColumn(\"id\", coalesce(col(\"source_id\"), col(\"target_id\"))).select(\"id\", \"comment\")\n",
    "final_df.show()"
   ]
  },
  {
   "cell_type": "code",
   "execution_count": null,
   "id": "25a998ab",
   "metadata": {},
   "outputs": [],
   "source": []
  }
 ],
 "metadata": {
  "kernelspec": {
   "display_name": "Python 3 (ipykernel)",
   "language": "python",
   "name": "python3"
  },
  "language_info": {
   "codemirror_mode": {
    "name": "ipython",
    "version": 3
   },
   "file_extension": ".py",
   "mimetype": "text/x-python",
   "name": "python",
   "nbconvert_exporter": "python",
   "pygments_lexer": "ipython3",
   "version": "3.10.12"
  }
 },
 "nbformat": 4,
 "nbformat_minor": 5
}
