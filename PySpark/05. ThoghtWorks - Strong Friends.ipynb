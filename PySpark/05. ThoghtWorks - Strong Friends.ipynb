{
 "cells": [
  {
   "cell_type": "code",
   "execution_count": 5,
   "id": "a869bb12",
   "metadata": {},
   "outputs": [],
   "source": [
    "import findspark\n",
    "findspark.init()"
   ]
  },
  {
   "cell_type": "code",
   "execution_count": 7,
   "id": "fef8171a",
   "metadata": {},
   "outputs": [],
   "source": [
    "import pyspark\n",
    "from pyspark.sql import SparkSession\n",
    "\n",
    "spark = SparkSession.builder.appName(\"ThoghtWorks - Strong Friendship\").master(\"local[*]\").getOrCreate()"
   ]
  },
  {
   "cell_type": "code",
   "execution_count": 8,
   "id": "52b6ef10",
   "metadata": {},
   "outputs": [
    {
     "data": {
      "text/html": [
       "\n",
       "            <div>\n",
       "                <p><b>SparkSession - in-memory</b></p>\n",
       "                \n",
       "        <div>\n",
       "            <p><b>SparkContext</b></p>\n",
       "\n",
       "            <p><a href=\"http://192.168.1.40:4040\">Spark UI</a></p>\n",
       "\n",
       "            <dl>\n",
       "              <dt>Version</dt>\n",
       "                <dd><code>v3.3.4</code></dd>\n",
       "              <dt>Master</dt>\n",
       "                <dd><code>local[*]</code></dd>\n",
       "              <dt>AppName</dt>\n",
       "                <dd><code>ThoghtWorks - Strong Friendship</code></dd>\n",
       "            </dl>\n",
       "        </div>\n",
       "        \n",
       "            </div>\n",
       "        "
      ],
      "text/plain": [
       "<pyspark.sql.session.SparkSession at 0x7b4bac468d00>"
      ]
     },
     "execution_count": 8,
     "metadata": {},
     "output_type": "execute_result"
    }
   ],
   "source": [
    "spark"
   ]
  },
  {
   "cell_type": "markdown",
   "id": "a4fd5af9",
   "metadata": {},
   "source": [
    "# Question"
   ]
  },
  {
   "cell_type": "markdown",
   "id": "dd4b332b",
   "metadata": {},
   "source": [
    "## Write a query to find all the strong friendship. A friendship between a pair of friends if x and y have at three common friends. "
   ]
  },
  {
   "cell_type": "markdown",
   "id": "02a3a710",
   "metadata": {},
   "source": [
    "#### Note that result table should not contain duplicates with user1_id < user2_id"
   ]
  },
  {
   "cell_type": "code",
   "execution_count": 9,
   "id": "3d1f457f",
   "metadata": {},
   "outputs": [
    {
     "name": "stderr",
     "output_type": "stream",
     "text": [
      "                                                                                \r"
     ]
    },
    {
     "name": "stdout",
     "output_type": "stream",
     "text": [
      "+--------+--------+\n",
      "|user1_id|user2_id|\n",
      "+--------+--------+\n",
      "|       1|       2|\n",
      "|       1|       3|\n",
      "|       2|       3|\n",
      "|       1|       4|\n",
      "|       2|       4|\n",
      "|       1|       5|\n",
      "|       2|       5|\n",
      "|       1|       7|\n",
      "|       3|       7|\n",
      "|       1|       6|\n",
      "|       3|       6|\n",
      "|       2|       6|\n",
      "+--------+--------+\n",
      "\n"
     ]
    }
   ],
   "source": [
    "data = [('1','2'), ('1','3'), ('2','3'), ('1','4'), ('2','4'), ('1','5'), ('2','5'), ('1','7'), ('3','7'), ('1','6'), ('3','6'), ('2','6')]\n",
    "schema = ['user1_id', 'user2_id']\n",
    "df = spark.createDataFrame(data, schema)\n",
    "df.show()"
   ]
  },
  {
   "cell_type": "code",
   "execution_count": 24,
   "id": "5e387ee3",
   "metadata": {},
   "outputs": [
    {
     "data": {
      "text/plain": [
       "' 1 = [2, 3, 4, 5, 7, 6]\\n    2 = [3, 4, 5, 6]\\n    3 = [7, 6]\\n    \\n    there are 4 common friends between 1 & 2 they are:[3, 4, 5, 6] \\n              2 common friends between 1 & 3 they are:[7, 6]\\n'"
      ]
     },
     "execution_count": 24,
     "metadata": {},
     "output_type": "execute_result"
    }
   ],
   "source": [
    "\"\"\" 1 = [2, 3, 4, 5, 7, 6]\n",
    "    2 = [3, 4, 5, 6]\n",
    "    3 = [7, 6]\n",
    "    \n",
    "    there are 4 common friends between 1 & 2 they are:[3, 4, 5, 6] \n",
    "              2 common friends between 1 & 3 they are:[7, 6]\n",
    "\"\"\""
   ]
  },
  {
   "cell_type": "markdown",
   "id": "aef568c8",
   "metadata": {},
   "source": [
    "## Solution"
   ]
  },
  {
   "cell_type": "code",
   "execution_count": 10,
   "id": "35f28285",
   "metadata": {},
   "outputs": [
    {
     "name": "stdout",
     "output_type": "stream",
     "text": [
      "+--------+--------+\n",
      "|user1_id|user2_id|\n",
      "+--------+--------+\n",
      "|       2|       1|\n",
      "|       3|       1|\n",
      "|       3|       2|\n",
      "|       4|       1|\n",
      "|       4|       2|\n",
      "|       5|       1|\n",
      "|       5|       2|\n",
      "|       7|       1|\n",
      "|       7|       3|\n",
      "|       6|       1|\n",
      "|       6|       3|\n",
      "|       6|       2|\n",
      "+--------+--------+\n",
      "\n"
     ]
    }
   ],
   "source": [
    "from pyspark.sql.functions import col\n",
    "\n",
    "df1 = df.select(col(\"user2_id\").alias(\"user1_id\"), col(\"user1_id\").alias(\"user2_id\"))\n",
    "df1.show()"
   ]
  },
  {
   "cell_type": "code",
   "execution_count": 11,
   "id": "cdbbba62",
   "metadata": {},
   "outputs": [
    {
     "name": "stdout",
     "output_type": "stream",
     "text": [
      "+--------+--------+\n",
      "|user1_id|user2_id|\n",
      "+--------+--------+\n",
      "|       1|       2|\n",
      "|       1|       3|\n",
      "|       2|       3|\n",
      "|       1|       4|\n",
      "|       2|       4|\n",
      "|       1|       5|\n",
      "|       2|       5|\n",
      "|       1|       7|\n",
      "|       3|       7|\n",
      "|       1|       6|\n",
      "|       3|       6|\n",
      "|       2|       6|\n",
      "|       2|       1|\n",
      "|       3|       1|\n",
      "|       3|       2|\n",
      "|       4|       1|\n",
      "|       4|       2|\n",
      "|       5|       1|\n",
      "|       5|       2|\n",
      "|       7|       1|\n",
      "+--------+--------+\n",
      "only showing top 20 rows\n",
      "\n"
     ]
    }
   ],
   "source": [
    "df_union = df.union(df1)\n",
    "\n",
    "df_union.show()"
   ]
  },
  {
   "cell_type": "code",
   "execution_count": 13,
   "id": "abecfb4b",
   "metadata": {},
   "outputs": [
    {
     "name": "stdout",
     "output_type": "stream",
     "text": [
      "+--------+--------+-----+-----+\n",
      "|user1_id|user2_id|user1|user2|\n",
      "+--------+--------+-----+-----+\n",
      "|       1|       2|    1|    2|\n",
      "|       1|       2|    1|    3|\n",
      "|       1|       2|    2|    3|\n",
      "|       1|       3|    1|    2|\n",
      "|       1|       3|    1|    3|\n",
      "|       1|       3|    2|    3|\n",
      "|       2|       3|    1|    2|\n",
      "|       2|       3|    1|    3|\n",
      "|       2|       3|    2|    3|\n",
      "|       1|       2|    1|    4|\n",
      "|       1|       2|    2|    4|\n",
      "|       1|       2|    1|    5|\n",
      "|       1|       3|    1|    4|\n",
      "|       1|       3|    2|    4|\n",
      "|       1|       3|    1|    5|\n",
      "|       2|       3|    1|    4|\n",
      "|       2|       3|    2|    4|\n",
      "|       2|       3|    1|    5|\n",
      "|       1|       2|    2|    5|\n",
      "|       1|       2|    1|    7|\n",
      "+--------+--------+-----+-----+\n",
      "only showing top 20 rows\n",
      "\n"
     ]
    }
   ],
   "source": [
    "# to do self join\n",
    "\n",
    "df_union_1 = df_union.select(col('user1_id').alias('user1'),col('user2_id').alias('user2'))\n",
    "\n",
    "df_final = df_union.join(df_union_1)\n",
    "\n",
    "df_final.show()"
   ]
  },
  {
   "cell_type": "code",
   "execution_count": 14,
   "id": "84abe410",
   "metadata": {},
   "outputs": [
    {
     "name": "stderr",
     "output_type": "stream",
     "text": [
      "[Stage 12:==================================================>       (7 + 1) / 8]\r"
     ]
    },
    {
     "name": "stdout",
     "output_type": "stream",
     "text": [
      "+--------+--------+-----+-----+\n",
      "|user1_id|user2_id|user1|user2|\n",
      "+--------+--------+-----+-----+\n",
      "|       2|       1|    3|    1|\n",
      "|       2|       1|    4|    1|\n",
      "|       2|       1|    5|    1|\n",
      "|       2|       1|    7|    1|\n",
      "|       2|       1|    6|    1|\n",
      "|       3|       1|    4|    1|\n",
      "|       3|       1|    5|    1|\n",
      "|       3|       1|    7|    1|\n",
      "|       3|       1|    6|    1|\n",
      "|       4|       1|    5|    1|\n",
      "|       4|       1|    7|    1|\n",
      "|       4|       1|    6|    1|\n",
      "|       5|       1|    7|    1|\n",
      "|       5|       1|    6|    1|\n",
      "|       6|       1|    7|    1|\n",
      "|       1|       2|    3|    2|\n",
      "|       1|       2|    4|    2|\n",
      "|       1|       2|    5|    2|\n",
      "|       1|       2|    6|    2|\n",
      "|       3|       2|    4|    2|\n",
      "+--------+--------+-----+-----+\n",
      "only showing top 20 rows\n",
      "\n"
     ]
    },
    {
     "name": "stderr",
     "output_type": "stream",
     "text": [
      "\r",
      "                                                                                \r"
     ]
    }
   ],
   "source": [
    "df_final_1 = df_final.filter((df_union.user1_id < df_union_1.user1) & (df_union.user2_id == df_union_1.user2))\n",
    "\n",
    "df_final_1.show()"
   ]
  },
  {
   "cell_type": "code",
   "execution_count": 22,
   "id": "e9197af4",
   "metadata": {},
   "outputs": [
    {
     "name": "stderr",
     "output_type": "stream",
     "text": [
      "\r",
      "[Stage 50:==============>                                           (2 + 4) / 8]\r",
      "\r",
      "[Stage 50:====================================>                     (5 + 3) / 8]\r"
     ]
    },
    {
     "name": "stdout",
     "output_type": "stream",
     "text": [
      "+--------+-----+-----+\n",
      "|user1_id|user1|count|\n",
      "+--------+-----+-----+\n",
      "|       1|    4|    1|\n",
      "|       4|    6|    2|\n",
      "|       2|    3|    2|\n",
      "|       5|    7|    1|\n",
      "|       1|    2|    4|\n",
      "|       2|    6|    2|\n",
      "|       2|    4|    1|\n",
      "|       1|    5|    1|\n",
      "|       1|    3|    3|\n",
      "|       6|    7|    2|\n",
      "|       3|    5|    2|\n",
      "|       3|    4|    2|\n",
      "|       3|    6|    2|\n",
      "|       1|    7|    1|\n",
      "|       4|    7|    1|\n",
      "|       4|    5|    2|\n",
      "|       1|    6|    2|\n",
      "|       2|    7|    2|\n",
      "|       2|    5|    1|\n",
      "|       3|    7|    1|\n",
      "+--------+-----+-----+\n",
      "only showing top 20 rows\n",
      "\n"
     ]
    },
    {
     "name": "stderr",
     "output_type": "stream",
     "text": [
      "\r",
      "                                                                                \r"
     ]
    }
   ],
   "source": [
    "df_final_2 = df_final_1.groupBy('user1_id', 'user1').count()\n",
    "\n",
    "df_final_2.show()"
   ]
  },
  {
   "cell_type": "code",
   "execution_count": 23,
   "id": "5fc3d98f",
   "metadata": {},
   "outputs": [
    {
     "name": "stderr",
     "output_type": "stream",
     "text": [
      "\r",
      "[Stage 59:=============================>                            (4 + 4) / 8]\r"
     ]
    },
    {
     "name": "stdout",
     "output_type": "stream",
     "text": [
      "+--------+-----+-----+\n",
      "|user1_id|user1|count|\n",
      "+--------+-----+-----+\n",
      "|       1|    2|    4|\n",
      "|       1|    3|    3|\n",
      "+--------+-----+-----+\n",
      "\n"
     ]
    },
    {
     "name": "stderr",
     "output_type": "stream",
     "text": [
      "\r",
      "                                                                                \r"
     ]
    }
   ],
   "source": [
    "df_res = df_final_2.filter(col('count') > 2)\n",
    "\n",
    "df_res.show()"
   ]
  },
  {
   "cell_type": "code",
   "execution_count": null,
   "id": "5d6f3e5d",
   "metadata": {},
   "outputs": [],
   "source": []
  }
 ],
 "metadata": {
  "kernelspec": {
   "display_name": "Python 3 (ipykernel)",
   "language": "python",
   "name": "python3"
  },
  "language_info": {
   "codemirror_mode": {
    "name": "ipython",
    "version": 3
   },
   "file_extension": ".py",
   "mimetype": "text/x-python",
   "name": "python",
   "nbconvert_exporter": "python",
   "pygments_lexer": "ipython3",
   "version": "3.10.12"
  }
 },
 "nbformat": 4,
 "nbformat_minor": 5
}
