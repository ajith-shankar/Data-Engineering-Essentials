{
 "cells": [
  {
   "cell_type": "code",
   "execution_count": 1,
   "id": "27b100ab",
   "metadata": {},
   "outputs": [],
   "source": [
    "import findspark\n",
    "findspark.init()"
   ]
  },
  {
   "cell_type": "code",
   "execution_count": 2,
   "id": "5c1f5492",
   "metadata": {},
   "outputs": [
    {
     "name": "stderr",
     "output_type": "stream",
     "text": [
      "24/02/27 00:11:59 WARN Utils: Your hostname, ajith-Lenovo-G50-80 resolves to a loopback address: 127.0.1.1; using 192.168.1.40 instead (on interface wlp3s0)\n",
      "24/02/27 00:11:59 WARN Utils: Set SPARK_LOCAL_IP if you need to bind to another address\n",
      "24/02/27 00:12:00 WARN NativeCodeLoader: Unable to load native-hadoop library for your platform... using builtin-java classes where applicable\n"
     ]
    }
   ],
   "source": [
    "import pyspark\n",
    "from pyspark.sql import SparkSession\n",
    "\n",
    "spark = SparkSession.builder.appName(\"Find Duplicates\").master(\"local[*]\").getOrCreate()"
   ]
  },
  {
   "cell_type": "code",
   "execution_count": 3,
   "id": "065b85b7",
   "metadata": {},
   "outputs": [
    {
     "data": {
      "text/html": [
       "\n",
       "            <div>\n",
       "                <p><b>SparkSession - in-memory</b></p>\n",
       "                \n",
       "        <div>\n",
       "            <p><b>SparkContext</b></p>\n",
       "\n",
       "            <p><a href=\"http://192.168.1.40:4040\">Spark UI</a></p>\n",
       "\n",
       "            <dl>\n",
       "              <dt>Version</dt>\n",
       "                <dd><code>v3.3.4</code></dd>\n",
       "              <dt>Master</dt>\n",
       "                <dd><code>local[*]</code></dd>\n",
       "              <dt>AppName</dt>\n",
       "                <dd><code>Find Duplicates</code></dd>\n",
       "            </dl>\n",
       "        </div>\n",
       "        \n",
       "            </div>\n",
       "        "
      ],
      "text/plain": [
       "<pyspark.sql.session.SparkSession at 0x7f8d4414d9f0>"
      ]
     },
     "execution_count": 3,
     "metadata": {},
     "output_type": "execute_result"
    }
   ],
   "source": [
    "spark"
   ]
  },
  {
   "cell_type": "markdown",
   "id": "a9eef65a",
   "metadata": {},
   "source": [
    "### Find the duplicate records in a dataframe"
   ]
  },
  {
   "cell_type": "code",
   "execution_count": 7,
   "id": "213ca479",
   "metadata": {},
   "outputs": [],
   "source": [
    "def create_dataframe():\n",
    "    from pyspark.sql.types import StructType, StructField, IntegerType, StringType \n",
    "    \n",
    "    data = [\n",
    "             (1, \"Arjun Patel\", \"Male\", 30, 60000, \"Aarav Sharma\"),\n",
    "             (2, \"Aarav Sharma\", \"Male\", 28, 55000, \"Zara Singh\"),\n",
    "             (3, \"Zara Singh\", \"Female\", 35, 70000, \"Arjun Patel\"),\n",
    "             (4, \"Priya Reddy\", \"Female\", 32, 65000, \"Aarav Sharma\"),\n",
    "             (1, \"Arjun Patel\", \"Male\", 30, 60000, \"Aarav Sharma\"),\n",
    "             (6, \"Naina Verma\", \"Female\", 31, 72000, \"Arjun Patel\"),\n",
    "             (1, \"Arjun Patel\", \"Male\", 30, 60000, \"Aarav Sharma\"),\n",
    "             (4, \"Priya Reddy\", \"Female\", 32, 65000, \"Aarav Sharma\"),\n",
    "             (5, \"Aditya Kapoor\", \"Male\", 28, 58000, \"Zara Singh\"),\n",
    "             (10, \"Anaya Joshi\", \"Female\", 27, 59000, \"Aarav Sharma\"),\n",
    "             (11, \"Rohan Malhotra\", \"Male\", 36, 73000, \"Zara Singh\"),\n",
    "             (3, \"Zara Singh\", \"Female\", 35, 70000, \"Arjun Patel\")\n",
    "            ]\n",
    "    \n",
    "    schema = StructType([\n",
    "                         StructField(\"emp_id\", IntegerType(), True),\n",
    "                         StructField(\"emp_name\", StringType(), True),\n",
    "                         StructField(\"emp_gender\", StringType(), True),\n",
    "                         StructField(\"emp_age\", IntegerType(), True),\n",
    "                         StructField(\"emp_salary\", IntegerType(), True),\n",
    "                         StructField(\"emp_manager\", StringType(), True)\n",
    "                        ])\n",
    "    \n",
    "    return spark.createDataFrame(data=data, schema=schema)"
   ]
  },
  {
   "cell_type": "code",
   "execution_count": 8,
   "id": "c814dbeb",
   "metadata": {},
   "outputs": [
    {
     "name": "stderr",
     "output_type": "stream",
     "text": [
      "                                                                                \r"
     ]
    },
    {
     "name": "stdout",
     "output_type": "stream",
     "text": [
      "+------+--------------+----------+-------+----------+------------+\n",
      "|emp_id|      emp_name|emp_gender|emp_age|emp_salary| emp_manager|\n",
      "+------+--------------+----------+-------+----------+------------+\n",
      "|     1|   Arjun Patel|      Male|     30|     60000|Aarav Sharma|\n",
      "|     2|  Aarav Sharma|      Male|     28|     55000|  Zara Singh|\n",
      "|     3|    Zara Singh|    Female|     35|     70000| Arjun Patel|\n",
      "|     4|   Priya Reddy|    Female|     32|     65000|Aarav Sharma|\n",
      "|     1|   Arjun Patel|      Male|     30|     60000|Aarav Sharma|\n",
      "|     6|   Naina Verma|    Female|     31|     72000| Arjun Patel|\n",
      "|     1|   Arjun Patel|      Male|     30|     60000|Aarav Sharma|\n",
      "|     4|   Priya Reddy|    Female|     32|     65000|Aarav Sharma|\n",
      "|     5| Aditya Kapoor|      Male|     28|     58000|  Zara Singh|\n",
      "|    10|   Anaya Joshi|    Female|     27|     59000|Aarav Sharma|\n",
      "|    11|Rohan Malhotra|      Male|     36|     73000|  Zara Singh|\n",
      "|     3|    Zara Singh|    Female|     35|     70000| Arjun Patel|\n",
      "+------+--------------+----------+-------+----------+------------+\n",
      "\n"
     ]
    }
   ],
   "source": [
    "df = create_dataframe()\n",
    "df.show()"
   ]
  },
  {
   "cell_type": "code",
   "execution_count": 17,
   "id": "3bdb0c75",
   "metadata": {},
   "outputs": [],
   "source": [
    "def solution(df):\n",
    "    from pyspark.sql.functions import col\n",
    "    \n",
    "    group_df = df.groupBy(df.columns).count()\n",
    "    filter_df = group_df.where(col('count')>1)\n",
    "    final_df = filter_df.drop(col('count'))\n",
    "    \n",
    "    return final_df"
   ]
  },
  {
   "cell_type": "code",
   "execution_count": 18,
   "id": "5d8ccabf",
   "metadata": {},
   "outputs": [
    {
     "name": "stdout",
     "output_type": "stream",
     "text": [
      "+------+-----------+----------+-------+----------+------------+\n",
      "|emp_id|   emp_name|emp_gender|emp_age|emp_salary| emp_manager|\n",
      "+------+-----------+----------+-------+----------+------------+\n",
      "|     1|Arjun Patel|      Male|     30|     60000|Aarav Sharma|\n",
      "|     3| Zara Singh|    Female|     35|     70000| Arjun Patel|\n",
      "|     4|Priya Reddy|    Female|     32|     65000|Aarav Sharma|\n",
      "+------+-----------+----------+-------+----------+------------+\n",
      "\n"
     ]
    }
   ],
   "source": [
    "outDf = solution(df)\n",
    "outDf.show()"
   ]
  },
  {
   "cell_type": "code",
   "execution_count": null,
   "id": "7c7ae2f8",
   "metadata": {},
   "outputs": [],
   "source": []
  }
 ],
 "metadata": {
  "kernelspec": {
   "display_name": "Python 3 (ipykernel)",
   "language": "python",
   "name": "python3"
  },
  "language_info": {
   "codemirror_mode": {
    "name": "ipython",
    "version": 3
   },
   "file_extension": ".py",
   "mimetype": "text/x-python",
   "name": "python",
   "nbconvert_exporter": "python",
   "pygments_lexer": "ipython3",
   "version": "3.10.12"
  }
 },
 "nbformat": 4,
 "nbformat_minor": 5
}
