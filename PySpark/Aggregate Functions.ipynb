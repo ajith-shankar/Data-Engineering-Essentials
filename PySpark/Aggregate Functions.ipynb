{
 "cells": [
  {
   "cell_type": "markdown",
   "id": "13ae06d5-7b0c-4233-8bb9-2853d1eb3a3f",
   "metadata": {},
   "source": [
    "# <font color=Blue>Aggregate Functions</font>"
   ]
  },
  {
   "cell_type": "markdown",
   "id": "872d47b6-080f-4745-aae7-02cf2d818436",
   "metadata": {},
   "source": [
    "* Aggregate functions operate on a group of rows and returns a single value"
   ]
  },
  {
   "cell_type": "code",
   "execution_count": null,
   "id": "a650225b-b4eb-4e8c-ae13-ea529f5efb11",
   "metadata": {},
   "outputs": [],
   "source": [
    "simpleData = [(\"James\", \"Sales\", 3000),\n",
    "    (\"Michael\", \"Sales\", 4600),\n",
    "    (\"Robert\", \"Sales\", 4100),\n",
    "    (\"Maria\", \"Finance\", 3000),\n",
    "    (\"James\", \"Sales\", 3000),\n",
    "    (\"Scott\", \"Finance\", 3300),\n",
    "    (\"Jen\", \"Finance\", 3900),\n",
    "    (\"Jeff\", \"Marketing\", 3000),\n",
    "    (\"Kumar\", \"Marketing\", 2000),\n",
    "    (\"Saif\", \"Sales\", 4100)\n",
    "  ]\n",
    "schema = [\"employee_name\", \"department\", \"salary\"]\n",
    "df = spark.createDataFrame(data=simpleData, schema = schema)\n",
    "df.show(truncate=False)"
   ]
  },
  {
   "cell_type": "code",
   "execution_count": null,
   "id": "635b34e3-7042-4ca8-9944-21649bb39935",
   "metadata": {},
   "outputs": [],
   "source": [
    "# Output\n",
    "+-------------+----------+------+\n",
    "|employee_name|department|salary|\n",
    "+-------------+----------+------+\n",
    "|        James|     Sales|  3000|\n",
    "|      Michael|     Sales|  4600|\n",
    "|       Robert|     Sales|  4100|\n",
    "|        Maria|   Finance|  3000|\n",
    "|        James|     Sales|  3000|\n",
    "|        Scott|   Finance|  3300|\n",
    "|          Jen|   Finance|  3900|\n",
    "|         Jeff| Marketing|  3000|\n",
    "|        Kumar| Marketing|  2000|\n",
    "|         Saif|     Sales|  4100|\n",
    "+-------------+----------+------+"
   ]
  },
  {
   "cell_type": "markdown",
   "id": "692997d3-3181-4149-b832-2a248ea19719",
   "metadata": {},
   "source": [
    "### 1) avg()"
   ]
  },
  {
   "cell_type": "code",
   "execution_count": null,
   "id": "039b3f99-588c-4756-b87e-71dae79ad232",
   "metadata": {},
   "outputs": [],
   "source": [
    "res_df = df.select(avg(\"salary\"))\n",
    "res_df.show()"
   ]
  },
  {
   "cell_type": "code",
   "execution_count": null,
   "id": "2f6f8ee0-6046-44ca-a397-e40312b77665",
   "metadata": {},
   "outputs": [],
   "source": [
    "Prints avg: 3400.0"
   ]
  },
  {
   "cell_type": "markdown",
   "id": "2de2434c-9c93-4fcc-b1b9-130de0320dc7",
   "metadata": {},
   "source": [
    "### 2) collecct_list()"
   ]
  },
  {
   "cell_type": "markdown",
   "id": "c719b7eb-d150-43da-bf8e-79b8c434ec0b",
   "metadata": {},
   "source": [
    "* collect_list() returns all values from an input column **with duplicates**"
   ]
  },
  {
   "cell_type": "code",
   "execution_count": null,
   "id": "166d8e4b-3beb-4ae3-a1c7-6304c09d7265",
   "metadata": {},
   "outputs": [],
   "source": [
    "res_df = df.select(collect_list(\"salary\"))\n",
    "res_df.show(truncate=False)"
   ]
  },
  {
   "cell_type": "code",
   "execution_count": null,
   "id": "7d11c839-62bd-4be2-b04a-78edb6ccd3d8",
   "metadata": {},
   "outputs": [],
   "source": [
    "+------------------------------------------------------------+\n",
    "|collect_list(salary)                                        |\n",
    "+------------------------------------------------------------+\n",
    "|[3000, 4600, 4100, 3000, 3000, 3300, 3900, 3000, 2000, 4100]|\n",
    "+------------------------------------------------------------+"
   ]
  },
  {
   "cell_type": "markdown",
   "id": "075a9c56-75f3-4bd9-8a4d-235f42595a6f",
   "metadata": {},
   "source": [
    "### 3) collecct_set()"
   ]
  },
  {
   "cell_type": "markdown",
   "id": "231ac83c-71ff-428f-9e9b-5a1291d7b027",
   "metadata": {},
   "source": [
    "* collect_set() returns all values from an input column **without duplicates**"
   ]
  },
  {
   "cell_type": "code",
   "execution_count": null,
   "id": "96746937-4ef0-4b0b-bb6c-7f1666de2ead",
   "metadata": {},
   "outputs": [],
   "source": [
    "res_df = df.select(collect_set())\n",
    "res_df.show(truncate=False)"
   ]
  },
  {
   "cell_type": "code",
   "execution_count": null,
   "id": "6cf3bb5d-6bf6-4e86-a775-e4a21e901776",
   "metadata": {},
   "outputs": [],
   "source": [
    "+------------------------------------+\n",
    "|collect_set(salary)                 |\n",
    "+------------------------------------+\n",
    "|[4600, 3000, 3900, 4100, 3300, 2000]|\n",
    "+------------------------------------+"
   ]
  },
  {
   "cell_type": "markdown",
   "id": "e191957d-fc0a-419f-9d71-89952737b35f",
   "metadata": {},
   "source": [
    "### 4) countDistinct()"
   ]
  },
  {
   "cell_type": "markdown",
   "id": "ee954839-a615-4b0a-bef3-a117e7a5f5fa",
   "metadata": {},
   "source": [
    "* countDistinct() retruns returns number of distinct elements in a columns"
   ]
  },
  {
   "cell_type": "code",
   "execution_count": null,
   "id": "07dba890-2704-4dad-b6d3-52df31935cce",
   "metadata": {},
   "outputs": [],
   "source": [
    "res_df = df.select(countDistinct(\"department\", \"salary\"))\n",
    "res_df.show()"
   ]
  },
  {
   "cell_type": "markdown",
   "id": "716eb1b3-e8ab-4261-95e1-35f3a057b2db",
   "metadata": {},
   "source": [
    "### 5) count()"
   ]
  },
  {
   "cell_type": "markdown",
   "id": "0ca16965-cd0f-47b8-b593-8d74709ec018",
   "metadata": {},
   "source": [
    "* count() returns number of elements in a column"
   ]
  },
  {
   "cell_type": "code",
   "execution_count": null,
   "id": "bf5086e7-eb7b-42b2-954c-330de14f2255",
   "metadata": {},
   "outputs": [],
   "source": [
    "res_df = df.select(count(\"salary\"))\n",
    "res_df.collect()\n",
    "# 10"
   ]
  },
  {
   "cell_type": "markdown",
   "id": "3e0804ca-9117-4e45-9bf5-cac769c753d6",
   "metadata": {},
   "source": [
    "### 6) first()"
   ]
  },
  {
   "cell_type": "markdown",
   "id": "f8dc59c7-1537-46e8-986f-025179c8b8b0",
   "metadata": {},
   "source": [
    "* first() function returns first element in a column. It returns first non-null element."
   ]
  },
  {
   "cell_type": "code",
   "execution_count": null,
   "id": "ca3f5ff7-0c34-41fb-8771-31ca10377324",
   "metadata": {},
   "outputs": [],
   "source": [
    "res_df = df.select(first(\"salary\")).show()\n",
    "# 3000"
   ]
  },
  {
   "cell_type": "markdown",
   "id": "1be417c5-3415-40a5-90fa-c4ae04ed6fb4",
   "metadata": {},
   "source": [
    "### 7) last()"
   ]
  },
  {
   "cell_type": "markdown",
   "id": "d9e91e44-f65c-4e98-bd2d-c7a3c9ae8e24",
   "metadata": {},
   "source": [
    "* last() function returns last element in a column. It retuns last non-null element."
   ]
  },
  {
   "cell_type": "code",
   "execution_count": null,
   "id": "5702240a-7efe-4f86-b827-9c4ef62d0458",
   "metadata": {},
   "outputs": [],
   "source": [
    "res_df = df.select(last(\"salary\")).show()\n",
    "# 4100"
   ]
  },
  {
   "cell_type": "markdown",
   "id": "e6ef183c-5da2-4bd9-a832-a3cc212952f3",
   "metadata": {},
   "source": [
    "### 8) max()"
   ]
  },
  {
   "cell_type": "code",
   "execution_count": null,
   "id": "80fd45f4-01e4-422b-80a2-46e04b59be07",
   "metadata": {},
   "outputs": [],
   "source": [
    "res_df = df.select(max(\"salary\")).show()\n",
    "# returns max value of the column\n",
    "# 4600"
   ]
  },
  {
   "cell_type": "markdown",
   "id": "4dcfa04d-f7e7-4571-b763-0b7a0c6a0980",
   "metadata": {},
   "source": [
    "### 9) min()"
   ]
  },
  {
   "cell_type": "code",
   "execution_count": null,
   "id": "8e909768-20d6-4c65-b7a0-59f38f260023",
   "metadata": {},
   "outputs": [],
   "source": [
    "res_df = df.select(min(\"salary\"))\n",
    "# retunrs min value of the column\n",
    "# 2000"
   ]
  },
  {
   "cell_type": "markdown",
   "id": "540fb878-e69c-42f5-b36a-e1e045b00116",
   "metadata": {},
   "source": [
    "### 10) mean()"
   ]
  },
  {
   "cell_type": "code",
   "execution_count": null,
   "id": "debf0374-7855-4e0d-a7f2-a98915a59e87",
   "metadata": {},
   "outputs": [],
   "source": [
    "res_df = df.select(mean(\"salary\"))\n",
    "# returns average of the values of a column\n",
    "# 3400"
   ]
  },
  {
   "cell_type": "markdown",
   "id": "0099e95b-7b80-4bf2-9bc1-707d129e1785",
   "metadata": {},
   "source": [
    "### 11) sum()"
   ]
  },
  {
   "cell_type": "markdown",
   "id": "09436e94-7090-4502-b504-11a122566831",
   "metadata": {},
   "source": [
    "* returns sum of all the values in a column"
   ]
  },
  {
   "cell_type": "code",
   "execution_count": null,
   "id": "9dd61f90-e427-49ae-b4a6-1c5ee800b80e",
   "metadata": {},
   "outputs": [],
   "source": [
    "res_df = df.select(sum(\"salary\"))\n",
    "# 34,000"
   ]
  },
  {
   "cell_type": "markdown",
   "id": "852f6e35-8225-4186-a07a-151e20bc1e4b",
   "metadata": {},
   "source": [
    "### 12) sumDistinct()"
   ]
  },
  {
   "cell_type": "markdown",
   "id": "0202006f-92d9-4499-aba7-eb23e27c7a74",
   "metadata": {},
   "source": [
    "* Returns sum of all distinct values in a column"
   ]
  },
  {
   "cell_type": "code",
   "execution_count": null,
   "id": "c943825f-b8b2-40d5-8cd7-6b718e8f1ef5",
   "metadata": {},
   "outputs": [],
   "source": [
    "res_df = df.select(sumDistinct(\"salary\"))\n",
    "# 21,900"
   ]
  },
  {
   "cell_type": "markdown",
   "id": "f272c352-5392-4fc9-a2cf-f6c6216bcaba",
   "metadata": {},
   "source": [
    "### 13) stddev() *or* stddev_samp()"
   ]
  },
  {
   "cell_type": "markdown",
   "id": "0d4d9e61-4b35-40c4-b1ca-e124873ce909",
   "metadata": {},
   "source": [
    "* stddev() and stddev_samp() returns sample standard deviation of values in a column"
   ]
  },
  {
   "cell_type": "code",
   "execution_count": null,
   "id": "4b130a14-c33c-4520-bf83-568b8c1159f2",
   "metadata": {},
   "outputs": [],
   "source": [
    "res_df = df.select(stddev(\"salary\"), stddev_samp(\"salary\"))\n",
    "res_df.show()"
   ]
  },
  {
   "cell_type": "markdown",
   "id": "f93f5e95-4efa-4dbf-a88c-338d0036e2ad",
   "metadata": {},
   "source": [
    "### 14) stddev_pop()"
   ]
  },
  {
   "cell_type": "markdown",
   "id": "effb2a29-0f53-4f4a-b578-720fccb04ed6",
   "metadata": {},
   "source": [
    "* stddev_pop() returns population standard deviation of values in a column"
   ]
  },
  {
   "cell_type": "code",
   "execution_count": null,
   "id": "fa948700-e9b5-4324-acdb-a7c1ea18e762",
   "metadata": {},
   "outputs": [],
   "source": [
    "res_df = df.select(stddev_pop(\"salary\"))"
   ]
  },
  {
   "cell_type": "markdown",
   "id": "74497d2c-a90c-40f1-9cb8-5525c4831ac1",
   "metadata": {},
   "source": [
    "### 15) variance() *or* var_samp()"
   ]
  },
  {
   "cell_type": "markdown",
   "id": "81112db7-35d2-4d56-8902-18f0de62aa34",
   "metadata": {},
   "source": [
    "* returns unbiased variance of the values in a column"
   ]
  },
  {
   "cell_type": "code",
   "execution_count": null,
   "id": "08d21377-f8a5-47be-aa7a-df08bfddbb7c",
   "metadata": {},
   "outputs": [],
   "source": [
    "res_df = df.select(variance(\"salary\"), var_samp(\"salary\"))"
   ]
  },
  {
   "cell_type": "markdown",
   "id": "4b05b212-4e57-4da5-bd88-0a68fe688f31",
   "metadata": {},
   "source": [
    "### 16) var_pop()"
   ]
  },
  {
   "cell_type": "markdown",
   "id": "608b63c8-2a07-487c-9bd1-3be1aeeea52e",
   "metadata": {},
   "source": [
    "* returns population variance of the values in a column"
   ]
  },
  {
   "cell_type": "code",
   "execution_count": null,
   "id": "b6571c37-4325-4aa5-8b99-af106d6f949d",
   "metadata": {},
   "outputs": [],
   "source": [
    "res_df = df.select(var_pop(\"salary\"))"
   ]
  }
 ],
 "metadata": {
  "kernelspec": {
   "display_name": "Python 3 (ipykernel)",
   "language": "python",
   "name": "python3"
  },
  "language_info": {
   "codemirror_mode": {
    "name": "ipython",
    "version": 3
   },
   "file_extension": ".py",
   "mimetype": "text/x-python",
   "name": "python",
   "nbconvert_exporter": "python",
   "pygments_lexer": "ipython3",
   "version": "3.12.1"
  }
 },
 "nbformat": 4,
 "nbformat_minor": 5
}
