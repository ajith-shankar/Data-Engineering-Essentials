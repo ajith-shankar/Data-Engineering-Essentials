{
 "cells": [
  {
   "cell_type": "code",
   "execution_count": 1,
   "id": "0e412ac9",
   "metadata": {},
   "outputs": [],
   "source": [
    "import findspark\n",
    "findspark.init()"
   ]
  },
  {
   "cell_type": "code",
   "execution_count": 2,
   "id": "80dee07a",
   "metadata": {},
   "outputs": [
    {
     "name": "stderr",
     "output_type": "stream",
     "text": [
      "24/03/28 00:01:45 WARN Utils: Your hostname, ajith-Lenovo-G50-80 resolves to a loopback address: 127.0.1.1; using 192.168.1.40 instead (on interface wlp3s0)\n",
      "24/03/28 00:01:45 WARN Utils: Set SPARK_LOCAL_IP if you need to bind to another address\n",
      "24/03/28 00:01:45 WARN NativeCodeLoader: Unable to load native-hadoop library for your platform... using builtin-java classes where applicable\n"
     ]
    }
   ],
   "source": [
    "import pyspark\n",
    "from pyspark.sql import SparkSession\n",
    "\n",
    "spark = SparkSession.builder.appName(\"Nagarro - Airline Data\").master(\"local[*]\").getOrCreate()"
   ]
  },
  {
   "cell_type": "code",
   "execution_count": 3,
   "id": "0e6965fe",
   "metadata": {},
   "outputs": [
    {
     "data": {
      "text/html": [
       "\n",
       "            <div>\n",
       "                <p><b>SparkSession - in-memory</b></p>\n",
       "                \n",
       "        <div>\n",
       "            <p><b>SparkContext</b></p>\n",
       "\n",
       "            <p><a href=\"http://192.168.1.40:4040\">Spark UI</a></p>\n",
       "\n",
       "            <dl>\n",
       "              <dt>Version</dt>\n",
       "                <dd><code>v3.3.4</code></dd>\n",
       "              <dt>Master</dt>\n",
       "                <dd><code>local[*]</code></dd>\n",
       "              <dt>AppName</dt>\n",
       "                <dd><code>Nagarro - Airline Data</code></dd>\n",
       "            </dl>\n",
       "        </div>\n",
       "        \n",
       "            </div>\n",
       "        "
      ],
      "text/plain": [
       "<pyspark.sql.session.SparkSession at 0x7cfc94759b70>"
      ]
     },
     "execution_count": 3,
     "metadata": {},
     "output_type": "execute_result"
    }
   ],
   "source": [
    "spark"
   ]
  },
  {
   "cell_type": "markdown",
   "id": "eb8b91ed",
   "metadata": {},
   "source": [
    "# Question"
   ]
  },
  {
   "cell_type": "markdown",
   "id": "b75f799b",
   "metadata": {},
   "source": [
    "## List the airlines that operate flights to all available destination"
   ]
  },
  {
   "cell_type": "code",
   "execution_count": 14,
   "id": "5ab99018",
   "metadata": {},
   "outputs": [
    {
     "name": "stdout",
     "output_type": "stream",
     "text": [
      "+----------+------------+\n",
      "|airline_id|airline_name|\n",
      "+----------+------------+\n",
      "|         1|   Airline A|\n",
      "|         2|   Airline B|\n",
      "|         3|   Airline C|\n",
      "+----------+------------+\n",
      "\n"
     ]
    }
   ],
   "source": [
    "airline_data = [(1, 'Airline A'), (2, 'Airline B'), (3, 'Airline C')]\n",
    "airline_schema = ['airline_id', 'airline_name']\n",
    "\n",
    "airline_df = spark.createDataFrame(airline_data, airline_schema)\n",
    "airline_df.show()"
   ]
  },
  {
   "cell_type": "code",
   "execution_count": 11,
   "id": "b47355d4",
   "metadata": {},
   "outputs": [
    {
     "name": "stdout",
     "output_type": "stream",
     "text": [
      "+---------+----------+----------+\n",
      "|flight_id|airline_id|airport_id|\n",
      "+---------+----------+----------+\n",
      "|        1|         1|       101|\n",
      "|        2|         1|       102|\n",
      "|        3|         2|       101|\n",
      "|        4|         2|       103|\n",
      "|        5|         3|       101|\n",
      "|        6|         3|       102|\n",
      "|        7|         3|       103|\n",
      "+---------+----------+----------+\n",
      "\n"
     ]
    }
   ],
   "source": [
    "flight_data = [(1,1,101), (2,1,102), (3,2,101), (4,2,103), (5,3,101), (6,3,102), (7,3,103)]\n",
    "flight_schema = ['flight_id', 'airline_id', 'airport_id']\n",
    "\n",
    "flight_df = spark.createDataFrame(flight_data, flight_schema)\n",
    "flight_df.show()"
   ]
  },
  {
   "cell_type": "markdown",
   "id": "0c8494a3",
   "metadata": {},
   "source": [
    "## Solution"
   ]
  },
  {
   "cell_type": "code",
   "execution_count": 12,
   "id": "d29a7a91",
   "metadata": {},
   "outputs": [
    {
     "data": {
      "text/plain": [
       "3"
      ]
     },
     "metadata": {},
     "output_type": "display_data"
    }
   ],
   "source": [
    "count_airport = flight_df.select('airport_id').distinct().count()\n",
    "display(count_airport)"
   ]
  },
  {
   "cell_type": "code",
   "execution_count": 18,
   "id": "39500cb5",
   "metadata": {},
   "outputs": [
    {
     "name": "stdout",
     "output_type": "stream",
     "text": [
      "+----------+----------------------+\n",
      "|airline_id|distinct_airport_count|\n",
      "+----------+----------------------+\n",
      "|         1|                     2|\n",
      "|         3|                     3|\n",
      "|         2|                     2|\n",
      "+----------+----------------------+\n",
      "\n"
     ]
    }
   ],
   "source": [
    "from pyspark.sql.functions import countDistinct, col\n",
    "\n",
    "flight_filter_df = flight_df.groupBy('airline_id').agg(countDistinct('airport_id').alias('distinct_airport_count'))\n",
    "flight_filter_df.show()"
   ]
  },
  {
   "cell_type": "code",
   "execution_count": 19,
   "id": "0aa6d732",
   "metadata": {},
   "outputs": [
    {
     "name": "stdout",
     "output_type": "stream",
     "text": [
      "+----------+----------------------+\n",
      "|airline_id|distinct_airport_count|\n",
      "+----------+----------------------+\n",
      "|         3|                     3|\n",
      "+----------+----------------------+\n",
      "\n"
     ]
    }
   ],
   "source": [
    "filter_df = flight_filter_df.filter(col('distinct_airport_count') == count_airport)\n",
    "filter_df.show()"
   ]
  },
  {
   "cell_type": "code",
   "execution_count": 20,
   "id": "e265d11e",
   "metadata": {},
   "outputs": [
    {
     "name": "stderr",
     "output_type": "stream",
     "text": [
      "\r",
      "[Stage 51:==============>                                           (1 + 3) / 4]\r"
     ]
    },
    {
     "name": "stdout",
     "output_type": "stream",
     "text": [
      "+----------+------------+\n",
      "|airline_id|airline_name|\n",
      "+----------+------------+\n",
      "|         3|   Airline C|\n",
      "+----------+------------+\n",
      "\n"
     ]
    },
    {
     "name": "stderr",
     "output_type": "stream",
     "text": [
      "\r",
      "                                                                                \r"
     ]
    }
   ],
   "source": [
    "df_res = filter_df.join(airline_df,['airline_id']).select('airline_id', 'airline_name')\n",
    "df_res.show()"
   ]
  },
  {
   "cell_type": "code",
   "execution_count": null,
   "id": "1c1a7043",
   "metadata": {},
   "outputs": [],
   "source": []
  }
 ],
 "metadata": {
  "kernelspec": {
   "display_name": "Python 3 (ipykernel)",
   "language": "python",
   "name": "python3"
  },
  "language_info": {
   "codemirror_mode": {
    "name": "ipython",
    "version": 3
   },
   "file_extension": ".py",
   "mimetype": "text/x-python",
   "name": "python",
   "nbconvert_exporter": "python",
   "pygments_lexer": "ipython3",
   "version": "3.10.12"
  }
 },
 "nbformat": 4,
 "nbformat_minor": 5
}
