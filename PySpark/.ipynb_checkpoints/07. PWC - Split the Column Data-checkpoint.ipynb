{
 "cells": [
  {
   "cell_type": "code",
   "execution_count": 32,
   "id": "3cbd629b-1ead-4214-9768-9f90c548e8d8",
   "metadata": {},
   "outputs": [],
   "source": [
    "import findspark\n",
    "findspark.init()"
   ]
  },
  {
   "cell_type": "code",
   "execution_count": 33,
   "id": "9c0c6cc3-2660-49a0-87cc-18cfe0eb9a2a",
   "metadata": {},
   "outputs": [],
   "source": [
    "import pyspark\n",
    "from pyspark.sql import SparkSession\n",
    "\n",
    "spark = SparkSession.builder.appName(\"PWC - Split the Column Data\").master(\"local[*]\").getOrCreate()"
   ]
  },
  {
   "cell_type": "code",
   "execution_count": 34,
   "id": "bf2c15c0",
   "metadata": {},
   "outputs": [
    {
     "data": {
      "text/html": [
       "\n",
       "            <div>\n",
       "                <p><b>SparkSession - in-memory</b></p>\n",
       "                \n",
       "        <div>\n",
       "            <p><b>SparkContext</b></p>\n",
       "\n",
       "            <p><a href=\"http://192.168.1.40:4040\">Spark UI</a></p>\n",
       "\n",
       "            <dl>\n",
       "              <dt>Version</dt>\n",
       "                <dd><code>v3.3.4</code></dd>\n",
       "              <dt>Master</dt>\n",
       "                <dd><code>local[*]</code></dd>\n",
       "              <dt>AppName</dt>\n",
       "                <dd><code>PWC - Split the Column Data</code></dd>\n",
       "            </dl>\n",
       "        </div>\n",
       "        \n",
       "            </div>\n",
       "        "
      ],
      "text/plain": [
       "<pyspark.sql.session.SparkSession at 0x73140c3173d0>"
      ]
     },
     "execution_count": 34,
     "metadata": {},
     "output_type": "execute_result"
    }
   ],
   "source": [
    "spark"
   ]
  },
  {
   "cell_type": "markdown",
   "id": "adb5967e",
   "metadata": {},
   "source": [
    "## Generate Employee Street, City and Country by using Emp_Addr column"
   ]
  },
  {
   "cell_type": "code",
   "execution_count": 36,
   "id": "cb35515f",
   "metadata": {},
   "outputs": [
    {
     "name": "stdout",
     "output_type": "stream",
     "text": [
      "+------+--------+-------------------------------+\n",
      "|emp_id|emp_name|emp_addr                       |\n",
      "+------+--------+-------------------------------+\n",
      "|1     |Alice   |123 Main Street, New York, USA |\n",
      "|2     |Bob     |456 Oak Avenue, Francisco, USA |\n",
      "|3     |Carol   |789 Pine Road, Los Angeles, USA|\n",
      "|4     |David   |321 Elm Lane, Chicago, USA     |\n",
      "|5     |Emily   |654 Maple Drive, Miami, USA    |\n",
      "+------+--------+-------------------------------+\n",
      "\n",
      "+------+--------+-------------------------------+\n",
      "|emp_id|emp_name|emp_addr                       |\n",
      "+------+--------+-------------------------------+\n",
      "|1     |Alice   |123 Main Street, New York, USA |\n",
      "|2     |Bob     |456 Oak Avenue, Francisco, USA |\n",
      "|3     |Carol   |789 Pine Road, Los Angeles, USA|\n",
      "|4     |David   |321 Elm Lane, Chicago, USA     |\n",
      "|5     |Emily   |654 Maple Drive, Miami, USA    |\n",
      "+------+--------+-------------------------------+\n",
      "\n"
     ]
    }
   ],
   "source": [
    "# read using .format method\n",
    "df = spark.read.format(\"csv\") \\\n",
    "                .option(\"header\", True) \\\n",
    "                .option(\"delimiter\", \"|\") \\\n",
    "                .load(\"file:///home/hadoop/Downloads/tableConvert.com_ll5ppr.csv\")\n",
    "\n",
    "df.show(truncate=False)\n",
    "\n",
    "# read using .csv method\n",
    "df2 = spark.read.csv(\"file:///home/hadoop/Downloads/tableConvert.com_ll5ppr.csv\", header=True, sep=\"|\")\n",
    "\n",
    "df2.show(truncate=False)"
   ]
  },
  {
   "cell_type": "code",
   "execution_count": 37,
   "id": "d2d8e209",
   "metadata": {},
   "outputs": [
    {
     "name": "stdout",
     "output_type": "stream",
     "text": [
      "+------+--------+---------------+------------+-------+\n",
      "|emp_id|emp_name|street         |city        |country|\n",
      "+------+--------+---------------+------------+-------+\n",
      "|1     |Alice   |123 Main Street| New York   | USA   |\n",
      "|2     |Bob     |456 Oak Avenue | Francisco  | USA   |\n",
      "|3     |Carol   |789 Pine Road  | Los Angeles| USA   |\n",
      "|4     |David   |321 Elm Lane   | Chicago    | USA   |\n",
      "|5     |Emily   |654 Maple Drive| Miami      | USA   |\n",
      "+------+--------+---------------+------------+-------+\n",
      "\n"
     ]
    }
   ],
   "source": [
    "from pyspark.sql.functions import split\n",
    "\n",
    "df_res = df.withColumn(\"street\", split(\"emp_addr\", \",\")[0]) \\\n",
    "            .withColumn(\"city\", split(\"emp_addr\", \",\")[1]) \\\n",
    "            .withColumn(\"country\", split(\"emp_addr\", \",\")[2]) \\\n",
    "            .drop(\"emp_addr\")\n",
    "\n",
    "df_res.show(truncate=False)"
   ]
  },
  {
   "cell_type": "code",
   "execution_count": 38,
   "id": "5f954a2e",
   "metadata": {},
   "outputs": [
    {
     "name": "stdout",
     "output_type": "stream",
     "text": [
      "== Physical Plan ==\n",
      "*(1) Project [emp_id#697, emp_name#698, split(emp_addr#699, ,, -1)[0] AS street#760, split(emp_addr#699, ,, -1)[1] AS city#765, split(emp_addr#699, ,, -1)[2] AS country#771]\n",
      "+- FileScan csv [emp_id#697,emp_name#698,emp_addr#699] Batched: false, DataFilters: [], Format: CSV, Location: InMemoryFileIndex(1 paths)[file:/home/hadoop/Downloads/tableConvert.com_ll5ppr.csv], PartitionFilters: [], PushedFilters: [], ReadSchema: struct<emp_id:string,emp_name:string,emp_addr:string>\n",
      "\n",
      "\n"
     ]
    }
   ],
   "source": [
    "df_res.explain()"
   ]
  },
  {
   "cell_type": "code",
   "execution_count": 31,
   "id": "06dec0b6",
   "metadata": {},
   "outputs": [],
   "source": [
    "spark.stop()"
   ]
  }
 ],
 "metadata": {
  "kernelspec": {
   "display_name": "Python 3 (ipykernel)",
   "language": "python",
   "name": "python3"
  },
  "language_info": {
   "codemirror_mode": {
    "name": "ipython",
    "version": 3
   },
   "file_extension": ".py",
   "mimetype": "text/x-python",
   "name": "python",
   "nbconvert_exporter": "python",
   "pygments_lexer": "ipython3",
   "version": "3.10.12"
  }
 },
 "nbformat": 4,
 "nbformat_minor": 5
}
