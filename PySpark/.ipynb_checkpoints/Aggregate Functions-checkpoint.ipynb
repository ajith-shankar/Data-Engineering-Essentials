{
 "cells": [
  {
   "cell_type": "markdown",
   "id": "13ae06d5-7b0c-4233-8bb9-2853d1eb3a3f",
   "metadata": {},
   "source": [
    "# <font color=Blue>Aggregate Functions</font>"
   ]
  },
  {
   "cell_type": "markdown",
   "id": "872d47b6-080f-4745-aae7-02cf2d818436",
   "metadata": {},
   "source": [
    "* Aggregate functions operate on a group of rows and returns a single value"
   ]
  },
  {
   "cell_type": "code",
   "execution_count": null,
   "id": "a650225b-b4eb-4e8c-ae13-ea529f5efb11",
   "metadata": {},
   "outputs": [],
   "source": [
    "simpleData = [(\"James\", \"Sales\", 3000),\n",
    "    (\"Michael\", \"Sales\", 4600),\n",
    "    (\"Robert\", \"Sales\", 4100),\n",
    "    (\"Maria\", \"Finance\", 3000),\n",
    "    (\"James\", \"Sales\", 3000),\n",
    "    (\"Scott\", \"Finance\", 3300),\n",
    "    (\"Jen\", \"Finance\", 3900),\n",
    "    (\"Jeff\", \"Marketing\", 3000),\n",
    "    (\"Kumar\", \"Marketing\", 2000),\n",
    "    (\"Saif\", \"Sales\", 4100)\n",
    "  ]\n",
    "schema = [\"employee_name\", \"department\", \"salary\"]\n",
    "df = spark.createDataFrame(data=simpleData, schema = schema)\n",
    "df.show(truncate=False)"
   ]
  },
  {
   "cell_type": "code",
   "execution_count": null,
   "id": "635b34e3-7042-4ca8-9944-21649bb39935",
   "metadata": {},
   "outputs": [],
   "source": [
    "# Output\n",
    "+-------------+----------+------+\n",
    "|employee_name|department|salary|\n",
    "+-------------+----------+------+\n",
    "|        James|     Sales|  3000|\n",
    "|      Michael|     Sales|  4600|\n",
    "|       Robert|     Sales|  4100|\n",
    "|        Maria|   Finance|  3000|\n",
    "|        James|     Sales|  3000|\n",
    "|        Scott|   Finance|  3300|\n",
    "|          Jen|   Finance|  3900|\n",
    "|         Jeff| Marketing|  3000|\n",
    "|        Kumar| Marketing|  2000|\n",
    "|         Saif|     Sales|  4100|\n",
    "+-------------+----------+------+"
   ]
  },
  {
   "cell_type": "markdown",
   "id": "692997d3-3181-4149-b832-2a248ea19719",
   "metadata": {},
   "source": [
    "### 1) avg()"
   ]
  },
  {
   "cell_type": "code",
   "execution_count": null,
   "id": "039b3f99-588c-4756-b87e-71dae79ad232",
   "metadata": {},
   "outputs": [],
   "source": [
    "res_df = df.select(avg(\"salary\"))\n",
    "res_df.show()"
   ]
  },
  {
   "cell_type": "markdown",
   "id": "2de2434c-9c93-4fcc-b1b9-130de0320dc7",
   "metadata": {},
   "source": [
    "### 2) collecct_list()"
   ]
  },
  {
   "cell_type": "code",
   "execution_count": null,
   "id": "166d8e4b-3beb-4ae3-a1c7-6304c09d7265",
   "metadata": {},
   "outputs": [],
   "source": []
  }
 ],
 "metadata": {
  "kernelspec": {
   "display_name": "Python 3 (ipykernel)",
   "language": "python",
   "name": "python3"
  },
  "language_info": {
   "codemirror_mode": {
    "name": "ipython",
    "version": 3
   },
   "file_extension": ".py",
   "mimetype": "text/x-python",
   "name": "python",
   "nbconvert_exporter": "python",
   "pygments_lexer": "ipython3",
   "version": "3.12.1"
  }
 },
 "nbformat": 4,
 "nbformat_minor": 5
}
