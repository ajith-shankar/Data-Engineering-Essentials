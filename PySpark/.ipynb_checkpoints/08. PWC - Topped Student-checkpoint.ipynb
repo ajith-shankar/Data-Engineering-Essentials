{
 "cells": [
  {
   "cell_type": "code",
   "execution_count": 1,
   "id": "d925bf2d",
   "metadata": {},
   "outputs": [],
   "source": [
    "import findspark\n",
    "findspark.init()"
   ]
  },
  {
   "cell_type": "code",
   "execution_count": 17,
   "id": "86dbafeb",
   "metadata": {},
   "outputs": [
    {
     "name": "stderr",
     "output_type": "stream",
     "text": [
      "24/04/21 23:43:50 WARN Utils: Service 'SparkUI' could not bind on port 4040. Attempting port 4041.\n"
     ]
    }
   ],
   "source": [
    "import pyspark\n",
    "from pyspark.sql import SparkSession\n",
    "\n",
    "spark = SparkSession.builder.appName(\"PWC - Topped Student\").master(\"local[*]\").getOrCreate()"
   ]
  },
  {
   "cell_type": "code",
   "execution_count": 18,
   "id": "fcfe83c9",
   "metadata": {},
   "outputs": [
    {
     "data": {
      "text/html": [
       "\n",
       "            <div>\n",
       "                <p><b>SparkSession - in-memory</b></p>\n",
       "                \n",
       "        <div>\n",
       "            <p><b>SparkContext</b></p>\n",
       "\n",
       "            <p><a href=\"http://192.168.1.40:4041\">Spark UI</a></p>\n",
       "\n",
       "            <dl>\n",
       "              <dt>Version</dt>\n",
       "                <dd><code>v3.3.4</code></dd>\n",
       "              <dt>Master</dt>\n",
       "                <dd><code>local[*]</code></dd>\n",
       "              <dt>AppName</dt>\n",
       "                <dd><code>PWC - Topped Student</code></dd>\n",
       "            </dl>\n",
       "        </div>\n",
       "        \n",
       "            </div>\n",
       "        "
      ],
      "text/plain": [
       "<pyspark.sql.session.SparkSession at 0x7bed5676cc40>"
      ]
     },
     "execution_count": 18,
     "metadata": {},
     "output_type": "execute_result"
    }
   ],
   "source": [
    "spark"
   ]
  },
  {
   "cell_type": "code",
   "execution_count": 19,
   "id": "df4dc290",
   "metadata": {},
   "outputs": [
    {
     "data": {
      "text/plain": [
       "4"
      ]
     },
     "execution_count": 19,
     "metadata": {},
     "output_type": "execute_result"
    }
   ],
   "source": [
    "spark.sparkContext.defaultParallelism"
   ]
  },
  {
   "cell_type": "markdown",
   "id": "72b49eed",
   "metadata": {},
   "source": [
    "## Get the Student ID of the student who topped in the respective subjects"
   ]
  },
  {
   "cell_type": "code",
   "execution_count": 21,
   "id": "c50e275d",
   "metadata": {},
   "outputs": [
    {
     "name": "stderr",
     "output_type": "stream",
     "text": [
      "                                                                                \r"
     ]
    },
    {
     "name": "stdout",
     "output_type": "stream",
     "text": [
      "+------+--------+-----+\n",
      "|Std_id|Subjects|Marks|\n",
      "+------+--------+-----+\n",
      "|     1|    Math|   90|\n",
      "|     1| Science|   93|\n",
      "|     1| History|   85|\n",
      "|     2|    Math|   85|\n",
      "|     2| Science|   79|\n",
      "|     2| History|   96|\n",
      "|     3| Science|   87|\n",
      "|     3|    Math|   95|\n",
      "|     3| History|   77|\n",
      "|     4|    Math|   78|\n",
      "|     4| Science|   91|\n",
      "|     4| History|   90|\n",
      "|     5|    Math|   92|\n",
      "|     5| Science|   84|\n",
      "|     5| History|   88|\n",
      "+------+--------+-----+\n",
      "\n"
     ]
    }
   ],
   "source": [
    "data = [(1, 'Math', 90),\n",
    "        (1, 'Science', 93),\n",
    "        (1, 'History', 85),\n",
    "        (2, 'Math', 85),\n",
    "        (2, 'Science', 79),\n",
    "        (2, 'History', 96),\n",
    "        (3, 'Science', 87),\n",
    "        (3, 'Math', 95),\n",
    "        (3, 'History', 77),\n",
    "        (4, 'Math', 78),\n",
    "        (4, 'Science', 91),\n",
    "        (4, 'History', 90),\n",
    "        (5, 'Math', 92),\n",
    "        (5, 'Science', 84),\n",
    "        (5, 'History', 88)    \n",
    "]\n",
    "\n",
    "\n",
    "schema = [\"Std_id\", \"Subjects\", \"Marks\"]\n",
    "\n",
    "\n",
    "df = spark.createDataFrame(data=data, schema=schema)\n",
    "\n",
    "df.show()"
   ]
  },
  {
   "cell_type": "code",
   "execution_count": 28,
   "id": "586c120d",
   "metadata": {},
   "outputs": [
    {
     "name": "stdout",
     "output_type": "stream",
     "text": [
      "+------+--------+-----+----+\n",
      "|Std_id|Subjects|Marks|Rank|\n",
      "+------+--------+-----+----+\n",
      "|     2| History|   96|   1|\n",
      "|     4| History|   90|   2|\n",
      "|     5| History|   88|   3|\n",
      "|     1| History|   85|   4|\n",
      "|     3| History|   77|   5|\n",
      "|     3|    Math|   95|   1|\n",
      "|     5|    Math|   92|   2|\n",
      "|     1|    Math|   90|   3|\n",
      "|     2|    Math|   85|   4|\n",
      "|     4|    Math|   78|   5|\n",
      "|     1| Science|   93|   1|\n",
      "|     4| Science|   91|   2|\n",
      "|     3| Science|   87|   3|\n",
      "|     5| Science|   84|   4|\n",
      "|     2| Science|   79|   5|\n",
      "+------+--------+-----+----+\n",
      "\n"
     ]
    }
   ],
   "source": [
    "from pyspark.sql.window import Window\n",
    "from pyspark.sql.functions import rank, desc, col\n",
    "\n",
    "df_rnk = df.withColumn(\"Rank\", rank().over(Window.partitionBy(\"Subjects\").orderBy(desc(\"Marks\"))))\n",
    "\n",
    "df_rnk.show()"
   ]
  },
  {
   "cell_type": "code",
   "execution_count": 30,
   "id": "6b2e785a",
   "metadata": {},
   "outputs": [
    {
     "name": "stdout",
     "output_type": "stream",
     "text": [
      "+------+--------+-----+\n",
      "|Std_id|Subjects|Marks|\n",
      "+------+--------+-----+\n",
      "|     2| History|   96|\n",
      "|     3|    Math|   95|\n",
      "|     1| Science|   93|\n",
      "+------+--------+-----+\n",
      "\n"
     ]
    }
   ],
   "source": [
    "df_res = df_rnk.filter(col(\"Rank\") == 1).drop(\"Rank\")\n",
    "\n",
    "df_res.show()"
   ]
  },
  {
   "cell_type": "code",
   "execution_count": 32,
   "id": "89dd57d5",
   "metadata": {},
   "outputs": [],
   "source": [
    "spark.stop()"
   ]
  },
  {
   "cell_type": "code",
   "execution_count": null,
   "id": "7b661d70",
   "metadata": {},
   "outputs": [],
   "source": []
  }
 ],
 "metadata": {
  "kernelspec": {
   "display_name": "Python 3 (ipykernel)",
   "language": "python",
   "name": "python3"
  },
  "language_info": {
   "codemirror_mode": {
    "name": "ipython",
    "version": 3
   },
   "file_extension": ".py",
   "mimetype": "text/x-python",
   "name": "python",
   "nbconvert_exporter": "python",
   "pygments_lexer": "ipython3",
   "version": "3.10.12"
  }
 },
 "nbformat": 4,
 "nbformat_minor": 5
}
