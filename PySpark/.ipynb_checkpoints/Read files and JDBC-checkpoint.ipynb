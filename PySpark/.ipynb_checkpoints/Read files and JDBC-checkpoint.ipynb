{
 "cells": [
  {
   "cell_type": "markdown",
   "id": "9c1ea817",
   "metadata": {},
   "source": [
    "# <font color=Blue>Read</font>"
   ]
  },
  {
   "cell_type": "code",
   "execution_count": 1,
   "id": "10b42832",
   "metadata": {},
   "outputs": [],
   "source": [
    "import findspark\n",
    "findspark.init()"
   ]
  },
  {
   "cell_type": "code",
   "execution_count": 2,
   "id": "f6fae7c9",
   "metadata": {},
   "outputs": [
    {
     "name": "stderr",
     "output_type": "stream",
     "text": [
      "24/03/19 21:48:52 WARN Utils: Your hostname, ajith-Lenovo-G50-80 resolves to a loopback address: 127.0.1.1; using 192.168.1.40 instead (on interface wlp3s0)\n",
      "24/03/19 21:48:52 WARN Utils: Set SPARK_LOCAL_IP if you need to bind to another address\n",
      "24/03/19 21:48:54 WARN NativeCodeLoader: Unable to load native-hadoop library for your platform... using builtin-java classes where applicable\n"
     ]
    }
   ],
   "source": [
    "import pyspark\n",
    "from pyspark.sql import SparkSession\n",
    "\n",
    "spark = SparkSession.builder.appName(\"Read files and JDBC tables\").master(\"local[*]\").getOrCreate()"
   ]
  },
  {
   "cell_type": "code",
   "execution_count": 3,
   "id": "96fd9a86",
   "metadata": {},
   "outputs": [
    {
     "data": {
      "text/html": [
       "\n",
       "            <div>\n",
       "                <p><b>SparkSession - in-memory</b></p>\n",
       "                \n",
       "        <div>\n",
       "            <p><b>SparkContext</b></p>\n",
       "\n",
       "            <p><a href=\"http://192.168.1.40:4040\">Spark UI</a></p>\n",
       "\n",
       "            <dl>\n",
       "              <dt>Version</dt>\n",
       "                <dd><code>v3.3.4</code></dd>\n",
       "              <dt>Master</dt>\n",
       "                <dd><code>local[*]</code></dd>\n",
       "              <dt>AppName</dt>\n",
       "                <dd><code>Read files and JDBC tables</code></dd>\n",
       "            </dl>\n",
       "        </div>\n",
       "        \n",
       "            </div>\n",
       "        "
      ],
      "text/plain": [
       "<pyspark.sql.session.SparkSession at 0x7ff4dff55a80>"
      ]
     },
     "execution_count": 3,
     "metadata": {},
     "output_type": "execute_result"
    }
   ],
   "source": [
    "spark"
   ]
  },
  {
   "cell_type": "markdown",
   "id": "b11fd105",
   "metadata": {},
   "source": [
    "## 01. Read CSV file"
   ]
  },
  {
   "cell_type": "markdown",
   "id": "0f9f25d1",
   "metadata": {},
   "source": [
    "PySpark supports reading a CSV file with a pipe, comma, tab, space, or any other delimiter/separator files. You can read .csv files using below 2 read formats.\n",
    "\n",
    "- csv(\"path\")\n",
    "- format(\"csv\").load(\"path\")"
   ]
  },
  {
   "cell_type": "markdown",
   "id": "122166b8",
   "metadata": {},
   "source": [
    "#### Using spark.read.csv(\"path\") method"
   ]
  },
  {
   "cell_type": "code",
   "execution_count": 7,
   "id": "06ffc0f5",
   "metadata": {},
   "outputs": [],
   "source": [
    "df1 = spark.read.csv(\"file:///home/hadoop/Downloads/USA_Presc_Medicare_Data_2021.csv\")"
   ]
  },
  {
   "cell_type": "code",
   "execution_count": 8,
   "id": "469f2725",
   "metadata": {},
   "outputs": [
    {
     "name": "stdout",
     "output_type": "stream",
     "text": [
      "root\n",
      " |-- _c0: string (nullable = true)\n",
      " |-- _c1: string (nullable = true)\n",
      " |-- _c2: string (nullable = true)\n",
      " |-- _c3: string (nullable = true)\n",
      " |-- _c4: string (nullable = true)\n",
      " |-- _c5: string (nullable = true)\n",
      " |-- _c6: string (nullable = true)\n",
      " |-- _c7: string (nullable = true)\n",
      " |-- _c8: string (nullable = true)\n",
      " |-- _c9: string (nullable = true)\n",
      " |-- _c10: string (nullable = true)\n",
      " |-- _c11: string (nullable = true)\n",
      " |-- _c12: string (nullable = true)\n",
      " |-- _c13: string (nullable = true)\n",
      " |-- _c14: string (nullable = true)\n",
      " |-- _c15: string (nullable = true)\n",
      " |-- _c16: string (nullable = true)\n",
      " |-- _c17: string (nullable = true)\n",
      " |-- _c18: string (nullable = true)\n",
      " |-- _c19: string (nullable = true)\n",
      " |-- _c20: string (nullable = true)\n",
      " |-- _c21: string (nullable = true)\n",
      "\n"
     ]
    }
   ],
   "source": [
    "df1.printSchema()"
   ]
  },
  {
   "cell_type": "markdown",
   "id": "9c91769f",
   "metadata": {},
   "source": [
    "#### Using spark.read.format(\"csv\").load(\"path\") method "
   ]
  },
  {
   "cell_type": "code",
   "execution_count": 9,
   "id": "eb286e08",
   "metadata": {},
   "outputs": [],
   "source": [
    "df2 = spark.read.format(\"csv\").load(\"file:///home/hadoop/Downloads/USA_Presc_Medicare_Data_2021.csv\")"
   ]
  },
  {
   "cell_type": "code",
   "execution_count": 10,
   "id": "995505f5",
   "metadata": {},
   "outputs": [
    {
     "name": "stdout",
     "output_type": "stream",
     "text": [
      "root\n",
      " |-- _c0: string (nullable = true)\n",
      " |-- _c1: string (nullable = true)\n",
      " |-- _c2: string (nullable = true)\n",
      " |-- _c3: string (nullable = true)\n",
      " |-- _c4: string (nullable = true)\n",
      " |-- _c5: string (nullable = true)\n",
      " |-- _c6: string (nullable = true)\n",
      " |-- _c7: string (nullable = true)\n",
      " |-- _c8: string (nullable = true)\n",
      " |-- _c9: string (nullable = true)\n",
      " |-- _c10: string (nullable = true)\n",
      " |-- _c11: string (nullable = true)\n",
      " |-- _c12: string (nullable = true)\n",
      " |-- _c13: string (nullable = true)\n",
      " |-- _c14: string (nullable = true)\n",
      " |-- _c15: string (nullable = true)\n",
      " |-- _c16: string (nullable = true)\n",
      " |-- _c17: string (nullable = true)\n",
      " |-- _c18: string (nullable = true)\n",
      " |-- _c19: string (nullable = true)\n",
      " |-- _c20: string (nullable = true)\n",
      " |-- _c21: string (nullable = true)\n",
      "\n"
     ]
    }
   ],
   "source": [
    "df2.printSchema()"
   ]
  },
  {
   "cell_type": "markdown",
   "id": "7499b660",
   "metadata": {},
   "source": [
    "By default it reads the data into dataframe columns as _c0, _c1 and so on. And datatype as String"
   ]
  },
  {
   "cell_type": "markdown",
   "id": "cba129e1",
   "metadata": {},
   "source": [
    "#### Add options"
   ]
  },
  {
   "cell_type": "code",
   "execution_count": 11,
   "id": "62c123f3",
   "metadata": {},
   "outputs": [
    {
     "name": "stdout",
     "output_type": "stream",
     "text": [
      "root\n",
      " |-- npi: string (nullable = true)\n",
      " |-- nppes_provider_last_org_name: string (nullable = true)\n",
      " |-- nppes_provider_first_name: string (nullable = true)\n",
      " |-- nppes_provider_city: string (nullable = true)\n",
      " |-- nppes_provider_state: string (nullable = true)\n",
      " |-- specialty_description: string (nullable = true)\n",
      " |-- description_flag: string (nullable = true)\n",
      " |-- drug_name: string (nullable = true)\n",
      " |-- generic_name: string (nullable = true)\n",
      " |-- bene_count: string (nullable = true)\n",
      " |-- total_claim_count: string (nullable = true)\n",
      " |-- total_30_day_fill_count: string (nullable = true)\n",
      " |-- total_day_supply: string (nullable = true)\n",
      " |-- total_drug_cost: string (nullable = true)\n",
      " |-- bene_count_ge65: string (nullable = true)\n",
      " |-- bene_count_ge65_suppress_flag: string (nullable = true)\n",
      " |-- total_claim_count_ge65: string (nullable = true)\n",
      " |-- ge65_suppress_flag: string (nullable = true)\n",
      " |-- total_30_day_fill_count_ge65: string (nullable = true)\n",
      " |-- total_day_supply_ge65: string (nullable = true)\n",
      " |-- total_drug_cost_ge65: string (nullable = true)\n",
      " |-- year_exp: string (nullable = true)\n",
      "\n"
     ]
    }
   ],
   "source": [
    "df1 = spark.read.option(\"header\", True).csv(\"file:///home/hadoop/Downloads/USA_Presc_Medicare_Data_2021.csv\")\n",
    "df1.printSchema()"
   ]
  },
  {
   "cell_type": "code",
   "execution_count": 12,
   "id": "63001c50",
   "metadata": {},
   "outputs": [
    {
     "name": "stdout",
     "output_type": "stream",
     "text": [
      "root\n",
      " |-- npi: string (nullable = true)\n",
      " |-- nppes_provider_last_org_name: string (nullable = true)\n",
      " |-- nppes_provider_first_name: string (nullable = true)\n",
      " |-- nppes_provider_city: string (nullable = true)\n",
      " |-- nppes_provider_state: string (nullable = true)\n",
      " |-- specialty_description: string (nullable = true)\n",
      " |-- description_flag: string (nullable = true)\n",
      " |-- drug_name: string (nullable = true)\n",
      " |-- generic_name: string (nullable = true)\n",
      " |-- bene_count: string (nullable = true)\n",
      " |-- total_claim_count: string (nullable = true)\n",
      " |-- total_30_day_fill_count: string (nullable = true)\n",
      " |-- total_day_supply: string (nullable = true)\n",
      " |-- total_drug_cost: string (nullable = true)\n",
      " |-- bene_count_ge65: string (nullable = true)\n",
      " |-- bene_count_ge65_suppress_flag: string (nullable = true)\n",
      " |-- total_claim_count_ge65: string (nullable = true)\n",
      " |-- ge65_suppress_flag: string (nullable = true)\n",
      " |-- total_30_day_fill_count_ge65: string (nullable = true)\n",
      " |-- total_day_supply_ge65: string (nullable = true)\n",
      " |-- total_drug_cost_ge65: string (nullable = true)\n",
      " |-- year_exp: string (nullable = true)\n",
      "\n"
     ]
    }
   ],
   "source": [
    "df2 = spark.read.format(\"csv\").option(\"header\", True).load(\"file:///home/hadoop/Downloads/USA_Presc_Medicare_Data_2021.csv\")\n",
    "df2.printSchema()"
   ]
  },
  {
   "cell_type": "code",
   "execution_count": null,
   "id": "c9fafe0e",
   "metadata": {},
   "outputs": [],
   "source": []
  }
 ],
 "metadata": {
  "kernelspec": {
   "display_name": "Python 3 (ipykernel)",
   "language": "python",
   "name": "python3"
  },
  "language_info": {
   "codemirror_mode": {
    "name": "ipython",
    "version": 3
   },
   "file_extension": ".py",
   "mimetype": "text/x-python",
   "name": "python",
   "nbconvert_exporter": "python",
   "pygments_lexer": "ipython3",
   "version": "3.10.12"
  }
 },
 "nbformat": 4,
 "nbformat_minor": 5
}
