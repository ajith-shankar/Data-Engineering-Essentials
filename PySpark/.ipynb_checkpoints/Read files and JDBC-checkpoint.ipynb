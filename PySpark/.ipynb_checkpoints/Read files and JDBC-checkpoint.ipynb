{
 "cells": [
  {
   "cell_type": "markdown",
   "id": "9c1ea817",
   "metadata": {},
   "source": [
    "# <font color=Blue>Read</font>"
   ]
  },
  {
   "cell_type": "code",
   "execution_count": 3,
   "id": "10b42832",
   "metadata": {},
   "outputs": [],
   "source": [
    "import findspark\n",
    "findspark.init()"
   ]
  },
  {
   "cell_type": "code",
   "execution_count": 4,
   "id": "f6fae7c9",
   "metadata": {},
   "outputs": [
    {
     "name": "stderr",
     "output_type": "stream",
     "text": [
      "24/03/19 22:39:57 WARN Utils: Your hostname, ajith-Lenovo-G50-80 resolves to a loopback address: 127.0.1.1; using 192.168.1.40 instead (on interface wlp3s0)\n",
      "24/03/19 22:39:57 WARN Utils: Set SPARK_LOCAL_IP if you need to bind to another address\n",
      "24/03/19 22:39:59 WARN NativeCodeLoader: Unable to load native-hadoop library for your platform... using builtin-java classes where applicable\n"
     ]
    }
   ],
   "source": [
    "import pyspark\n",
    "from pyspark.sql import SparkSession\n",
    "\n",
    "spark = SparkSession.builder.appName(\"Read files and JDBC tables\").master(\"local[*]\").getOrCreate()"
   ]
  },
  {
   "cell_type": "code",
   "execution_count": 5,
   "id": "96fd9a86",
   "metadata": {},
   "outputs": [
    {
     "data": {
      "text/html": [
       "\n",
       "            <div>\n",
       "                <p><b>SparkSession - in-memory</b></p>\n",
       "                \n",
       "        <div>\n",
       "            <p><b>SparkContext</b></p>\n",
       "\n",
       "            <p><a href=\"http://192.168.1.40:4040\">Spark UI</a></p>\n",
       "\n",
       "            <dl>\n",
       "              <dt>Version</dt>\n",
       "                <dd><code>v3.3.4</code></dd>\n",
       "              <dt>Master</dt>\n",
       "                <dd><code>local[*]</code></dd>\n",
       "              <dt>AppName</dt>\n",
       "                <dd><code>Read files and JDBC tables</code></dd>\n",
       "            </dl>\n",
       "        </div>\n",
       "        \n",
       "            </div>\n",
       "        "
      ],
      "text/plain": [
       "<pyspark.sql.session.SparkSession at 0x7fd2604ddb70>"
      ]
     },
     "execution_count": 5,
     "metadata": {},
     "output_type": "execute_result"
    }
   ],
   "source": [
    "spark"
   ]
  },
  {
   "cell_type": "markdown",
   "id": "b11fd105",
   "metadata": {},
   "source": [
    "# 01. Read CSV file"
   ]
  },
  {
   "cell_type": "markdown",
   "id": "0f9f25d1",
   "metadata": {},
   "source": [
    "PySpark supports reading a CSV file with a pipe, comma, tab, space, or any other delimiter/separator files. You can read .csv files using below 2 read formats.\n",
    "\n",
    "- csv(\"path\")\n",
    "- format(\"csv\").load(\"path\")"
   ]
  },
  {
   "cell_type": "markdown",
   "id": "122166b8",
   "metadata": {},
   "source": [
    "#### Using spark.read.csv(\"path\") method"
   ]
  },
  {
   "cell_type": "code",
   "execution_count": 6,
   "id": "06ffc0f5",
   "metadata": {},
   "outputs": [
    {
     "name": "stderr",
     "output_type": "stream",
     "text": [
      "                                                                                \r"
     ]
    }
   ],
   "source": [
    "df1 = spark.read.csv(\"file:///home/hadoop/Downloads/USA_Presc_Medicare_Data_2021.csv\")"
   ]
  },
  {
   "cell_type": "code",
   "execution_count": 7,
   "id": "469f2725",
   "metadata": {},
   "outputs": [
    {
     "name": "stdout",
     "output_type": "stream",
     "text": [
      "root\n",
      " |-- _c0: string (nullable = true)\n",
      " |-- _c1: string (nullable = true)\n",
      " |-- _c2: string (nullable = true)\n",
      " |-- _c3: string (nullable = true)\n",
      " |-- _c4: string (nullable = true)\n",
      " |-- _c5: string (nullable = true)\n",
      " |-- _c6: string (nullable = true)\n",
      " |-- _c7: string (nullable = true)\n",
      " |-- _c8: string (nullable = true)\n",
      " |-- _c9: string (nullable = true)\n",
      " |-- _c10: string (nullable = true)\n",
      " |-- _c11: string (nullable = true)\n",
      " |-- _c12: string (nullable = true)\n",
      " |-- _c13: string (nullable = true)\n",
      " |-- _c14: string (nullable = true)\n",
      " |-- _c15: string (nullable = true)\n",
      " |-- _c16: string (nullable = true)\n",
      " |-- _c17: string (nullable = true)\n",
      " |-- _c18: string (nullable = true)\n",
      " |-- _c19: string (nullable = true)\n",
      " |-- _c20: string (nullable = true)\n",
      " |-- _c21: string (nullable = true)\n",
      "\n"
     ]
    }
   ],
   "source": [
    "df1.printSchema()"
   ]
  },
  {
   "cell_type": "markdown",
   "id": "9c91769f",
   "metadata": {},
   "source": [
    "#### Using spark.read.format(\"csv\").load(\"path\") method "
   ]
  },
  {
   "cell_type": "code",
   "execution_count": 8,
   "id": "eb286e08",
   "metadata": {},
   "outputs": [],
   "source": [
    "df2 = spark.read.format(\"csv\").load(\"file:///home/hadoop/Downloads/USA_Presc_Medicare_Data_2021.csv\")"
   ]
  },
  {
   "cell_type": "code",
   "execution_count": 9,
   "id": "995505f5",
   "metadata": {},
   "outputs": [
    {
     "name": "stdout",
     "output_type": "stream",
     "text": [
      "root\n",
      " |-- _c0: string (nullable = true)\n",
      " |-- _c1: string (nullable = true)\n",
      " |-- _c2: string (nullable = true)\n",
      " |-- _c3: string (nullable = true)\n",
      " |-- _c4: string (nullable = true)\n",
      " |-- _c5: string (nullable = true)\n",
      " |-- _c6: string (nullable = true)\n",
      " |-- _c7: string (nullable = true)\n",
      " |-- _c8: string (nullable = true)\n",
      " |-- _c9: string (nullable = true)\n",
      " |-- _c10: string (nullable = true)\n",
      " |-- _c11: string (nullable = true)\n",
      " |-- _c12: string (nullable = true)\n",
      " |-- _c13: string (nullable = true)\n",
      " |-- _c14: string (nullable = true)\n",
      " |-- _c15: string (nullable = true)\n",
      " |-- _c16: string (nullable = true)\n",
      " |-- _c17: string (nullable = true)\n",
      " |-- _c18: string (nullable = true)\n",
      " |-- _c19: string (nullable = true)\n",
      " |-- _c20: string (nullable = true)\n",
      " |-- _c21: string (nullable = true)\n",
      "\n"
     ]
    }
   ],
   "source": [
    "df2.printSchema()"
   ]
  },
  {
   "cell_type": "markdown",
   "id": "7499b660",
   "metadata": {},
   "source": [
    "By default it reads the data into dataframe columns as _c0, _c1 and so on. And datatype as String"
   ]
  },
  {
   "cell_type": "markdown",
   "id": "cba129e1",
   "metadata": {},
   "source": [
    "## Add options"
   ]
  },
  {
   "cell_type": "markdown",
   "id": "d5f0da0a",
   "metadata": {},
   "source": [
    "### Header"
   ]
  },
  {
   "cell_type": "code",
   "execution_count": 10,
   "id": "62c123f3",
   "metadata": {},
   "outputs": [
    {
     "name": "stdout",
     "output_type": "stream",
     "text": [
      "root\n",
      " |-- npi: string (nullable = true)\n",
      " |-- nppes_provider_last_org_name: string (nullable = true)\n",
      " |-- nppes_provider_first_name: string (nullable = true)\n",
      " |-- nppes_provider_city: string (nullable = true)\n",
      " |-- nppes_provider_state: string (nullable = true)\n",
      " |-- specialty_description: string (nullable = true)\n",
      " |-- description_flag: string (nullable = true)\n",
      " |-- drug_name: string (nullable = true)\n",
      " |-- generic_name: string (nullable = true)\n",
      " |-- bene_count: string (nullable = true)\n",
      " |-- total_claim_count: string (nullable = true)\n",
      " |-- total_30_day_fill_count: string (nullable = true)\n",
      " |-- total_day_supply: string (nullable = true)\n",
      " |-- total_drug_cost: string (nullable = true)\n",
      " |-- bene_count_ge65: string (nullable = true)\n",
      " |-- bene_count_ge65_suppress_flag: string (nullable = true)\n",
      " |-- total_claim_count_ge65: string (nullable = true)\n",
      " |-- ge65_suppress_flag: string (nullable = true)\n",
      " |-- total_30_day_fill_count_ge65: string (nullable = true)\n",
      " |-- total_day_supply_ge65: string (nullable = true)\n",
      " |-- total_drug_cost_ge65: string (nullable = true)\n",
      " |-- year_exp: string (nullable = true)\n",
      "\n"
     ]
    }
   ],
   "source": [
    "df1 = spark.read.option(\"header\", True).csv(\"file:///home/hadoop/Downloads/USA_Presc_Medicare_Data_2021.csv\")\n",
    "df1.printSchema()"
   ]
  },
  {
   "cell_type": "code",
   "execution_count": 11,
   "id": "63001c50",
   "metadata": {},
   "outputs": [
    {
     "name": "stdout",
     "output_type": "stream",
     "text": [
      "root\n",
      " |-- npi: string (nullable = true)\n",
      " |-- nppes_provider_last_org_name: string (nullable = true)\n",
      " |-- nppes_provider_first_name: string (nullable = true)\n",
      " |-- nppes_provider_city: string (nullable = true)\n",
      " |-- nppes_provider_state: string (nullable = true)\n",
      " |-- specialty_description: string (nullable = true)\n",
      " |-- description_flag: string (nullable = true)\n",
      " |-- drug_name: string (nullable = true)\n",
      " |-- generic_name: string (nullable = true)\n",
      " |-- bene_count: string (nullable = true)\n",
      " |-- total_claim_count: string (nullable = true)\n",
      " |-- total_30_day_fill_count: string (nullable = true)\n",
      " |-- total_day_supply: string (nullable = true)\n",
      " |-- total_drug_cost: string (nullable = true)\n",
      " |-- bene_count_ge65: string (nullable = true)\n",
      " |-- bene_count_ge65_suppress_flag: string (nullable = true)\n",
      " |-- total_claim_count_ge65: string (nullable = true)\n",
      " |-- ge65_suppress_flag: string (nullable = true)\n",
      " |-- total_30_day_fill_count_ge65: string (nullable = true)\n",
      " |-- total_day_supply_ge65: string (nullable = true)\n",
      " |-- total_drug_cost_ge65: string (nullable = true)\n",
      " |-- year_exp: string (nullable = true)\n",
      "\n"
     ]
    }
   ],
   "source": [
    "df2 = spark.read.format(\"csv\").option(\"header\", True).load(\"file:///home/hadoop/Downloads/USA_Presc_Medicare_Data_2021.csv\")\n",
    "df2.printSchema()"
   ]
  },
  {
   "cell_type": "markdown",
   "id": "ef1890b7",
   "metadata": {},
   "source": [
    "- This option is used to read the **first line** of the CSV file as **column names**. \n",
    "- By default the value of this option is **False**, and all column types are assumed to be a **string**."
   ]
  },
  {
   "cell_type": "markdown",
   "id": "518cf36c",
   "metadata": {},
   "source": [
    "### Delimeter"
   ]
  },
  {
   "cell_type": "code",
   "execution_count": 12,
   "id": "a79c3867",
   "metadata": {},
   "outputs": [
    {
     "name": "stdout",
     "output_type": "stream",
     "text": [
      "root\n",
      " |-- npi: string (nullable = true)\n",
      " |-- nppes_provider_last_org_name: string (nullable = true)\n",
      " |-- nppes_provider_first_name: string (nullable = true)\n",
      " |-- nppes_provider_city: string (nullable = true)\n",
      " |-- nppes_provider_state: string (nullable = true)\n",
      " |-- specialty_description: string (nullable = true)\n",
      " |-- description_flag: string (nullable = true)\n",
      " |-- drug_name: string (nullable = true)\n",
      " |-- generic_name: string (nullable = true)\n",
      " |-- bene_count: string (nullable = true)\n",
      " |-- total_claim_count: string (nullable = true)\n",
      " |-- total_30_day_fill_count: string (nullable = true)\n",
      " |-- total_day_supply: string (nullable = true)\n",
      " |-- total_drug_cost: string (nullable = true)\n",
      " |-- bene_count_ge65: string (nullable = true)\n",
      " |-- bene_count_ge65_suppress_flag: string (nullable = true)\n",
      " |-- total_claim_count_ge65: string (nullable = true)\n",
      " |-- ge65_suppress_flag: string (nullable = true)\n",
      " |-- total_30_day_fill_count_ge65: string (nullable = true)\n",
      " |-- total_day_supply_ge65: string (nullable = true)\n",
      " |-- total_drug_cost_ge65: string (nullable = true)\n",
      " |-- year_exp: string (nullable = true)\n",
      "\n"
     ]
    }
   ],
   "source": [
    "df3 = spark.read.option(\"header\", True) \\\n",
    "                .option(\"delimeter\", \",\") \\\n",
    "                .csv(\"file:///home/hadoop/Downloads/USA_Presc_Medicare_Data_2021.csv\")\n",
    "\n",
    "df3.printSchema()"
   ]
  },
  {
   "cell_type": "markdown",
   "id": "67390eb2",
   "metadata": {},
   "source": [
    "- By default, it is comma (,) character \n",
    "- but can be set to any character like pipe(|), tab (\\t), space using this option."
   ]
  },
  {
   "cell_type": "markdown",
   "id": "ed508360",
   "metadata": {},
   "source": [
    "Above one can also be written using options()"
   ]
  },
  {
   "cell_type": "code",
   "execution_count": 16,
   "id": "c234d869",
   "metadata": {},
   "outputs": [
    {
     "name": "stdout",
     "output_type": "stream",
     "text": [
      "root\n",
      " |-- npi: string (nullable = true)\n",
      " |-- nppes_provider_last_org_name: string (nullable = true)\n",
      " |-- nppes_provider_first_name: string (nullable = true)\n",
      " |-- nppes_provider_city: string (nullable = true)\n",
      " |-- nppes_provider_state: string (nullable = true)\n",
      " |-- specialty_description: string (nullable = true)\n",
      " |-- description_flag: string (nullable = true)\n",
      " |-- drug_name: string (nullable = true)\n",
      " |-- generic_name: string (nullable = true)\n",
      " |-- bene_count: string (nullable = true)\n",
      " |-- total_claim_count: string (nullable = true)\n",
      " |-- total_30_day_fill_count: string (nullable = true)\n",
      " |-- total_day_supply: string (nullable = true)\n",
      " |-- total_drug_cost: string (nullable = true)\n",
      " |-- bene_count_ge65: string (nullable = true)\n",
      " |-- bene_count_ge65_suppress_flag: string (nullable = true)\n",
      " |-- total_claim_count_ge65: string (nullable = true)\n",
      " |-- ge65_suppress_flag: string (nullable = true)\n",
      " |-- total_30_day_fill_count_ge65: string (nullable = true)\n",
      " |-- total_day_supply_ge65: string (nullable = true)\n",
      " |-- total_drug_cost_ge65: string (nullable = true)\n",
      " |-- year_exp: string (nullable = true)\n",
      "\n"
     ]
    }
   ],
   "source": [
    "df4 = spark.read.options(header='True', delimeter=',').csv('file:///home/hadoop/Downloads/USA_Presc_Medicare_Data_2021.csv')\n",
    "df4.printSchema()"
   ]
  },
  {
   "cell_type": "markdown",
   "id": "d28629c8",
   "metadata": {},
   "source": [
    "### InferSchema"
   ]
  },
  {
   "cell_type": "code",
   "execution_count": 19,
   "id": "9f9136cb",
   "metadata": {},
   "outputs": [
    {
     "name": "stdout",
     "output_type": "stream",
     "text": [
      "root\n",
      " |-- npi: integer (nullable = true)\n",
      " |-- nppes_provider_last_org_name: string (nullable = true)\n",
      " |-- nppes_provider_first_name: string (nullable = true)\n",
      " |-- nppes_provider_city: string (nullable = true)\n",
      " |-- nppes_provider_state: string (nullable = true)\n",
      " |-- specialty_description: string (nullable = true)\n",
      " |-- description_flag: string (nullable = true)\n",
      " |-- drug_name: string (nullable = true)\n",
      " |-- generic_name: string (nullable = true)\n",
      " |-- bene_count: integer (nullable = true)\n",
      " |-- total_claim_count: integer (nullable = true)\n",
      " |-- total_30_day_fill_count: double (nullable = true)\n",
      " |-- total_day_supply: integer (nullable = true)\n",
      " |-- total_drug_cost: double (nullable = true)\n",
      " |-- bene_count_ge65: integer (nullable = true)\n",
      " |-- bene_count_ge65_suppress_flag: string (nullable = true)\n",
      " |-- total_claim_count_ge65: integer (nullable = true)\n",
      " |-- ge65_suppress_flag: string (nullable = true)\n",
      " |-- total_30_day_fill_count_ge65: double (nullable = true)\n",
      " |-- total_day_supply_ge65: integer (nullable = true)\n",
      " |-- total_drug_cost_ge65: double (nullable = true)\n",
      " |-- year_exp: string (nullable = true)\n",
      "\n"
     ]
    }
   ],
   "source": [
    "df1 = spark.read.option(\"header\", True) \\\n",
    "                .option(\"delimeter\", \",\") \\\n",
    "                .option(\"inferSchema\", True) \\\n",
    "                .csv(\"file:///home/hadoop/Downloads/USA_Presc_Medicare_Data_2021.csv\")\n",
    "\n",
    "df1.printSchema()"
   ]
  },
  {
   "cell_type": "code",
   "execution_count": 24,
   "id": "63e2733c",
   "metadata": {},
   "outputs": [
    {
     "data": {
      "text/html": [
       "<table border='1'>\n",
       "<tr><th>npi</th><th>nppes_provider_last_org_name</th><th>nppes_provider_first_name</th><th>nppes_provider_city</th><th>nppes_provider_state</th><th>specialty_description</th><th>description_flag</th><th>drug_name</th><th>generic_name</th><th>bene_count</th><th>total_claim_count</th><th>total_30_day_fill_count</th><th>total_day_supply</th><th>total_drug_cost</th><th>bene_count_ge65</th><th>bene_count_ge65_suppress_flag</th><th>total_claim_count_ge65</th><th>ge65_suppress_flag</th><th>total_30_day_fill_count_ge65</th><th>total_day_supply_ge65</th><th>total_drug_cost_ge65</th><th>year_exp</th></tr>\n",
       "<tr><td>1437118403</td><td>QUINN</td><td>RACHEL</td><td>FORT ATKINSON</td><td>WI</td><td>Family Practice</td><td>S</td><td>METHENAMINE HIPPU...</td><td>METHENAMINE HIPPU...</td><td>null</td><td>null</td><td>13.0</td><td>366</td><td>1159.13</td><td>null</td><td>*</td><td>null</td><td>*</td><td>null</td><td>null</td><td>null</td><td>= 2.0</td></tr>\n",
       "<tr><td>1437118403</td><td>QUINN</td><td>RACHEL</td><td>FORT ATKINSON</td><td>WI</td><td>Family Practice</td><td>S</td><td>METHENAMINE HIPPU...</td><td>METHENAMINE HIPPU...</td><td>null</td><td>99</td><td>13.0</td><td>366</td><td>1159.13</td><td>null</td><td>*</td><td>null</td><td>*</td><td>null</td><td>null</td><td>null</td><td>= 2.0</td></tr>\n",
       "<tr><td>1841297421</td><td>SIFUENTES</td><td>JORGE</td><td>BORGER</td><td>TX</td><td>General Practice</td><td>S</td><td>NYSTATIN</td><td>NYSTATIN</td><td>19</td><td>40</td><td>40.0</td><td>450</td><td>623.64</td><td>null</td><td>#</td><td>29</td><td>null</td><td>29.0</td><td>333</td><td>436.93</td><td>= 9.0</td></tr>\n",
       "<tr><td>1770522567</td><td>VAN DE BEEK</td><td>M.</td><td>PHILADELPHIA</td><td>PA</td><td>Family Practice</td><td>S</td><td>CLONAZEPAM</td><td>CLONAZEPAM</td><td>null</td><td>24</td><td>32.0</td><td>960</td><td>118.55</td><td>null</td><td>#</td><td>null</td><td>#</td><td>null</td><td>null</td><td>null</td><td>= 10.0</td></tr>\n",
       "<tr><td>1497789556</td><td>GRAHAM</td><td>BOB</td><td>NASHVILLE</td><td>TN</td><td>Internal Medicine</td><td>S</td><td>CELECOXIB</td><td>CELECOXIB</td><td>null</td><td>27</td><td>41.0</td><td>1230</td><td>1221.21</td><td>null</td><td>*</td><td>27</td><td>null</td><td>41.0</td><td>1230</td><td>1221.21</td><td>= 12.0</td></tr>\n",
       "<tr><td>1417913278</td><td>JOHNSON</td><td>DIANE</td><td>MINEOLA</td><td>NY</td><td>Infectious Disease</td><td>S</td><td>SULFAMETHOXAZOLE-...</td><td>SULFAMETHOXAZOLE/...</td><td>null</td><td>12</td><td>12.0</td><td>360</td><td>77.57</td><td>0</td><td>null</td><td>0</td><td>null</td><td>0.0</td><td>0</td><td>0.0</td><td>= 25.0</td></tr>\n",
       "<tr><td>1437108628</td><td>HOWERTON</td><td>SHAWN</td><td>ROSEBORO</td><td>NC</td><td>Family Practice</td><td>S</td><td>KLOR-CON M20</td><td>POTASSIUM CHLORIDE</td><td>null</td><td>27</td><td>31.0</td><td>930</td><td>309.6</td><td>null</td><td>*</td><td>27</td><td>null</td><td>31.0</td><td>930</td><td>309.6</td><td>= 3.0</td></tr>\n",
       "<tr><td>1770779761</td><td>KONTIR</td><td>NATALEE</td><td>HOMER CITY</td><td>PA</td><td>Family Practice</td><td>S</td><td>ZOLPIDEM TARTRATE</td><td>ZOLPIDEM TARTRATE</td><td>null</td><td>18</td><td>26.0</td><td>780</td><td>40.76</td><td>null</td><td>*</td><td>18</td><td>null</td><td>26.0</td><td>780</td><td>40.76</td><td>= 6.0</td></tr>\n",
       "<tr><td>1518906262</td><td>MATTIACE</td><td>WILLIAM</td><td>WILLIAMSPORT</td><td>PA</td><td>Family Practice</td><td>S</td><td>null</td><td>ROSUVASTATIN CALCIUM</td><td>13</td><td>67</td><td>91.0</td><td>2730</td><td>22141.56</td><td>null</td><td>#</td><td>null</td><td>#</td><td>null</td><td>null</td><td>null</td><td>= 6.0</td></tr>\n",
       "<tr><td>1437312485</td><td>GERRIETTS</td><td>JENNIFER</td><td>JOHNSTON</td><td>IA</td><td>Family Practice</td><td>S</td><td>INSULIN SYRINGE</td><td>SYRING-NEEDL,DISP...</td><td>null</td><td>17</td><td>17.3</td><td>465</td><td>515.41</td><td>null</td><td>*</td><td>17</td><td>null</td><td>17.3</td><td>465</td><td>515.41</td><td>= 19.0</td></tr>\n",
       "<tr><td>1083631832</td><td>MORAYATI</td><td>SHAMIL</td><td>BURLINGTON</td><td>NC</td><td>Internal Medicine</td><td>S</td><td>AMOXICILLIN</td><td>AMOXICILLIN</td><td>null</td><td>11</td><td>11.0</td><td>97</td><td>53.06</td><td>null</td><td>*</td><td>11</td><td>null</td><td>11.0</td><td>97</td><td>53.06</td><td>= 11.0</td></tr>\n",
       "<tr><td>1932141819</td><td>SHOEMAKER</td><td>ABIGAIL</td><td>WORTINGTON</td><td>OH</td><td>Family Practice</td><td>S</td><td>PRAVASTATIN SODIUM</td><td>PRAVASTATIN SODIUM</td><td>null</td><td>24</td><td>48.0</td><td>1440</td><td>643.93</td><td>null</td><td>*</td><td>24</td><td>null</td><td>48.0</td><td>1440</td><td>643.93</td><td>= 9.0</td></tr>\n",
       "<tr><td>1760574123</td><td>BRADSHAW</td><td>TONDA</td><td>YUCAIPA</td><td>CA</td><td>Internal Medicine</td><td>S</td><td>LANTUS SOLOSTAR</td><td>INSULIN GLARGINE,...</td><td>11</td><td>80</td><td>103.2</td><td>3009</td><td>40241.11</td><td>null</td><td>*</td><td>65</td><td>null</td><td>88.2</td><td>2571</td><td>35212.73</td><td>= 9.0</td></tr>\n",
       "<tr><td>1093078644</td><td>ARORA</td><td>PUNEET</td><td>WORCESTER</td><td>MA</td><td>Dentist</td><td>T</td><td>CLINDAMYCIN HCL</td><td>CLINDAMYCIN HCL</td><td>17</td><td>22</td><td>22.0</td><td>141</td><td>174.73</td><td>null</td><td>*</td><td>null</td><td>*</td><td>null</td><td>null</td><td>null</td><td>= 28.0</td></tr>\n",
       "<tr><td>1881693331</td><td>ALUNDAY</td><td>ARTHUR</td><td>GREENSBURG</td><td>IN</td><td>Internal Medicine</td><td>S</td><td>ONDANSETRON HCL</td><td>ONDANSETRON HCL</td><td>null</td><td>14</td><td>14.0</td><td>91</td><td>148.77</td><td>null</td><td>*</td><td>14</td><td>null</td><td>14.0</td><td>91</td><td>148.77</td><td>= 7.0</td></tr>\n",
       "<tr><td>1376579706</td><td>CHAN</td><td>TZE</td><td>NEWTON</td><td>IA</td><td>Internal Medicine</td><td>S</td><td>CHOLESTYRAMINE</td><td>CHOLESTYRAMINE (W...</td><td>null</td><td>16</td><td>16.0</td><td>480</td><td>402.17</td><td>null</td><td>*</td><td>null</td><td>*</td><td>null</td><td>null</td><td>null</td><td>= 28.0</td></tr>\n",
       "<tr><td>1497790661</td><td>JOHNSON</td><td>PAUL</td><td>GARDEN GROVE</td><td>CA</td><td>Family Practice</td><td>S</td><td>QUETIAPINE FUMARATE</td><td>QUETIAPINE FUMARATE</td><td>14</td><td>51</td><td>69.1</td><td>2043</td><td>1467.93</td><td>null</td><td>*</td><td>18</td><td>null</td><td>26.1</td><td>753</td><td>244.99</td><td>= 9.0</td></tr>\n",
       "<tr><td>1508831496</td><td>REYES-ORTIZ</td><td>ARNALDO</td><td>HUMACAO</td><td>PR</td><td>General Practice</td><td>S</td><td>IBUPROFEN</td><td>IBUPROFEN</td><td>null</td><td>51</td><td>51.0</td><td>1168</td><td>286.38</td><td>null</td><td>*</td><td>null</td><td>*</td><td>null</td><td>null</td><td>null</td><td>= 20.0</td></tr>\n",
       "<tr><td>1962478495</td><td>VERGIS</td><td>EMANUEL</td><td>PITTSBURGH</td><td>PA</td><td>Infectious Disease</td><td>S</td><td>SELENIUM SULFIDE</td><td>SELENIUM SULFIDE</td><td>null</td><td>11</td><td>11.0</td><td>330</td><td>75.0</td><td>0</td><td>null</td><td>0</td><td>null</td><td>0.0</td><td>0</td><td>0.0</td><td>= 10.0</td></tr>\n",
       "<tr><td>1467653683</td><td>HALL</td><td>AMI</td><td>NEWBURY</td><td>OH</td><td>Family Practice</td><td>S</td><td>WARFARIN SODIUM</td><td>WARFARIN SODIUM</td><td>null</td><td>21</td><td>39.0</td><td>1158</td><td>196.02</td><td>null</td><td>#</td><td>null</td><td>#</td><td>null</td><td>null</td><td>null</td><td>= 21.0</td></tr>\n",
       "</table>\n",
       "only showing top 20 rows\n"
      ],
      "text/plain": [
       "+----------+----------------------------+-------------------------+-------------------+--------------------+---------------------+----------------+--------------------+--------------------+----------+-----------------+-----------------------+----------------+---------------+---------------+-----------------------------+----------------------+------------------+----------------------------+---------------------+--------------------+--------+\n",
       "|       npi|nppes_provider_last_org_name|nppes_provider_first_name|nppes_provider_city|nppes_provider_state|specialty_description|description_flag|           drug_name|        generic_name|bene_count|total_claim_count|total_30_day_fill_count|total_day_supply|total_drug_cost|bene_count_ge65|bene_count_ge65_suppress_flag|total_claim_count_ge65|ge65_suppress_flag|total_30_day_fill_count_ge65|total_day_supply_ge65|total_drug_cost_ge65|year_exp|\n",
       "+----------+----------------------------+-------------------------+-------------------+--------------------+---------------------+----------------+--------------------+--------------------+----------+-----------------+-----------------------+----------------+---------------+---------------+-----------------------------+----------------------+------------------+----------------------------+---------------------+--------------------+--------+\n",
       "|1437118403|                       QUINN|                   RACHEL|      FORT ATKINSON|                  WI|      Family Practice|               S|METHENAMINE HIPPU...|METHENAMINE HIPPU...|      null|             null|                   13.0|             366|        1159.13|           null|                            *|                  null|                 *|                        null|                 null|                null|   = 2.0|\n",
       "|1437118403|                       QUINN|                   RACHEL|      FORT ATKINSON|                  WI|      Family Practice|               S|METHENAMINE HIPPU...|METHENAMINE HIPPU...|      null|               99|                   13.0|             366|        1159.13|           null|                            *|                  null|                 *|                        null|                 null|                null|   = 2.0|\n",
       "|1841297421|                   SIFUENTES|                    JORGE|             BORGER|                  TX|     General Practice|               S|            NYSTATIN|            NYSTATIN|        19|               40|                   40.0|             450|         623.64|           null|                            #|                    29|              null|                        29.0|                  333|              436.93|   = 9.0|\n",
       "|1770522567|                 VAN DE BEEK|                       M.|       PHILADELPHIA|                  PA|      Family Practice|               S|          CLONAZEPAM|          CLONAZEPAM|      null|               24|                   32.0|             960|         118.55|           null|                            #|                  null|                 #|                        null|                 null|                null|  = 10.0|\n",
       "|1497789556|                      GRAHAM|                      BOB|          NASHVILLE|                  TN|    Internal Medicine|               S|           CELECOXIB|           CELECOXIB|      null|               27|                   41.0|            1230|        1221.21|           null|                            *|                    27|              null|                        41.0|                 1230|             1221.21|  = 12.0|\n",
       "|1417913278|                     JOHNSON|                    DIANE|            MINEOLA|                  NY|   Infectious Disease|               S|SULFAMETHOXAZOLE-...|SULFAMETHOXAZOLE/...|      null|               12|                   12.0|             360|          77.57|              0|                         null|                     0|              null|                         0.0|                    0|                 0.0|  = 25.0|\n",
       "|1437108628|                    HOWERTON|                    SHAWN|           ROSEBORO|                  NC|      Family Practice|               S|        KLOR-CON M20|  POTASSIUM CHLORIDE|      null|               27|                   31.0|             930|          309.6|           null|                            *|                    27|              null|                        31.0|                  930|               309.6|   = 3.0|\n",
       "|1770779761|                      KONTIR|                  NATALEE|         HOMER CITY|                  PA|      Family Practice|               S|   ZOLPIDEM TARTRATE|   ZOLPIDEM TARTRATE|      null|               18|                   26.0|             780|          40.76|           null|                            *|                    18|              null|                        26.0|                  780|               40.76|   = 6.0|\n",
       "|1518906262|                    MATTIACE|                  WILLIAM|       WILLIAMSPORT|                  PA|      Family Practice|               S|                null|ROSUVASTATIN CALCIUM|        13|               67|                   91.0|            2730|       22141.56|           null|                            #|                  null|                 #|                        null|                 null|                null|   = 6.0|\n",
       "|1437312485|                   GERRIETTS|                 JENNIFER|           JOHNSTON|                  IA|      Family Practice|               S|     INSULIN SYRINGE|SYRING-NEEDL,DISP...|      null|               17|                   17.3|             465|         515.41|           null|                            *|                    17|              null|                        17.3|                  465|              515.41|  = 19.0|\n",
       "|1083631832|                    MORAYATI|                   SHAMIL|         BURLINGTON|                  NC|    Internal Medicine|               S|         AMOXICILLIN|         AMOXICILLIN|      null|               11|                   11.0|              97|          53.06|           null|                            *|                    11|              null|                        11.0|                   97|               53.06|  = 11.0|\n",
       "|1932141819|                   SHOEMAKER|                  ABIGAIL|         WORTINGTON|                  OH|      Family Practice|               S|  PRAVASTATIN SODIUM|  PRAVASTATIN SODIUM|      null|               24|                   48.0|            1440|         643.93|           null|                            *|                    24|              null|                        48.0|                 1440|              643.93|   = 9.0|\n",
       "|1760574123|                    BRADSHAW|                    TONDA|            YUCAIPA|                  CA|    Internal Medicine|               S|     LANTUS SOLOSTAR|INSULIN GLARGINE,...|        11|               80|                  103.2|            3009|       40241.11|           null|                            *|                    65|              null|                        88.2|                 2571|            35212.73|   = 9.0|\n",
       "|1093078644|                       ARORA|                   PUNEET|          WORCESTER|                  MA|              Dentist|               T|     CLINDAMYCIN HCL|     CLINDAMYCIN HCL|        17|               22|                   22.0|             141|         174.73|           null|                            *|                  null|                 *|                        null|                 null|                null|  = 28.0|\n",
       "|1881693331|                     ALUNDAY|                   ARTHUR|         GREENSBURG|                  IN|    Internal Medicine|               S|     ONDANSETRON HCL|     ONDANSETRON HCL|      null|               14|                   14.0|              91|         148.77|           null|                            *|                    14|              null|                        14.0|                   91|              148.77|   = 7.0|\n",
       "|1376579706|                        CHAN|                      TZE|             NEWTON|                  IA|    Internal Medicine|               S|      CHOLESTYRAMINE|CHOLESTYRAMINE (W...|      null|               16|                   16.0|             480|         402.17|           null|                            *|                  null|                 *|                        null|                 null|                null|  = 28.0|\n",
       "|1497790661|                     JOHNSON|                     PAUL|       GARDEN GROVE|                  CA|      Family Practice|               S| QUETIAPINE FUMARATE| QUETIAPINE FUMARATE|        14|               51|                   69.1|            2043|        1467.93|           null|                            *|                    18|              null|                        26.1|                  753|              244.99|   = 9.0|\n",
       "|1508831496|                 REYES-ORTIZ|                  ARNALDO|            HUMACAO|                  PR|     General Practice|               S|           IBUPROFEN|           IBUPROFEN|      null|               51|                   51.0|            1168|         286.38|           null|                            *|                  null|                 *|                        null|                 null|                null|  = 20.0|\n",
       "|1962478495|                      VERGIS|                  EMANUEL|         PITTSBURGH|                  PA|   Infectious Disease|               S|    SELENIUM SULFIDE|    SELENIUM SULFIDE|      null|               11|                   11.0|             330|           75.0|              0|                         null|                     0|              null|                         0.0|                    0|                 0.0|  = 10.0|\n",
       "|1467653683|                        HALL|                      AMI|            NEWBURY|                  OH|      Family Practice|               S|     WARFARIN SODIUM|     WARFARIN SODIUM|      null|               21|                   39.0|            1158|         196.02|           null|                            #|                  null|                 #|                        null|                 null|                null|  = 21.0|\n",
       "+----------+----------------------------+-------------------------+-------------------+--------------------+---------------------+----------------+--------------------+--------------------+----------+-----------------+-----------------------+----------------+---------------+---------------+-----------------------------+----------------------+------------------+----------------------------+---------------------+--------------------+--------+\n",
       "only showing top 20 rows"
      ]
     },
     "metadata": {},
     "output_type": "display_data"
    }
   ],
   "source": [
    "display(df1)"
   ]
  },
  {
   "cell_type": "code",
   "execution_count": 21,
   "id": "062d0bab",
   "metadata": {},
   "outputs": [
    {
     "name": "stdout",
     "output_type": "stream",
     "text": [
      "root\n",
      " |-- npi: integer (nullable = true)\n",
      " |-- nppes_provider_last_org_name: string (nullable = true)\n",
      " |-- nppes_provider_first_name: string (nullable = true)\n",
      " |-- nppes_provider_city: string (nullable = true)\n",
      " |-- nppes_provider_state: string (nullable = true)\n",
      " |-- specialty_description: string (nullable = true)\n",
      " |-- description_flag: string (nullable = true)\n",
      " |-- drug_name: string (nullable = true)\n",
      " |-- generic_name: string (nullable = true)\n",
      " |-- bene_count: integer (nullable = true)\n",
      " |-- total_claim_count: integer (nullable = true)\n",
      " |-- total_30_day_fill_count: double (nullable = true)\n",
      " |-- total_day_supply: integer (nullable = true)\n",
      " |-- total_drug_cost: double (nullable = true)\n",
      " |-- bene_count_ge65: integer (nullable = true)\n",
      " |-- bene_count_ge65_suppress_flag: string (nullable = true)\n",
      " |-- total_claim_count_ge65: integer (nullable = true)\n",
      " |-- ge65_suppress_flag: string (nullable = true)\n",
      " |-- total_30_day_fill_count_ge65: double (nullable = true)\n",
      " |-- total_day_supply_ge65: integer (nullable = true)\n",
      " |-- total_drug_cost_ge65: double (nullable = true)\n",
      " |-- year_exp: string (nullable = true)\n",
      "\n"
     ]
    }
   ],
   "source": [
    "df2 = spark.read.format(\"csv\") \\\n",
    "                .option(\"header\", True) \\\n",
    "                .option(\"inferSchema\", True) \\\n",
    "                .option(\"delimeter\", \",\") \\\n",
    "                .load(\"file:///home/hadoop/Downloads/USA_Presc_Medicare_Data_2021.csv\")\n",
    "\n",
    "df2.printSchema()"
   ]
  },
  {
   "cell_type": "markdown",
   "id": "80c56b73",
   "metadata": {},
   "source": [
    "- inferSchema default value is **False**\n",
    "- When setting to **True** it automatically infers **column types** based on the data. "
   ]
  },
  {
   "cell_type": "code",
   "execution_count": 23,
   "id": "546465c4",
   "metadata": {},
   "outputs": [
    {
     "data": {
      "text/html": [
       "<table border='1'>\n",
       "<tr><th>npi</th><th>nppes_provider_last_org_name</th><th>nppes_provider_first_name</th><th>nppes_provider_city</th><th>nppes_provider_state</th><th>specialty_description</th><th>description_flag</th><th>drug_name</th><th>generic_name</th><th>bene_count</th><th>total_claim_count</th><th>total_30_day_fill_count</th><th>total_day_supply</th><th>total_drug_cost</th><th>bene_count_ge65</th><th>bene_count_ge65_suppress_flag</th><th>total_claim_count_ge65</th><th>ge65_suppress_flag</th><th>total_30_day_fill_count_ge65</th><th>total_day_supply_ge65</th><th>total_drug_cost_ge65</th><th>year_exp</th></tr>\n",
       "<tr><td>1437118403</td><td>QUINN</td><td>RACHEL</td><td>FORT ATKINSON</td><td>WI</td><td>Family Practice</td><td>S</td><td>METHENAMINE HIPPU...</td><td>METHENAMINE HIPPU...</td><td>null</td><td>null</td><td>13.0</td><td>366</td><td>1159.13</td><td>null</td><td>*</td><td>null</td><td>*</td><td>null</td><td>null</td><td>null</td><td>= 2.0</td></tr>\n",
       "<tr><td>1437118403</td><td>QUINN</td><td>RACHEL</td><td>FORT ATKINSON</td><td>WI</td><td>Family Practice</td><td>S</td><td>METHENAMINE HIPPU...</td><td>METHENAMINE HIPPU...</td><td>null</td><td>99</td><td>13.0</td><td>366</td><td>1159.13</td><td>null</td><td>*</td><td>null</td><td>*</td><td>null</td><td>null</td><td>null</td><td>= 2.0</td></tr>\n",
       "<tr><td>1841297421</td><td>SIFUENTES</td><td>JORGE</td><td>BORGER</td><td>TX</td><td>General Practice</td><td>S</td><td>NYSTATIN</td><td>NYSTATIN</td><td>19</td><td>40</td><td>40.0</td><td>450</td><td>623.64</td><td>null</td><td>#</td><td>29</td><td>null</td><td>29.0</td><td>333</td><td>436.93</td><td>= 9.0</td></tr>\n",
       "<tr><td>1770522567</td><td>VAN DE BEEK</td><td>M.</td><td>PHILADELPHIA</td><td>PA</td><td>Family Practice</td><td>S</td><td>CLONAZEPAM</td><td>CLONAZEPAM</td><td>null</td><td>24</td><td>32.0</td><td>960</td><td>118.55</td><td>null</td><td>#</td><td>null</td><td>#</td><td>null</td><td>null</td><td>null</td><td>= 10.0</td></tr>\n",
       "<tr><td>1497789556</td><td>GRAHAM</td><td>BOB</td><td>NASHVILLE</td><td>TN</td><td>Internal Medicine</td><td>S</td><td>CELECOXIB</td><td>CELECOXIB</td><td>null</td><td>27</td><td>41.0</td><td>1230</td><td>1221.21</td><td>null</td><td>*</td><td>27</td><td>null</td><td>41.0</td><td>1230</td><td>1221.21</td><td>= 12.0</td></tr>\n",
       "<tr><td>1417913278</td><td>JOHNSON</td><td>DIANE</td><td>MINEOLA</td><td>NY</td><td>Infectious Disease</td><td>S</td><td>SULFAMETHOXAZOLE-...</td><td>SULFAMETHOXAZOLE/...</td><td>null</td><td>12</td><td>12.0</td><td>360</td><td>77.57</td><td>0</td><td>null</td><td>0</td><td>null</td><td>0.0</td><td>0</td><td>0.0</td><td>= 25.0</td></tr>\n",
       "<tr><td>1437108628</td><td>HOWERTON</td><td>SHAWN</td><td>ROSEBORO</td><td>NC</td><td>Family Practice</td><td>S</td><td>KLOR-CON M20</td><td>POTASSIUM CHLORIDE</td><td>null</td><td>27</td><td>31.0</td><td>930</td><td>309.6</td><td>null</td><td>*</td><td>27</td><td>null</td><td>31.0</td><td>930</td><td>309.6</td><td>= 3.0</td></tr>\n",
       "<tr><td>1770779761</td><td>KONTIR</td><td>NATALEE</td><td>HOMER CITY</td><td>PA</td><td>Family Practice</td><td>S</td><td>ZOLPIDEM TARTRATE</td><td>ZOLPIDEM TARTRATE</td><td>null</td><td>18</td><td>26.0</td><td>780</td><td>40.76</td><td>null</td><td>*</td><td>18</td><td>null</td><td>26.0</td><td>780</td><td>40.76</td><td>= 6.0</td></tr>\n",
       "<tr><td>1518906262</td><td>MATTIACE</td><td>WILLIAM</td><td>WILLIAMSPORT</td><td>PA</td><td>Family Practice</td><td>S</td><td>null</td><td>ROSUVASTATIN CALCIUM</td><td>13</td><td>67</td><td>91.0</td><td>2730</td><td>22141.56</td><td>null</td><td>#</td><td>null</td><td>#</td><td>null</td><td>null</td><td>null</td><td>= 6.0</td></tr>\n",
       "<tr><td>1437312485</td><td>GERRIETTS</td><td>JENNIFER</td><td>JOHNSTON</td><td>IA</td><td>Family Practice</td><td>S</td><td>INSULIN SYRINGE</td><td>SYRING-NEEDL,DISP...</td><td>null</td><td>17</td><td>17.3</td><td>465</td><td>515.41</td><td>null</td><td>*</td><td>17</td><td>null</td><td>17.3</td><td>465</td><td>515.41</td><td>= 19.0</td></tr>\n",
       "<tr><td>1083631832</td><td>MORAYATI</td><td>SHAMIL</td><td>BURLINGTON</td><td>NC</td><td>Internal Medicine</td><td>S</td><td>AMOXICILLIN</td><td>AMOXICILLIN</td><td>null</td><td>11</td><td>11.0</td><td>97</td><td>53.06</td><td>null</td><td>*</td><td>11</td><td>null</td><td>11.0</td><td>97</td><td>53.06</td><td>= 11.0</td></tr>\n",
       "<tr><td>1932141819</td><td>SHOEMAKER</td><td>ABIGAIL</td><td>WORTINGTON</td><td>OH</td><td>Family Practice</td><td>S</td><td>PRAVASTATIN SODIUM</td><td>PRAVASTATIN SODIUM</td><td>null</td><td>24</td><td>48.0</td><td>1440</td><td>643.93</td><td>null</td><td>*</td><td>24</td><td>null</td><td>48.0</td><td>1440</td><td>643.93</td><td>= 9.0</td></tr>\n",
       "<tr><td>1760574123</td><td>BRADSHAW</td><td>TONDA</td><td>YUCAIPA</td><td>CA</td><td>Internal Medicine</td><td>S</td><td>LANTUS SOLOSTAR</td><td>INSULIN GLARGINE,...</td><td>11</td><td>80</td><td>103.2</td><td>3009</td><td>40241.11</td><td>null</td><td>*</td><td>65</td><td>null</td><td>88.2</td><td>2571</td><td>35212.73</td><td>= 9.0</td></tr>\n",
       "<tr><td>1093078644</td><td>ARORA</td><td>PUNEET</td><td>WORCESTER</td><td>MA</td><td>Dentist</td><td>T</td><td>CLINDAMYCIN HCL</td><td>CLINDAMYCIN HCL</td><td>17</td><td>22</td><td>22.0</td><td>141</td><td>174.73</td><td>null</td><td>*</td><td>null</td><td>*</td><td>null</td><td>null</td><td>null</td><td>= 28.0</td></tr>\n",
       "<tr><td>1881693331</td><td>ALUNDAY</td><td>ARTHUR</td><td>GREENSBURG</td><td>IN</td><td>Internal Medicine</td><td>S</td><td>ONDANSETRON HCL</td><td>ONDANSETRON HCL</td><td>null</td><td>14</td><td>14.0</td><td>91</td><td>148.77</td><td>null</td><td>*</td><td>14</td><td>null</td><td>14.0</td><td>91</td><td>148.77</td><td>= 7.0</td></tr>\n",
       "<tr><td>1376579706</td><td>CHAN</td><td>TZE</td><td>NEWTON</td><td>IA</td><td>Internal Medicine</td><td>S</td><td>CHOLESTYRAMINE</td><td>CHOLESTYRAMINE (W...</td><td>null</td><td>16</td><td>16.0</td><td>480</td><td>402.17</td><td>null</td><td>*</td><td>null</td><td>*</td><td>null</td><td>null</td><td>null</td><td>= 28.0</td></tr>\n",
       "<tr><td>1497790661</td><td>JOHNSON</td><td>PAUL</td><td>GARDEN GROVE</td><td>CA</td><td>Family Practice</td><td>S</td><td>QUETIAPINE FUMARATE</td><td>QUETIAPINE FUMARATE</td><td>14</td><td>51</td><td>69.1</td><td>2043</td><td>1467.93</td><td>null</td><td>*</td><td>18</td><td>null</td><td>26.1</td><td>753</td><td>244.99</td><td>= 9.0</td></tr>\n",
       "<tr><td>1508831496</td><td>REYES-ORTIZ</td><td>ARNALDO</td><td>HUMACAO</td><td>PR</td><td>General Practice</td><td>S</td><td>IBUPROFEN</td><td>IBUPROFEN</td><td>null</td><td>51</td><td>51.0</td><td>1168</td><td>286.38</td><td>null</td><td>*</td><td>null</td><td>*</td><td>null</td><td>null</td><td>null</td><td>= 20.0</td></tr>\n",
       "<tr><td>1962478495</td><td>VERGIS</td><td>EMANUEL</td><td>PITTSBURGH</td><td>PA</td><td>Infectious Disease</td><td>S</td><td>SELENIUM SULFIDE</td><td>SELENIUM SULFIDE</td><td>null</td><td>11</td><td>11.0</td><td>330</td><td>75.0</td><td>0</td><td>null</td><td>0</td><td>null</td><td>0.0</td><td>0</td><td>0.0</td><td>= 10.0</td></tr>\n",
       "<tr><td>1467653683</td><td>HALL</td><td>AMI</td><td>NEWBURY</td><td>OH</td><td>Family Practice</td><td>S</td><td>WARFARIN SODIUM</td><td>WARFARIN SODIUM</td><td>null</td><td>21</td><td>39.0</td><td>1158</td><td>196.02</td><td>null</td><td>#</td><td>null</td><td>#</td><td>null</td><td>null</td><td>null</td><td>= 21.0</td></tr>\n",
       "</table>\n",
       "only showing top 20 rows\n"
      ],
      "text/plain": [
       "+----------+----------------------------+-------------------------+-------------------+--------------------+---------------------+----------------+--------------------+--------------------+----------+-----------------+-----------------------+----------------+---------------+---------------+-----------------------------+----------------------+------------------+----------------------------+---------------------+--------------------+--------+\n",
       "|       npi|nppes_provider_last_org_name|nppes_provider_first_name|nppes_provider_city|nppes_provider_state|specialty_description|description_flag|           drug_name|        generic_name|bene_count|total_claim_count|total_30_day_fill_count|total_day_supply|total_drug_cost|bene_count_ge65|bene_count_ge65_suppress_flag|total_claim_count_ge65|ge65_suppress_flag|total_30_day_fill_count_ge65|total_day_supply_ge65|total_drug_cost_ge65|year_exp|\n",
       "+----------+----------------------------+-------------------------+-------------------+--------------------+---------------------+----------------+--------------------+--------------------+----------+-----------------+-----------------------+----------------+---------------+---------------+-----------------------------+----------------------+------------------+----------------------------+---------------------+--------------------+--------+\n",
       "|1437118403|                       QUINN|                   RACHEL|      FORT ATKINSON|                  WI|      Family Practice|               S|METHENAMINE HIPPU...|METHENAMINE HIPPU...|      null|             null|                   13.0|             366|        1159.13|           null|                            *|                  null|                 *|                        null|                 null|                null|   = 2.0|\n",
       "|1437118403|                       QUINN|                   RACHEL|      FORT ATKINSON|                  WI|      Family Practice|               S|METHENAMINE HIPPU...|METHENAMINE HIPPU...|      null|               99|                   13.0|             366|        1159.13|           null|                            *|                  null|                 *|                        null|                 null|                null|   = 2.0|\n",
       "|1841297421|                   SIFUENTES|                    JORGE|             BORGER|                  TX|     General Practice|               S|            NYSTATIN|            NYSTATIN|        19|               40|                   40.0|             450|         623.64|           null|                            #|                    29|              null|                        29.0|                  333|              436.93|   = 9.0|\n",
       "|1770522567|                 VAN DE BEEK|                       M.|       PHILADELPHIA|                  PA|      Family Practice|               S|          CLONAZEPAM|          CLONAZEPAM|      null|               24|                   32.0|             960|         118.55|           null|                            #|                  null|                 #|                        null|                 null|                null|  = 10.0|\n",
       "|1497789556|                      GRAHAM|                      BOB|          NASHVILLE|                  TN|    Internal Medicine|               S|           CELECOXIB|           CELECOXIB|      null|               27|                   41.0|            1230|        1221.21|           null|                            *|                    27|              null|                        41.0|                 1230|             1221.21|  = 12.0|\n",
       "|1417913278|                     JOHNSON|                    DIANE|            MINEOLA|                  NY|   Infectious Disease|               S|SULFAMETHOXAZOLE-...|SULFAMETHOXAZOLE/...|      null|               12|                   12.0|             360|          77.57|              0|                         null|                     0|              null|                         0.0|                    0|                 0.0|  = 25.0|\n",
       "|1437108628|                    HOWERTON|                    SHAWN|           ROSEBORO|                  NC|      Family Practice|               S|        KLOR-CON M20|  POTASSIUM CHLORIDE|      null|               27|                   31.0|             930|          309.6|           null|                            *|                    27|              null|                        31.0|                  930|               309.6|   = 3.0|\n",
       "|1770779761|                      KONTIR|                  NATALEE|         HOMER CITY|                  PA|      Family Practice|               S|   ZOLPIDEM TARTRATE|   ZOLPIDEM TARTRATE|      null|               18|                   26.0|             780|          40.76|           null|                            *|                    18|              null|                        26.0|                  780|               40.76|   = 6.0|\n",
       "|1518906262|                    MATTIACE|                  WILLIAM|       WILLIAMSPORT|                  PA|      Family Practice|               S|                null|ROSUVASTATIN CALCIUM|        13|               67|                   91.0|            2730|       22141.56|           null|                            #|                  null|                 #|                        null|                 null|                null|   = 6.0|\n",
       "|1437312485|                   GERRIETTS|                 JENNIFER|           JOHNSTON|                  IA|      Family Practice|               S|     INSULIN SYRINGE|SYRING-NEEDL,DISP...|      null|               17|                   17.3|             465|         515.41|           null|                            *|                    17|              null|                        17.3|                  465|              515.41|  = 19.0|\n",
       "|1083631832|                    MORAYATI|                   SHAMIL|         BURLINGTON|                  NC|    Internal Medicine|               S|         AMOXICILLIN|         AMOXICILLIN|      null|               11|                   11.0|              97|          53.06|           null|                            *|                    11|              null|                        11.0|                   97|               53.06|  = 11.0|\n",
       "|1932141819|                   SHOEMAKER|                  ABIGAIL|         WORTINGTON|                  OH|      Family Practice|               S|  PRAVASTATIN SODIUM|  PRAVASTATIN SODIUM|      null|               24|                   48.0|            1440|         643.93|           null|                            *|                    24|              null|                        48.0|                 1440|              643.93|   = 9.0|\n",
       "|1760574123|                    BRADSHAW|                    TONDA|            YUCAIPA|                  CA|    Internal Medicine|               S|     LANTUS SOLOSTAR|INSULIN GLARGINE,...|        11|               80|                  103.2|            3009|       40241.11|           null|                            *|                    65|              null|                        88.2|                 2571|            35212.73|   = 9.0|\n",
       "|1093078644|                       ARORA|                   PUNEET|          WORCESTER|                  MA|              Dentist|               T|     CLINDAMYCIN HCL|     CLINDAMYCIN HCL|        17|               22|                   22.0|             141|         174.73|           null|                            *|                  null|                 *|                        null|                 null|                null|  = 28.0|\n",
       "|1881693331|                     ALUNDAY|                   ARTHUR|         GREENSBURG|                  IN|    Internal Medicine|               S|     ONDANSETRON HCL|     ONDANSETRON HCL|      null|               14|                   14.0|              91|         148.77|           null|                            *|                    14|              null|                        14.0|                   91|              148.77|   = 7.0|\n",
       "|1376579706|                        CHAN|                      TZE|             NEWTON|                  IA|    Internal Medicine|               S|      CHOLESTYRAMINE|CHOLESTYRAMINE (W...|      null|               16|                   16.0|             480|         402.17|           null|                            *|                  null|                 *|                        null|                 null|                null|  = 28.0|\n",
       "|1497790661|                     JOHNSON|                     PAUL|       GARDEN GROVE|                  CA|      Family Practice|               S| QUETIAPINE FUMARATE| QUETIAPINE FUMARATE|        14|               51|                   69.1|            2043|        1467.93|           null|                            *|                    18|              null|                        26.1|                  753|              244.99|   = 9.0|\n",
       "|1508831496|                 REYES-ORTIZ|                  ARNALDO|            HUMACAO|                  PR|     General Practice|               S|           IBUPROFEN|           IBUPROFEN|      null|               51|                   51.0|            1168|         286.38|           null|                            *|                  null|                 *|                        null|                 null|                null|  = 20.0|\n",
       "|1962478495|                      VERGIS|                  EMANUEL|         PITTSBURGH|                  PA|   Infectious Disease|               S|    SELENIUM SULFIDE|    SELENIUM SULFIDE|      null|               11|                   11.0|             330|           75.0|              0|                         null|                     0|              null|                         0.0|                    0|                 0.0|  = 10.0|\n",
       "|1467653683|                        HALL|                      AMI|            NEWBURY|                  OH|      Family Practice|               S|     WARFARIN SODIUM|     WARFARIN SODIUM|      null|               21|                   39.0|            1158|         196.02|           null|                            #|                  null|                 #|                        null|                 null|                null|  = 21.0|\n",
       "+----------+----------------------------+-------------------------+-------------------+--------------------+---------------------+----------------+--------------------+--------------------+----------+-----------------+-----------------------+----------------+---------------+---------------+-----------------------------+----------------------+------------------+----------------------------+---------------------+--------------------+--------+\n",
       "only showing top 20 rows"
      ]
     },
     "metadata": {},
     "output_type": "display_data"
    }
   ],
   "source": [
    "display(df2)"
   ]
  },
  {
   "cell_type": "markdown",
   "id": "7158d663",
   "metadata": {},
   "source": [
    "## User Specified Schema "
   ]
  },
  {
   "cell_type": "code",
   "execution_count": null,
   "id": "7f22afc9",
   "metadata": {},
   "outputs": [],
   "source": [
    "schema = StructType() \\\n",
    "      .add(\"RecordNumber\",IntegerType(),True) \\\n",
    "      .add(\"Zipcode\",IntegerType(),True) \\\n",
    "      .add(\"ZipCodeType\",StringType(),True) \\\n",
    "      .add(\"City\",StringType(),True) \\\n",
    "      .add(\"State\",StringType(),True) \\\n",
    "      .add(\"LocationType\",StringType(),True) \\\n",
    "      .add(\"Lat\",DoubleType(),True) \\\n",
    "      .add(\"Long\",DoubleType(),True) \\\n",
    "      .add(\"Xaxis\",IntegerType(),True) \\\n",
    "      .add(\"Yaxis\",DoubleType(),True) \\\n",
    "      .add(\"Zaxis\",DoubleType(),True) \\\n",
    "      .add(\"WorldRegion\",StringType(),True) \\\n",
    "      .add(\"Country\",StringType(),True) \\\n",
    "      .add(\"LocationText\",StringType(),True) \\\n",
    "      .add(\"Location\",StringType(),True) \\\n",
    "      .add(\"Decommisioned\",BooleanType(),True) \\\n",
    "      .add(\"TaxReturnsFiled\",StringType(),True) \\\n",
    "      .add(\"EstimatedPopulation\",IntegerType(),True) \\\n",
    "      .add(\"TotalWages\",IntegerType(),True) \\\n",
    "      .add(\"Notes\",StringType(),True)\n"
   ]
  },
  {
   "cell_type": "code",
   "execution_count": null,
   "id": "c1252c6b",
   "metadata": {},
   "outputs": [],
   "source": [
    "      \n",
    "df_with_schema = spark.read.format(\"csv\") \\\n",
    "      .option(\"header\", True) \\\n",
    "      .schema(schema) \\\n",
    "      .load(\"/tmp/resources/zipcodes.csv\")"
   ]
  },
  {
   "cell_type": "markdown",
   "id": "c95b0aa2",
   "metadata": {},
   "source": [
    "## Read multiple CSV files"
   ]
  },
  {
   "cell_type": "markdown",
   "id": "182423ab",
   "metadata": {},
   "source": [
    "Using the **spark.read.csv(\"path\")** method you can also read multiple csv files"
   ]
  },
  {
   "cell_type": "code",
   "execution_count": null,
   "id": "5601568e",
   "metadata": {},
   "outputs": [],
   "source": [
    "df = spark.read.csv(\"/path1/fileName1.csv, /path2/fileName2.csv, /path3/fileName3.csv\")"
   ]
  },
  {
   "cell_type": "markdown",
   "id": "2fe20489",
   "metadata": {},
   "source": [
    "## Read all CSVs in a folder "
   ]
  },
  {
   "cell_type": "markdown",
   "id": "c3b98b58",
   "metadata": {},
   "source": [
    "Using the **spark.read.csv(\"path\")** method you can read all csv files in a directory"
   ]
  },
  {
   "cell_type": "code",
   "execution_count": null,
   "id": "cd4ba0a8",
   "metadata": {},
   "outputs": [],
   "source": [
    "df = spark.read.csv(\"/folder/path\")\n",
    "\n",
    "or\n",
    "\n",
    "folder_path = \"/full/folder/path\"\n",
    "df = spark.read.csv(folder_path)"
   ]
  },
  {
   "cell_type": "markdown",
   "id": "89494d45",
   "metadata": {},
   "source": [
    "# 02. Read JSON file"
   ]
  },
  {
   "cell_type": "markdown",
   "id": "fef32af2",
   "metadata": {},
   "source": [
    "By default JSON data source **inferschema** from an input file. You can use below 2 methods to read JSON files.\n",
    "\n",
    "- json(\"path\")\n",
    "- format(\"json\").load(\"path\")"
   ]
  },
  {
   "cell_type": "markdown",
   "id": "804bb8f4",
   "metadata": {},
   "source": [
    "#### Using spark.read.json(\"path\") method "
   ]
  },
  {
   "cell_type": "code",
   "execution_count": 26,
   "id": "ec4feac5",
   "metadata": {},
   "outputs": [
    {
     "name": "stderr",
     "output_type": "stream",
     "text": [
      "\r",
      "[Stage 22:=============================>                            (1 + 1) / 2]\r",
      "\r",
      "                                                                                \r"
     ]
    },
    {
     "name": "stdout",
     "output_type": "stream",
     "text": [
      "root\n",
      " |-- city: string (nullable = true)\n",
      " |-- city_ascii: string (nullable = true)\n",
      " |-- county_fips: long (nullable = true)\n",
      " |-- county_name: string (nullable = true)\n",
      " |-- density: long (nullable = true)\n",
      " |-- lat: double (nullable = true)\n",
      " |-- lng: double (nullable = true)\n",
      " |-- population: long (nullable = true)\n",
      " |-- state_id: string (nullable = true)\n",
      " |-- state_name: string (nullable = true)\n",
      " |-- timezone: string (nullable = true)\n",
      " |-- zips: string (nullable = true)\n",
      "\n"
     ]
    }
   ],
   "source": [
    "df1 = spark.read.json(\"file:///home/hadoop/Downloads/USA_City.json\")\n",
    "df1.printSchema()"
   ]
  },
  {
   "cell_type": "code",
   "execution_count": 27,
   "id": "a0801f44",
   "metadata": {},
   "outputs": [
    {
     "name": "stdout",
     "output_type": "stream",
     "text": [
      "root\n",
      " |-- city: string (nullable = true)\n",
      " |-- city_ascii: string (nullable = true)\n",
      " |-- county_fips: long (nullable = true)\n",
      " |-- county_name: string (nullable = true)\n",
      " |-- density: long (nullable = true)\n",
      " |-- lat: double (nullable = true)\n",
      " |-- lng: double (nullable = true)\n",
      " |-- population: long (nullable = true)\n",
      " |-- state_id: string (nullable = true)\n",
      " |-- state_name: string (nullable = true)\n",
      " |-- timezone: string (nullable = true)\n",
      " |-- zips: string (nullable = true)\n",
      "\n"
     ]
    }
   ],
   "source": [
    "df2 = spark.read.format(\"json\").load(\"file:///home/hadoop/Downloads/USA_City.json\")\n",
    "df2.printSchema()"
   ]
  },
  {
   "cell_type": "markdown",
   "id": "5425c9c7",
   "metadata": {},
   "source": [
    "## Read Multiline JSON file"
   ]
  },
  {
   "cell_type": "code",
   "execution_count": 30,
   "id": "a8084efa",
   "metadata": {},
   "outputs": [
    {
     "name": "stdout",
     "output_type": "stream",
     "text": [
      "root\n",
      " |-- City: string (nullable = true)\n",
      " |-- RecordNumber: long (nullable = true)\n",
      " |-- State: string (nullable = true)\n",
      " |-- ZipCodeType: string (nullable = true)\n",
      " |-- Zipcode: long (nullable = true)\n",
      "\n"
     ]
    }
   ],
   "source": [
    "df3 = spark.read.option(\"multiline\", True) \\\n",
    "                .json(\"file:///home/hadoop/Downloads/multiline-zipcode.json\")\n",
    "\n",
    "df3.printSchema()"
   ]
  },
  {
   "cell_type": "markdown",
   "id": "34bbbabb",
   "metadata": {},
   "source": [
    "By default multiline option, is set to false."
   ]
  }
 ],
 "metadata": {
  "kernelspec": {
   "display_name": "Python 3 (ipykernel)",
   "language": "python",
   "name": "python3"
  },
  "language_info": {
   "codemirror_mode": {
    "name": "ipython",
    "version": 3
   },
   "file_extension": ".py",
   "mimetype": "text/x-python",
   "name": "python",
   "nbconvert_exporter": "python",
   "pygments_lexer": "ipython3",
   "version": "3.10.12"
  }
 },
 "nbformat": 4,
 "nbformat_minor": 5
}
