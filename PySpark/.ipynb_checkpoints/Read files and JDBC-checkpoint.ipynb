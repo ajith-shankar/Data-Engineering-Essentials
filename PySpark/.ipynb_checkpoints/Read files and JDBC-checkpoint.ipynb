{
 "cells": [
  {
   "cell_type": "markdown",
   "id": "9c1ea817",
   "metadata": {},
   "source": [
    "# <font color=Blue>Read</font>"
   ]
  },
  {
   "cell_type": "code",
   "execution_count": 3,
   "id": "10b42832",
   "metadata": {},
   "outputs": [],
   "source": [
    "import findspark\n",
    "findspark.init()"
   ]
  },
  {
   "cell_type": "code",
   "execution_count": 4,
   "id": "f6fae7c9",
   "metadata": {},
   "outputs": [
    {
     "name": "stderr",
     "output_type": "stream",
     "text": [
      "24/03/19 22:39:57 WARN Utils: Your hostname, ajith-Lenovo-G50-80 resolves to a loopback address: 127.0.1.1; using 192.168.1.40 instead (on interface wlp3s0)\n",
      "24/03/19 22:39:57 WARN Utils: Set SPARK_LOCAL_IP if you need to bind to another address\n",
      "24/03/19 22:39:59 WARN NativeCodeLoader: Unable to load native-hadoop library for your platform... using builtin-java classes where applicable\n"
     ]
    }
   ],
   "source": [
    "import pyspark\n",
    "from pyspark.sql import SparkSession\n",
    "\n",
    "spark = SparkSession.builder.appName(\"Read files and JDBC tables\").master(\"local[*]\").getOrCreate()"
   ]
  },
  {
   "cell_type": "code",
   "execution_count": 5,
   "id": "96fd9a86",
   "metadata": {},
   "outputs": [
    {
     "data": {
      "text/html": [
       "\n",
       "            <div>\n",
       "                <p><b>SparkSession - in-memory</b></p>\n",
       "                \n",
       "        <div>\n",
       "            <p><b>SparkContext</b></p>\n",
       "\n",
       "            <p><a href=\"http://192.168.1.40:4040\">Spark UI</a></p>\n",
       "\n",
       "            <dl>\n",
       "              <dt>Version</dt>\n",
       "                <dd><code>v3.3.4</code></dd>\n",
       "              <dt>Master</dt>\n",
       "                <dd><code>local[*]</code></dd>\n",
       "              <dt>AppName</dt>\n",
       "                <dd><code>Read files and JDBC tables</code></dd>\n",
       "            </dl>\n",
       "        </div>\n",
       "        \n",
       "            </div>\n",
       "        "
      ],
      "text/plain": [
       "<pyspark.sql.session.SparkSession at 0x7fd2604ddb70>"
      ]
     },
     "execution_count": 5,
     "metadata": {},
     "output_type": "execute_result"
    }
   ],
   "source": [
    "spark"
   ]
  },
  {
   "cell_type": "markdown",
   "id": "b11fd105",
   "metadata": {},
   "source": [
    "# 01. Read CSV file"
   ]
  },
  {
   "cell_type": "markdown",
   "id": "0f9f25d1",
   "metadata": {},
   "source": [
    "PySpark supports reading a CSV file with a pipe, comma, tab, space, or any other delimiter/separator files. You can read .csv files using below 2 read formats.\n",
    "\n",
    "- csv(\"path\")\n",
    "- format(\"csv\").load(\"path\")"
   ]
  },
  {
   "cell_type": "markdown",
   "id": "122166b8",
   "metadata": {},
   "source": [
    "#### Using spark.read.csv(\"path\") method"
   ]
  },
  {
   "cell_type": "code",
   "execution_count": 6,
   "id": "06ffc0f5",
   "metadata": {},
   "outputs": [
    {
     "name": "stderr",
     "output_type": "stream",
     "text": [
      "                                                                                \r"
     ]
    }
   ],
   "source": [
    "df1 = spark.read.csv(\"file:///home/hadoop/Downloads/USA_Presc_Medicare_Data_2021.csv\")"
   ]
  },
  {
   "cell_type": "code",
   "execution_count": 7,
   "id": "469f2725",
   "metadata": {},
   "outputs": [
    {
     "name": "stdout",
     "output_type": "stream",
     "text": [
      "root\n",
      " |-- _c0: string (nullable = true)\n",
      " |-- _c1: string (nullable = true)\n",
      " |-- _c2: string (nullable = true)\n",
      " |-- _c3: string (nullable = true)\n",
      " |-- _c4: string (nullable = true)\n",
      " |-- _c5: string (nullable = true)\n",
      " |-- _c6: string (nullable = true)\n",
      " |-- _c7: string (nullable = true)\n",
      " |-- _c8: string (nullable = true)\n",
      " |-- _c9: string (nullable = true)\n",
      " |-- _c10: string (nullable = true)\n",
      " |-- _c11: string (nullable = true)\n",
      " |-- _c12: string (nullable = true)\n",
      " |-- _c13: string (nullable = true)\n",
      " |-- _c14: string (nullable = true)\n",
      " |-- _c15: string (nullable = true)\n",
      " |-- _c16: string (nullable = true)\n",
      " |-- _c17: string (nullable = true)\n",
      " |-- _c18: string (nullable = true)\n",
      " |-- _c19: string (nullable = true)\n",
      " |-- _c20: string (nullable = true)\n",
      " |-- _c21: string (nullable = true)\n",
      "\n"
     ]
    }
   ],
   "source": [
    "df1.printSchema()"
   ]
  },
  {
   "cell_type": "markdown",
   "id": "9c91769f",
   "metadata": {},
   "source": [
    "#### Using spark.read.format(\"csv\").load(\"path\") method "
   ]
  },
  {
   "cell_type": "code",
   "execution_count": 8,
   "id": "eb286e08",
   "metadata": {},
   "outputs": [],
   "source": [
    "df2 = spark.read.format(\"csv\").load(\"file:///home/hadoop/Downloads/USA_Presc_Medicare_Data_2021.csv\")"
   ]
  },
  {
   "cell_type": "code",
   "execution_count": 9,
   "id": "995505f5",
   "metadata": {},
   "outputs": [
    {
     "name": "stdout",
     "output_type": "stream",
     "text": [
      "root\n",
      " |-- _c0: string (nullable = true)\n",
      " |-- _c1: string (nullable = true)\n",
      " |-- _c2: string (nullable = true)\n",
      " |-- _c3: string (nullable = true)\n",
      " |-- _c4: string (nullable = true)\n",
      " |-- _c5: string (nullable = true)\n",
      " |-- _c6: string (nullable = true)\n",
      " |-- _c7: string (nullable = true)\n",
      " |-- _c8: string (nullable = true)\n",
      " |-- _c9: string (nullable = true)\n",
      " |-- _c10: string (nullable = true)\n",
      " |-- _c11: string (nullable = true)\n",
      " |-- _c12: string (nullable = true)\n",
      " |-- _c13: string (nullable = true)\n",
      " |-- _c14: string (nullable = true)\n",
      " |-- _c15: string (nullable = true)\n",
      " |-- _c16: string (nullable = true)\n",
      " |-- _c17: string (nullable = true)\n",
      " |-- _c18: string (nullable = true)\n",
      " |-- _c19: string (nullable = true)\n",
      " |-- _c20: string (nullable = true)\n",
      " |-- _c21: string (nullable = true)\n",
      "\n"
     ]
    }
   ],
   "source": [
    "df2.printSchema()"
   ]
  },
  {
   "cell_type": "markdown",
   "id": "7499b660",
   "metadata": {},
   "source": [
    "By default it reads the data into dataframe columns as _c0, _c1 and so on. And datatype as String"
   ]
  },
  {
   "cell_type": "markdown",
   "id": "cba129e1",
   "metadata": {},
   "source": [
    "## Add options"
   ]
  },
  {
   "cell_type": "markdown",
   "id": "91d9ea30",
   "metadata": {},
   "source": [
    "### Header"
   ]
  },
  {
   "cell_type": "code",
   "execution_count": 10,
   "id": "62c123f3",
   "metadata": {},
   "outputs": [
    {
     "name": "stdout",
     "output_type": "stream",
     "text": [
      "root\n",
      " |-- npi: string (nullable = true)\n",
      " |-- nppes_provider_last_org_name: string (nullable = true)\n",
      " |-- nppes_provider_first_name: string (nullable = true)\n",
      " |-- nppes_provider_city: string (nullable = true)\n",
      " |-- nppes_provider_state: string (nullable = true)\n",
      " |-- specialty_description: string (nullable = true)\n",
      " |-- description_flag: string (nullable = true)\n",
      " |-- drug_name: string (nullable = true)\n",
      " |-- generic_name: string (nullable = true)\n",
      " |-- bene_count: string (nullable = true)\n",
      " |-- total_claim_count: string (nullable = true)\n",
      " |-- total_30_day_fill_count: string (nullable = true)\n",
      " |-- total_day_supply: string (nullable = true)\n",
      " |-- total_drug_cost: string (nullable = true)\n",
      " |-- bene_count_ge65: string (nullable = true)\n",
      " |-- bene_count_ge65_suppress_flag: string (nullable = true)\n",
      " |-- total_claim_count_ge65: string (nullable = true)\n",
      " |-- ge65_suppress_flag: string (nullable = true)\n",
      " |-- total_30_day_fill_count_ge65: string (nullable = true)\n",
      " |-- total_day_supply_ge65: string (nullable = true)\n",
      " |-- total_drug_cost_ge65: string (nullable = true)\n",
      " |-- year_exp: string (nullable = true)\n",
      "\n"
     ]
    }
   ],
   "source": [
    "df1 = spark.read.option(\"header\", True).csv(\"file:///home/hadoop/Downloads/USA_Presc_Medicare_Data_2021.csv\")\n",
    "df1.printSchema()"
   ]
  },
  {
   "cell_type": "code",
   "execution_count": 11,
   "id": "63001c50",
   "metadata": {},
   "outputs": [
    {
     "name": "stdout",
     "output_type": "stream",
     "text": [
      "root\n",
      " |-- npi: string (nullable = true)\n",
      " |-- nppes_provider_last_org_name: string (nullable = true)\n",
      " |-- nppes_provider_first_name: string (nullable = true)\n",
      " |-- nppes_provider_city: string (nullable = true)\n",
      " |-- nppes_provider_state: string (nullable = true)\n",
      " |-- specialty_description: string (nullable = true)\n",
      " |-- description_flag: string (nullable = true)\n",
      " |-- drug_name: string (nullable = true)\n",
      " |-- generic_name: string (nullable = true)\n",
      " |-- bene_count: string (nullable = true)\n",
      " |-- total_claim_count: string (nullable = true)\n",
      " |-- total_30_day_fill_count: string (nullable = true)\n",
      " |-- total_day_supply: string (nullable = true)\n",
      " |-- total_drug_cost: string (nullable = true)\n",
      " |-- bene_count_ge65: string (nullable = true)\n",
      " |-- bene_count_ge65_suppress_flag: string (nullable = true)\n",
      " |-- total_claim_count_ge65: string (nullable = true)\n",
      " |-- ge65_suppress_flag: string (nullable = true)\n",
      " |-- total_30_day_fill_count_ge65: string (nullable = true)\n",
      " |-- total_day_supply_ge65: string (nullable = true)\n",
      " |-- total_drug_cost_ge65: string (nullable = true)\n",
      " |-- year_exp: string (nullable = true)\n",
      "\n"
     ]
    }
   ],
   "source": [
    "df2 = spark.read.format(\"csv\").option(\"header\", True).load(\"file:///home/hadoop/Downloads/USA_Presc_Medicare_Data_2021.csv\")\n",
    "df2.printSchema()"
   ]
  },
  {
   "cell_type": "markdown",
   "id": "2b4e7807",
   "metadata": {},
   "source": [
    "- This option is used to read the **first line** of the CSV file as **column names**. \n",
    "- By default the value of this option is **False**, and all column types are assumed to be a **string**."
   ]
  },
  {
   "cell_type": "markdown",
   "id": "fd9ff0aa",
   "metadata": {},
   "source": [
    "### Delimeter"
   ]
  },
  {
   "cell_type": "code",
   "execution_count": 12,
   "id": "da310282",
   "metadata": {},
   "outputs": [
    {
     "name": "stdout",
     "output_type": "stream",
     "text": [
      "root\n",
      " |-- npi: string (nullable = true)\n",
      " |-- nppes_provider_last_org_name: string (nullable = true)\n",
      " |-- nppes_provider_first_name: string (nullable = true)\n",
      " |-- nppes_provider_city: string (nullable = true)\n",
      " |-- nppes_provider_state: string (nullable = true)\n",
      " |-- specialty_description: string (nullable = true)\n",
      " |-- description_flag: string (nullable = true)\n",
      " |-- drug_name: string (nullable = true)\n",
      " |-- generic_name: string (nullable = true)\n",
      " |-- bene_count: string (nullable = true)\n",
      " |-- total_claim_count: string (nullable = true)\n",
      " |-- total_30_day_fill_count: string (nullable = true)\n",
      " |-- total_day_supply: string (nullable = true)\n",
      " |-- total_drug_cost: string (nullable = true)\n",
      " |-- bene_count_ge65: string (nullable = true)\n",
      " |-- bene_count_ge65_suppress_flag: string (nullable = true)\n",
      " |-- total_claim_count_ge65: string (nullable = true)\n",
      " |-- ge65_suppress_flag: string (nullable = true)\n",
      " |-- total_30_day_fill_count_ge65: string (nullable = true)\n",
      " |-- total_day_supply_ge65: string (nullable = true)\n",
      " |-- total_drug_cost_ge65: string (nullable = true)\n",
      " |-- year_exp: string (nullable = true)\n",
      "\n"
     ]
    }
   ],
   "source": [
    "df3 = spark.read.option(\"header\", True) \\\n",
    "                .option(\"delimeter\", \",\") \\\n",
    "                .csv(\"file:///home/hadoop/Downloads/USA_Presc_Medicare_Data_2021.csv\")\n",
    "\n",
    "df3.printSchema()"
   ]
  },
  {
   "cell_type": "markdown",
   "id": "6bb88d47",
   "metadata": {},
   "source": [
    "- By default, it is comma (,) character \n",
    "- but can be set to any character like pipe(|), tab (\\t), space using this option."
   ]
  },
  {
   "cell_type": "markdown",
   "id": "ca669270",
   "metadata": {},
   "source": [
    "Above one can also be written using options()"
   ]
  },
  {
   "cell_type": "code",
   "execution_count": 16,
   "id": "091880a3",
   "metadata": {},
   "outputs": [
    {
     "name": "stdout",
     "output_type": "stream",
     "text": [
      "root\n",
      " |-- npi: string (nullable = true)\n",
      " |-- nppes_provider_last_org_name: string (nullable = true)\n",
      " |-- nppes_provider_first_name: string (nullable = true)\n",
      " |-- nppes_provider_city: string (nullable = true)\n",
      " |-- nppes_provider_state: string (nullable = true)\n",
      " |-- specialty_description: string (nullable = true)\n",
      " |-- description_flag: string (nullable = true)\n",
      " |-- drug_name: string (nullable = true)\n",
      " |-- generic_name: string (nullable = true)\n",
      " |-- bene_count: string (nullable = true)\n",
      " |-- total_claim_count: string (nullable = true)\n",
      " |-- total_30_day_fill_count: string (nullable = true)\n",
      " |-- total_day_supply: string (nullable = true)\n",
      " |-- total_drug_cost: string (nullable = true)\n",
      " |-- bene_count_ge65: string (nullable = true)\n",
      " |-- bene_count_ge65_suppress_flag: string (nullable = true)\n",
      " |-- total_claim_count_ge65: string (nullable = true)\n",
      " |-- ge65_suppress_flag: string (nullable = true)\n",
      " |-- total_30_day_fill_count_ge65: string (nullable = true)\n",
      " |-- total_day_supply_ge65: string (nullable = true)\n",
      " |-- total_drug_cost_ge65: string (nullable = true)\n",
      " |-- year_exp: string (nullable = true)\n",
      "\n"
     ]
    }
   ],
   "source": [
    "df4 = spark.read.options(header='True', delimeter=',').csv('file:///home/hadoop/Downloads/USA_Presc_Medicare_Data_2021.csv')\n",
    "df4.printSchema()"
   ]
  },
  {
   "cell_type": "markdown",
   "id": "5205a912",
   "metadata": {},
   "source": [
    "### InferSchema"
   ]
  },
  {
   "cell_type": "code",
   "execution_count": 19,
   "id": "6d440beb",
   "metadata": {},
   "outputs": [
    {
     "name": "stdout",
     "output_type": "stream",
     "text": [
      "root\n",
      " |-- npi: integer (nullable = true)\n",
      " |-- nppes_provider_last_org_name: string (nullable = true)\n",
      " |-- nppes_provider_first_name: string (nullable = true)\n",
      " |-- nppes_provider_city: string (nullable = true)\n",
      " |-- nppes_provider_state: string (nullable = true)\n",
      " |-- specialty_description: string (nullable = true)\n",
      " |-- description_flag: string (nullable = true)\n",
      " |-- drug_name: string (nullable = true)\n",
      " |-- generic_name: string (nullable = true)\n",
      " |-- bene_count: integer (nullable = true)\n",
      " |-- total_claim_count: integer (nullable = true)\n",
      " |-- total_30_day_fill_count: double (nullable = true)\n",
      " |-- total_day_supply: integer (nullable = true)\n",
      " |-- total_drug_cost: double (nullable = true)\n",
      " |-- bene_count_ge65: integer (nullable = true)\n",
      " |-- bene_count_ge65_suppress_flag: string (nullable = true)\n",
      " |-- total_claim_count_ge65: integer (nullable = true)\n",
      " |-- ge65_suppress_flag: string (nullable = true)\n",
      " |-- total_30_day_fill_count_ge65: double (nullable = true)\n",
      " |-- total_day_supply_ge65: integer (nullable = true)\n",
      " |-- total_drug_cost_ge65: double (nullable = true)\n",
      " |-- year_exp: string (nullable = true)\n",
      "\n"
     ]
    }
   ],
   "source": [
    "df1 = spark.read.option(\"header\", True) \\\n",
    "                .option(\"delimeter\", \",\") \\\n",
    "                .option(\"inferSchema\", True) \\\n",
    "                .csv(\"file:///home/hadoop/Downloads/USA_Presc_Medicare_Data_2021.csv\")\n",
    "\n",
    "df1.printSchema()"
   ]
  },
  {
   "cell_type": "code",
   "execution_count": 24,
   "id": "20499453",
   "metadata": {},
   "outputs": [
    {
     "data": {
      "text/html": [
       "<table border='1'>\n",
       "<tr><th>npi</th><th>nppes_provider_last_org_name</th><th>nppes_provider_first_name</th><th>nppes_provider_city</th><th>nppes_provider_state</th><th>specialty_description</th><th>description_flag</th><th>drug_name</th><th>generic_name</th><th>bene_count</th><th>total_claim_count</th><th>total_30_day_fill_count</th><th>total_day_supply</th><th>total_drug_cost</th><th>bene_count_ge65</th><th>bene_count_ge65_suppress_flag</th><th>total_claim_count_ge65</th><th>ge65_suppress_flag</th><th>total_30_day_fill_count_ge65</th><th>total_day_supply_ge65</th><th>total_drug_cost_ge65</th><th>year_exp</th></tr>\n",
       "<tr><td>1437118403</td><td>QUINN</td><td>RACHEL</td><td>FORT ATKINSON</td><td>WI</td><td>Family Practice</td><td>S</td><td>METHENAMINE HIPPU...</td><td>METHENAMINE HIPPU...</td><td>null</td><td>null</td><td>13.0</td><td>366</td><td>1159.13</td><td>null</td><td>*</td><td>null</td><td>*</td><td>null</td><td>null</td><td>null</td><td>= 2.0</td></tr>\n",
       "<tr><td>1437118403</td><td>QUINN</td><td>RACHEL</td><td>FORT ATKINSON</td><td>WI</td><td>Family Practice</td><td>S</td><td>METHENAMINE HIPPU...</td><td>METHENAMINE HIPPU...</td><td>null</td><td>99</td><td>13.0</td><td>366</td><td>1159.13</td><td>null</td><td>*</td><td>null</td><td>*</td><td>null</td><td>null</td><td>null</td><td>= 2.0</td></tr>\n",
       "<tr><td>1841297421</td><td>SIFUENTES</td><td>JORGE</td><td>BORGER</td><td>TX</td><td>General Practice</td><td>S</td><td>NYSTATIN</td><td>NYSTATIN</td><td>19</td><td>40</td><td>40.0</td><td>450</td><td>623.64</td><td>null</td><td>#</td><td>29</td><td>null</td><td>29.0</td><td>333</td><td>436.93</td><td>= 9.0</td></tr>\n",
       "<tr><td>1770522567</td><td>VAN DE BEEK</td><td>M.</td><td>PHILADELPHIA</td><td>PA</td><td>Family Practice</td><td>S</td><td>CLONAZEPAM</td><td>CLONAZEPAM</td><td>null</td><td>24</td><td>32.0</td><td>960</td><td>118.55</td><td>null</td><td>#</td><td>null</td><td>#</td><td>null</td><td>null</td><td>null</td><td>= 10.0</td></tr>\n",
       "<tr><td>1497789556</td><td>GRAHAM</td><td>BOB</td><td>NASHVILLE</td><td>TN</td><td>Internal Medicine</td><td>S</td><td>CELECOXIB</td><td>CELECOXIB</td><td>null</td><td>27</td><td>41.0</td><td>1230</td><td>1221.21</td><td>null</td><td>*</td><td>27</td><td>null</td><td>41.0</td><td>1230</td><td>1221.21</td><td>= 12.0</td></tr>\n",
       "<tr><td>1417913278</td><td>JOHNSON</td><td>DIANE</td><td>MINEOLA</td><td>NY</td><td>Infectious Disease</td><td>S</td><td>SULFAMETHOXAZOLE-...</td><td>SULFAMETHOXAZOLE/...</td><td>null</td><td>12</td><td>12.0</td><td>360</td><td>77.57</td><td>0</td><td>null</td><td>0</td><td>null</td><td>0.0</td><td>0</td><td>0.0</td><td>= 25.0</td></tr>\n",
       "<tr><td>1437108628</td><td>HOWERTON</td><td>SHAWN</td><td>ROSEBORO</td><td>NC</td><td>Family Practice</td><td>S</td><td>KLOR-CON M20</td><td>POTASSIUM CHLORIDE</td><td>null</td><td>27</td><td>31.0</td><td>930</td><td>309.6</td><td>null</td><td>*</td><td>27</td><td>null</td><td>31.0</td><td>930</td><td>309.6</td><td>= 3.0</td></tr>\n",
       "<tr><td>1770779761</td><td>KONTIR</td><td>NATALEE</td><td>HOMER CITY</td><td>PA</td><td>Family Practice</td><td>S</td><td>ZOLPIDEM TARTRATE</td><td>ZOLPIDEM TARTRATE</td><td>null</td><td>18</td><td>26.0</td><td>780</td><td>40.76</td><td>null</td><td>*</td><td>18</td><td>null</td><td>26.0</td><td>780</td><td>40.76</td><td>= 6.0</td></tr>\n",
       "<tr><td>1518906262</td><td>MATTIACE</td><td>WILLIAM</td><td>WILLIAMSPORT</td><td>PA</td><td>Family Practice</td><td>S</td><td>null</td><td>ROSUVASTATIN CALCIUM</td><td>13</td><td>67</td><td>91.0</td><td>2730</td><td>22141.56</td><td>null</td><td>#</td><td>null</td><td>#</td><td>null</td><td>null</td><td>null</td><td>= 6.0</td></tr>\n",
       "<tr><td>1437312485</td><td>GERRIETTS</td><td>JENNIFER</td><td>JOHNSTON</td><td>IA</td><td>Family Practice</td><td>S</td><td>INSULIN SYRINGE</td><td>SYRING-NEEDL,DISP...</td><td>null</td><td>17</td><td>17.3</td><td>465</td><td>515.41</td><td>null</td><td>*</td><td>17</td><td>null</td><td>17.3</td><td>465</td><td>515.41</td><td>= 19.0</td></tr>\n",
       "<tr><td>1083631832</td><td>MORAYATI</td><td>SHAMIL</td><td>BURLINGTON</td><td>NC</td><td>Internal Medicine</td><td>S</td><td>AMOXICILLIN</td><td>AMOXICILLIN</td><td>null</td><td>11</td><td>11.0</td><td>97</td><td>53.06</td><td>null</td><td>*</td><td>11</td><td>null</td><td>11.0</td><td>97</td><td>53.06</td><td>= 11.0</td></tr>\n",
       "<tr><td>1932141819</td><td>SHOEMAKER</td><td>ABIGAIL</td><td>WORTINGTON</td><td>OH</td><td>Family Practice</td><td>S</td><td>PRAVASTATIN SODIUM</td><td>PRAVASTATIN SODIUM</td><td>null</td><td>24</td><td>48.0</td><td>1440</td><td>643.93</td><td>null</td><td>*</td><td>24</td><td>null</td><td>48.0</td><td>1440</td><td>643.93</td><td>= 9.0</td></tr>\n",
       "<tr><td>1760574123</td><td>BRADSHAW</td><td>TONDA</td><td>YUCAIPA</td><td>CA</td><td>Internal Medicine</td><td>S</td><td>LANTUS SOLOSTAR</td><td>INSULIN GLARGINE,...</td><td>11</td><td>80</td><td>103.2</td><td>3009</td><td>40241.11</td><td>null</td><td>*</td><td>65</td><td>null</td><td>88.2</td><td>2571</td><td>35212.73</td><td>= 9.0</td></tr>\n",
       "<tr><td>1093078644</td><td>ARORA</td><td>PUNEET</td><td>WORCESTER</td><td>MA</td><td>Dentist</td><td>T</td><td>CLINDAMYCIN HCL</td><td>CLINDAMYCIN HCL</td><td>17</td><td>22</td><td>22.0</td><td>141</td><td>174.73</td><td>null</td><td>*</td><td>null</td><td>*</td><td>null</td><td>null</td><td>null</td><td>= 28.0</td></tr>\n",
       "<tr><td>1881693331</td><td>ALUNDAY</td><td>ARTHUR</td><td>GREENSBURG</td><td>IN</td><td>Internal Medicine</td><td>S</td><td>ONDANSETRON HCL</td><td>ONDANSETRON HCL</td><td>null</td><td>14</td><td>14.0</td><td>91</td><td>148.77</td><td>null</td><td>*</td><td>14</td><td>null</td><td>14.0</td><td>91</td><td>148.77</td><td>= 7.0</td></tr>\n",
       "<tr><td>1376579706</td><td>CHAN</td><td>TZE</td><td>NEWTON</td><td>IA</td><td>Internal Medicine</td><td>S</td><td>CHOLESTYRAMINE</td><td>CHOLESTYRAMINE (W...</td><td>null</td><td>16</td><td>16.0</td><td>480</td><td>402.17</td><td>null</td><td>*</td><td>null</td><td>*</td><td>null</td><td>null</td><td>null</td><td>= 28.0</td></tr>\n",
       "<tr><td>1497790661</td><td>JOHNSON</td><td>PAUL</td><td>GARDEN GROVE</td><td>CA</td><td>Family Practice</td><td>S</td><td>QUETIAPINE FUMARATE</td><td>QUETIAPINE FUMARATE</td><td>14</td><td>51</td><td>69.1</td><td>2043</td><td>1467.93</td><td>null</td><td>*</td><td>18</td><td>null</td><td>26.1</td><td>753</td><td>244.99</td><td>= 9.0</td></tr>\n",
       "<tr><td>1508831496</td><td>REYES-ORTIZ</td><td>ARNALDO</td><td>HUMACAO</td><td>PR</td><td>General Practice</td><td>S</td><td>IBUPROFEN</td><td>IBUPROFEN</td><td>null</td><td>51</td><td>51.0</td><td>1168</td><td>286.38</td><td>null</td><td>*</td><td>null</td><td>*</td><td>null</td><td>null</td><td>null</td><td>= 20.0</td></tr>\n",
       "<tr><td>1962478495</td><td>VERGIS</td><td>EMANUEL</td><td>PITTSBURGH</td><td>PA</td><td>Infectious Disease</td><td>S</td><td>SELENIUM SULFIDE</td><td>SELENIUM SULFIDE</td><td>null</td><td>11</td><td>11.0</td><td>330</td><td>75.0</td><td>0</td><td>null</td><td>0</td><td>null</td><td>0.0</td><td>0</td><td>0.0</td><td>= 10.0</td></tr>\n",
       "<tr><td>1467653683</td><td>HALL</td><td>AMI</td><td>NEWBURY</td><td>OH</td><td>Family Practice</td><td>S</td><td>WARFARIN SODIUM</td><td>WARFARIN SODIUM</td><td>null</td><td>21</td><td>39.0</td><td>1158</td><td>196.02</td><td>null</td><td>#</td><td>null</td><td>#</td><td>null</td><td>null</td><td>null</td><td>= 21.0</td></tr>\n",
       "</table>\n",
       "only showing top 20 rows\n"
      ],
      "text/plain": [
       "+----------+----------------------------+-------------------------+-------------------+--------------------+---------------------+----------------+--------------------+--------------------+----------+-----------------+-----------------------+----------------+---------------+---------------+-----------------------------+----------------------+------------------+----------------------------+---------------------+--------------------+--------+\n",
       "|       npi|nppes_provider_last_org_name|nppes_provider_first_name|nppes_provider_city|nppes_provider_state|specialty_description|description_flag|           drug_name|        generic_name|bene_count|total_claim_count|total_30_day_fill_count|total_day_supply|total_drug_cost|bene_count_ge65|bene_count_ge65_suppress_flag|total_claim_count_ge65|ge65_suppress_flag|total_30_day_fill_count_ge65|total_day_supply_ge65|total_drug_cost_ge65|year_exp|\n",
       "+----------+----------------------------+-------------------------+-------------------+--------------------+---------------------+----------------+--------------------+--------------------+----------+-----------------+-----------------------+----------------+---------------+---------------+-----------------------------+----------------------+------------------+----------------------------+---------------------+--------------------+--------+\n",
       "|1437118403|                       QUINN|                   RACHEL|      FORT ATKINSON|                  WI|      Family Practice|               S|METHENAMINE HIPPU...|METHENAMINE HIPPU...|      null|             null|                   13.0|             366|        1159.13|           null|                            *|                  null|                 *|                        null|                 null|                null|   = 2.0|\n",
       "|1437118403|                       QUINN|                   RACHEL|      FORT ATKINSON|                  WI|      Family Practice|               S|METHENAMINE HIPPU...|METHENAMINE HIPPU...|      null|               99|                   13.0|             366|        1159.13|           null|                            *|                  null|                 *|                        null|                 null|                null|   = 2.0|\n",
       "|1841297421|                   SIFUENTES|                    JORGE|             BORGER|                  TX|     General Practice|               S|            NYSTATIN|            NYSTATIN|        19|               40|                   40.0|             450|         623.64|           null|                            #|                    29|              null|                        29.0|                  333|              436.93|   = 9.0|\n",
       "|1770522567|                 VAN DE BEEK|                       M.|       PHILADELPHIA|                  PA|      Family Practice|               S|          CLONAZEPAM|          CLONAZEPAM|      null|               24|                   32.0|             960|         118.55|           null|                            #|                  null|                 #|                        null|                 null|                null|  = 10.0|\n",
       "|1497789556|                      GRAHAM|                      BOB|          NASHVILLE|                  TN|    Internal Medicine|               S|           CELECOXIB|           CELECOXIB|      null|               27|                   41.0|            1230|        1221.21|           null|                            *|                    27|              null|                        41.0|                 1230|             1221.21|  = 12.0|\n",
       "|1417913278|                     JOHNSON|                    DIANE|            MINEOLA|                  NY|   Infectious Disease|               S|SULFAMETHOXAZOLE-...|SULFAMETHOXAZOLE/...|      null|               12|                   12.0|             360|          77.57|              0|                         null|                     0|              null|                         0.0|                    0|                 0.0|  = 25.0|\n",
       "|1437108628|                    HOWERTON|                    SHAWN|           ROSEBORO|                  NC|      Family Practice|               S|        KLOR-CON M20|  POTASSIUM CHLORIDE|      null|               27|                   31.0|             930|          309.6|           null|                            *|                    27|              null|                        31.0|                  930|               309.6|   = 3.0|\n",
       "|1770779761|                      KONTIR|                  NATALEE|         HOMER CITY|                  PA|      Family Practice|               S|   ZOLPIDEM TARTRATE|   ZOLPIDEM TARTRATE|      null|               18|                   26.0|             780|          40.76|           null|                            *|                    18|              null|                        26.0|                  780|               40.76|   = 6.0|\n",
       "|1518906262|                    MATTIACE|                  WILLIAM|       WILLIAMSPORT|                  PA|      Family Practice|               S|                null|ROSUVASTATIN CALCIUM|        13|               67|                   91.0|            2730|       22141.56|           null|                            #|                  null|                 #|                        null|                 null|                null|   = 6.0|\n",
       "|1437312485|                   GERRIETTS|                 JENNIFER|           JOHNSTON|                  IA|      Family Practice|               S|     INSULIN SYRINGE|SYRING-NEEDL,DISP...|      null|               17|                   17.3|             465|         515.41|           null|                            *|                    17|              null|                        17.3|                  465|              515.41|  = 19.0|\n",
       "|1083631832|                    MORAYATI|                   SHAMIL|         BURLINGTON|                  NC|    Internal Medicine|               S|         AMOXICILLIN|         AMOXICILLIN|      null|               11|                   11.0|              97|          53.06|           null|                            *|                    11|              null|                        11.0|                   97|               53.06|  = 11.0|\n",
       "|1932141819|                   SHOEMAKER|                  ABIGAIL|         WORTINGTON|                  OH|      Family Practice|               S|  PRAVASTATIN SODIUM|  PRAVASTATIN SODIUM|      null|               24|                   48.0|            1440|         643.93|           null|                            *|                    24|              null|                        48.0|                 1440|              643.93|   = 9.0|\n",
       "|1760574123|                    BRADSHAW|                    TONDA|            YUCAIPA|                  CA|    Internal Medicine|               S|     LANTUS SOLOSTAR|INSULIN GLARGINE,...|        11|               80|                  103.2|            3009|       40241.11|           null|                            *|                    65|              null|                        88.2|                 2571|            35212.73|   = 9.0|\n",
       "|1093078644|                       ARORA|                   PUNEET|          WORCESTER|                  MA|              Dentist|               T|     CLINDAMYCIN HCL|     CLINDAMYCIN HCL|        17|               22|                   22.0|             141|         174.73|           null|                            *|                  null|                 *|                        null|                 null|                null|  = 28.0|\n",
       "|1881693331|                     ALUNDAY|                   ARTHUR|         GREENSBURG|                  IN|    Internal Medicine|               S|     ONDANSETRON HCL|     ONDANSETRON HCL|      null|               14|                   14.0|              91|         148.77|           null|                            *|                    14|              null|                        14.0|                   91|              148.77|   = 7.0|\n",
       "|1376579706|                        CHAN|                      TZE|             NEWTON|                  IA|    Internal Medicine|               S|      CHOLESTYRAMINE|CHOLESTYRAMINE (W...|      null|               16|                   16.0|             480|         402.17|           null|                            *|                  null|                 *|                        null|                 null|                null|  = 28.0|\n",
       "|1497790661|                     JOHNSON|                     PAUL|       GARDEN GROVE|                  CA|      Family Practice|               S| QUETIAPINE FUMARATE| QUETIAPINE FUMARATE|        14|               51|                   69.1|            2043|        1467.93|           null|                            *|                    18|              null|                        26.1|                  753|              244.99|   = 9.0|\n",
       "|1508831496|                 REYES-ORTIZ|                  ARNALDO|            HUMACAO|                  PR|     General Practice|               S|           IBUPROFEN|           IBUPROFEN|      null|               51|                   51.0|            1168|         286.38|           null|                            *|                  null|                 *|                        null|                 null|                null|  = 20.0|\n",
       "|1962478495|                      VERGIS|                  EMANUEL|         PITTSBURGH|                  PA|   Infectious Disease|               S|    SELENIUM SULFIDE|    SELENIUM SULFIDE|      null|               11|                   11.0|             330|           75.0|              0|                         null|                     0|              null|                         0.0|                    0|                 0.0|  = 10.0|\n",
       "|1467653683|                        HALL|                      AMI|            NEWBURY|                  OH|      Family Practice|               S|     WARFARIN SODIUM|     WARFARIN SODIUM|      null|               21|                   39.0|            1158|         196.02|           null|                            #|                  null|                 #|                        null|                 null|                null|  = 21.0|\n",
       "+----------+----------------------------+-------------------------+-------------------+--------------------+---------------------+----------------+--------------------+--------------------+----------+-----------------+-----------------------+----------------+---------------+---------------+-----------------------------+----------------------+------------------+----------------------------+---------------------+--------------------+--------+\n",
       "only showing top 20 rows"
      ]
     },
     "metadata": {},
     "output_type": "display_data"
    }
   ],
   "source": [
    "display(df1)"
   ]
  },
  {
   "cell_type": "code",
   "execution_count": 21,
   "id": "26d4520a",
   "metadata": {},
   "outputs": [
    {
     "name": "stdout",
     "output_type": "stream",
     "text": [
      "root\n",
      " |-- npi: integer (nullable = true)\n",
      " |-- nppes_provider_last_org_name: string (nullable = true)\n",
      " |-- nppes_provider_first_name: string (nullable = true)\n",
      " |-- nppes_provider_city: string (nullable = true)\n",
      " |-- nppes_provider_state: string (nullable = true)\n",
      " |-- specialty_description: string (nullable = true)\n",
      " |-- description_flag: string (nullable = true)\n",
      " |-- drug_name: string (nullable = true)\n",
      " |-- generic_name: string (nullable = true)\n",
      " |-- bene_count: integer (nullable = true)\n",
      " |-- total_claim_count: integer (nullable = true)\n",
      " |-- total_30_day_fill_count: double (nullable = true)\n",
      " |-- total_day_supply: integer (nullable = true)\n",
      " |-- total_drug_cost: double (nullable = true)\n",
      " |-- bene_count_ge65: integer (nullable = true)\n",
      " |-- bene_count_ge65_suppress_flag: string (nullable = true)\n",
      " |-- total_claim_count_ge65: integer (nullable = true)\n",
      " |-- ge65_suppress_flag: string (nullable = true)\n",
      " |-- total_30_day_fill_count_ge65: double (nullable = true)\n",
      " |-- total_day_supply_ge65: integer (nullable = true)\n",
      " |-- total_drug_cost_ge65: double (nullable = true)\n",
      " |-- year_exp: string (nullable = true)\n",
      "\n"
     ]
    }
   ],
   "source": [
    "df2 = spark.read.format(\"csv\") \\\n",
    "                .option(\"header\", True) \\\n",
    "                .option(\"inferSchema\", True) \\\n",
    "                .option(\"delimeter\", \",\") \\\n",
    "                .load(\"file:///home/hadoop/Downloads/USA_Presc_Medicare_Data_2021.csv\")\n",
    "\n",
    "df2.printSchema()"
   ]
  },
  {
   "cell_type": "markdown",
   "id": "8f2a620c",
   "metadata": {},
   "source": [
    "- inferSchema default value is **False**\n",
    "- When setting to **True** it automatically infers **column types** based on the data. "
   ]
  },
  {
   "cell_type": "code",
   "execution_count": 23,
   "id": "974f4723",
   "metadata": {},
   "outputs": [
    {
     "data": {
      "text/html": [
       "<table border='1'>\n",
       "<tr><th>npi</th><th>nppes_provider_last_org_name</th><th>nppes_provider_first_name</th><th>nppes_provider_city</th><th>nppes_provider_state</th><th>specialty_description</th><th>description_flag</th><th>drug_name</th><th>generic_name</th><th>bene_count</th><th>total_claim_count</th><th>total_30_day_fill_count</th><th>total_day_supply</th><th>total_drug_cost</th><th>bene_count_ge65</th><th>bene_count_ge65_suppress_flag</th><th>total_claim_count_ge65</th><th>ge65_suppress_flag</th><th>total_30_day_fill_count_ge65</th><th>total_day_supply_ge65</th><th>total_drug_cost_ge65</th><th>year_exp</th></tr>\n",
       "<tr><td>1437118403</td><td>QUINN</td><td>RACHEL</td><td>FORT ATKINSON</td><td>WI</td><td>Family Practice</td><td>S</td><td>METHENAMINE HIPPU...</td><td>METHENAMINE HIPPU...</td><td>null</td><td>null</td><td>13.0</td><td>366</td><td>1159.13</td><td>null</td><td>*</td><td>null</td><td>*</td><td>null</td><td>null</td><td>null</td><td>= 2.0</td></tr>\n",
       "<tr><td>1437118403</td><td>QUINN</td><td>RACHEL</td><td>FORT ATKINSON</td><td>WI</td><td>Family Practice</td><td>S</td><td>METHENAMINE HIPPU...</td><td>METHENAMINE HIPPU...</td><td>null</td><td>99</td><td>13.0</td><td>366</td><td>1159.13</td><td>null</td><td>*</td><td>null</td><td>*</td><td>null</td><td>null</td><td>null</td><td>= 2.0</td></tr>\n",
       "<tr><td>1841297421</td><td>SIFUENTES</td><td>JORGE</td><td>BORGER</td><td>TX</td><td>General Practice</td><td>S</td><td>NYSTATIN</td><td>NYSTATIN</td><td>19</td><td>40</td><td>40.0</td><td>450</td><td>623.64</td><td>null</td><td>#</td><td>29</td><td>null</td><td>29.0</td><td>333</td><td>436.93</td><td>= 9.0</td></tr>\n",
       "<tr><td>1770522567</td><td>VAN DE BEEK</td><td>M.</td><td>PHILADELPHIA</td><td>PA</td><td>Family Practice</td><td>S</td><td>CLONAZEPAM</td><td>CLONAZEPAM</td><td>null</td><td>24</td><td>32.0</td><td>960</td><td>118.55</td><td>null</td><td>#</td><td>null</td><td>#</td><td>null</td><td>null</td><td>null</td><td>= 10.0</td></tr>\n",
       "<tr><td>1497789556</td><td>GRAHAM</td><td>BOB</td><td>NASHVILLE</td><td>TN</td><td>Internal Medicine</td><td>S</td><td>CELECOXIB</td><td>CELECOXIB</td><td>null</td><td>27</td><td>41.0</td><td>1230</td><td>1221.21</td><td>null</td><td>*</td><td>27</td><td>null</td><td>41.0</td><td>1230</td><td>1221.21</td><td>= 12.0</td></tr>\n",
       "<tr><td>1417913278</td><td>JOHNSON</td><td>DIANE</td><td>MINEOLA</td><td>NY</td><td>Infectious Disease</td><td>S</td><td>SULFAMETHOXAZOLE-...</td><td>SULFAMETHOXAZOLE/...</td><td>null</td><td>12</td><td>12.0</td><td>360</td><td>77.57</td><td>0</td><td>null</td><td>0</td><td>null</td><td>0.0</td><td>0</td><td>0.0</td><td>= 25.0</td></tr>\n",
       "<tr><td>1437108628</td><td>HOWERTON</td><td>SHAWN</td><td>ROSEBORO</td><td>NC</td><td>Family Practice</td><td>S</td><td>KLOR-CON M20</td><td>POTASSIUM CHLORIDE</td><td>null</td><td>27</td><td>31.0</td><td>930</td><td>309.6</td><td>null</td><td>*</td><td>27</td><td>null</td><td>31.0</td><td>930</td><td>309.6</td><td>= 3.0</td></tr>\n",
       "<tr><td>1770779761</td><td>KONTIR</td><td>NATALEE</td><td>HOMER CITY</td><td>PA</td><td>Family Practice</td><td>S</td><td>ZOLPIDEM TARTRATE</td><td>ZOLPIDEM TARTRATE</td><td>null</td><td>18</td><td>26.0</td><td>780</td><td>40.76</td><td>null</td><td>*</td><td>18</td><td>null</td><td>26.0</td><td>780</td><td>40.76</td><td>= 6.0</td></tr>\n",
       "<tr><td>1518906262</td><td>MATTIACE</td><td>WILLIAM</td><td>WILLIAMSPORT</td><td>PA</td><td>Family Practice</td><td>S</td><td>null</td><td>ROSUVASTATIN CALCIUM</td><td>13</td><td>67</td><td>91.0</td><td>2730</td><td>22141.56</td><td>null</td><td>#</td><td>null</td><td>#</td><td>null</td><td>null</td><td>null</td><td>= 6.0</td></tr>\n",
       "<tr><td>1437312485</td><td>GERRIETTS</td><td>JENNIFER</td><td>JOHNSTON</td><td>IA</td><td>Family Practice</td><td>S</td><td>INSULIN SYRINGE</td><td>SYRING-NEEDL,DISP...</td><td>null</td><td>17</td><td>17.3</td><td>465</td><td>515.41</td><td>null</td><td>*</td><td>17</td><td>null</td><td>17.3</td><td>465</td><td>515.41</td><td>= 19.0</td></tr>\n",
       "<tr><td>1083631832</td><td>MORAYATI</td><td>SHAMIL</td><td>BURLINGTON</td><td>NC</td><td>Internal Medicine</td><td>S</td><td>AMOXICILLIN</td><td>AMOXICILLIN</td><td>null</td><td>11</td><td>11.0</td><td>97</td><td>53.06</td><td>null</td><td>*</td><td>11</td><td>null</td><td>11.0</td><td>97</td><td>53.06</td><td>= 11.0</td></tr>\n",
       "<tr><td>1932141819</td><td>SHOEMAKER</td><td>ABIGAIL</td><td>WORTINGTON</td><td>OH</td><td>Family Practice</td><td>S</td><td>PRAVASTATIN SODIUM</td><td>PRAVASTATIN SODIUM</td><td>null</td><td>24</td><td>48.0</td><td>1440</td><td>643.93</td><td>null</td><td>*</td><td>24</td><td>null</td><td>48.0</td><td>1440</td><td>643.93</td><td>= 9.0</td></tr>\n",
       "<tr><td>1760574123</td><td>BRADSHAW</td><td>TONDA</td><td>YUCAIPA</td><td>CA</td><td>Internal Medicine</td><td>S</td><td>LANTUS SOLOSTAR</td><td>INSULIN GLARGINE,...</td><td>11</td><td>80</td><td>103.2</td><td>3009</td><td>40241.11</td><td>null</td><td>*</td><td>65</td><td>null</td><td>88.2</td><td>2571</td><td>35212.73</td><td>= 9.0</td></tr>\n",
       "<tr><td>1093078644</td><td>ARORA</td><td>PUNEET</td><td>WORCESTER</td><td>MA</td><td>Dentist</td><td>T</td><td>CLINDAMYCIN HCL</td><td>CLINDAMYCIN HCL</td><td>17</td><td>22</td><td>22.0</td><td>141</td><td>174.73</td><td>null</td><td>*</td><td>null</td><td>*</td><td>null</td><td>null</td><td>null</td><td>= 28.0</td></tr>\n",
       "<tr><td>1881693331</td><td>ALUNDAY</td><td>ARTHUR</td><td>GREENSBURG</td><td>IN</td><td>Internal Medicine</td><td>S</td><td>ONDANSETRON HCL</td><td>ONDANSETRON HCL</td><td>null</td><td>14</td><td>14.0</td><td>91</td><td>148.77</td><td>null</td><td>*</td><td>14</td><td>null</td><td>14.0</td><td>91</td><td>148.77</td><td>= 7.0</td></tr>\n",
       "<tr><td>1376579706</td><td>CHAN</td><td>TZE</td><td>NEWTON</td><td>IA</td><td>Internal Medicine</td><td>S</td><td>CHOLESTYRAMINE</td><td>CHOLESTYRAMINE (W...</td><td>null</td><td>16</td><td>16.0</td><td>480</td><td>402.17</td><td>null</td><td>*</td><td>null</td><td>*</td><td>null</td><td>null</td><td>null</td><td>= 28.0</td></tr>\n",
       "<tr><td>1497790661</td><td>JOHNSON</td><td>PAUL</td><td>GARDEN GROVE</td><td>CA</td><td>Family Practice</td><td>S</td><td>QUETIAPINE FUMARATE</td><td>QUETIAPINE FUMARATE</td><td>14</td><td>51</td><td>69.1</td><td>2043</td><td>1467.93</td><td>null</td><td>*</td><td>18</td><td>null</td><td>26.1</td><td>753</td><td>244.99</td><td>= 9.0</td></tr>\n",
       "<tr><td>1508831496</td><td>REYES-ORTIZ</td><td>ARNALDO</td><td>HUMACAO</td><td>PR</td><td>General Practice</td><td>S</td><td>IBUPROFEN</td><td>IBUPROFEN</td><td>null</td><td>51</td><td>51.0</td><td>1168</td><td>286.38</td><td>null</td><td>*</td><td>null</td><td>*</td><td>null</td><td>null</td><td>null</td><td>= 20.0</td></tr>\n",
       "<tr><td>1962478495</td><td>VERGIS</td><td>EMANUEL</td><td>PITTSBURGH</td><td>PA</td><td>Infectious Disease</td><td>S</td><td>SELENIUM SULFIDE</td><td>SELENIUM SULFIDE</td><td>null</td><td>11</td><td>11.0</td><td>330</td><td>75.0</td><td>0</td><td>null</td><td>0</td><td>null</td><td>0.0</td><td>0</td><td>0.0</td><td>= 10.0</td></tr>\n",
       "<tr><td>1467653683</td><td>HALL</td><td>AMI</td><td>NEWBURY</td><td>OH</td><td>Family Practice</td><td>S</td><td>WARFARIN SODIUM</td><td>WARFARIN SODIUM</td><td>null</td><td>21</td><td>39.0</td><td>1158</td><td>196.02</td><td>null</td><td>#</td><td>null</td><td>#</td><td>null</td><td>null</td><td>null</td><td>= 21.0</td></tr>\n",
       "</table>\n",
       "only showing top 20 rows\n"
      ],
      "text/plain": [
       "+----------+----------------------------+-------------------------+-------------------+--------------------+---------------------+----------------+--------------------+--------------------+----------+-----------------+-----------------------+----------------+---------------+---------------+-----------------------------+----------------------+------------------+----------------------------+---------------------+--------------------+--------+\n",
       "|       npi|nppes_provider_last_org_name|nppes_provider_first_name|nppes_provider_city|nppes_provider_state|specialty_description|description_flag|           drug_name|        generic_name|bene_count|total_claim_count|total_30_day_fill_count|total_day_supply|total_drug_cost|bene_count_ge65|bene_count_ge65_suppress_flag|total_claim_count_ge65|ge65_suppress_flag|total_30_day_fill_count_ge65|total_day_supply_ge65|total_drug_cost_ge65|year_exp|\n",
       "+----------+----------------------------+-------------------------+-------------------+--------------------+---------------------+----------------+--------------------+--------------------+----------+-----------------+-----------------------+----------------+---------------+---------------+-----------------------------+----------------------+------------------+----------------------------+---------------------+--------------------+--------+\n",
       "|1437118403|                       QUINN|                   RACHEL|      FORT ATKINSON|                  WI|      Family Practice|               S|METHENAMINE HIPPU...|METHENAMINE HIPPU...|      null|             null|                   13.0|             366|        1159.13|           null|                            *|                  null|                 *|                        null|                 null|                null|   = 2.0|\n",
       "|1437118403|                       QUINN|                   RACHEL|      FORT ATKINSON|                  WI|      Family Practice|               S|METHENAMINE HIPPU...|METHENAMINE HIPPU...|      null|               99|                   13.0|             366|        1159.13|           null|                            *|                  null|                 *|                        null|                 null|                null|   = 2.0|\n",
       "|1841297421|                   SIFUENTES|                    JORGE|             BORGER|                  TX|     General Practice|               S|            NYSTATIN|            NYSTATIN|        19|               40|                   40.0|             450|         623.64|           null|                            #|                    29|              null|                        29.0|                  333|              436.93|   = 9.0|\n",
       "|1770522567|                 VAN DE BEEK|                       M.|       PHILADELPHIA|                  PA|      Family Practice|               S|          CLONAZEPAM|          CLONAZEPAM|      null|               24|                   32.0|             960|         118.55|           null|                            #|                  null|                 #|                        null|                 null|                null|  = 10.0|\n",
       "|1497789556|                      GRAHAM|                      BOB|          NASHVILLE|                  TN|    Internal Medicine|               S|           CELECOXIB|           CELECOXIB|      null|               27|                   41.0|            1230|        1221.21|           null|                            *|                    27|              null|                        41.0|                 1230|             1221.21|  = 12.0|\n",
       "|1417913278|                     JOHNSON|                    DIANE|            MINEOLA|                  NY|   Infectious Disease|               S|SULFAMETHOXAZOLE-...|SULFAMETHOXAZOLE/...|      null|               12|                   12.0|             360|          77.57|              0|                         null|                     0|              null|                         0.0|                    0|                 0.0|  = 25.0|\n",
       "|1437108628|                    HOWERTON|                    SHAWN|           ROSEBORO|                  NC|      Family Practice|               S|        KLOR-CON M20|  POTASSIUM CHLORIDE|      null|               27|                   31.0|             930|          309.6|           null|                            *|                    27|              null|                        31.0|                  930|               309.6|   = 3.0|\n",
       "|1770779761|                      KONTIR|                  NATALEE|         HOMER CITY|                  PA|      Family Practice|               S|   ZOLPIDEM TARTRATE|   ZOLPIDEM TARTRATE|      null|               18|                   26.0|             780|          40.76|           null|                            *|                    18|              null|                        26.0|                  780|               40.76|   = 6.0|\n",
       "|1518906262|                    MATTIACE|                  WILLIAM|       WILLIAMSPORT|                  PA|      Family Practice|               S|                null|ROSUVASTATIN CALCIUM|        13|               67|                   91.0|            2730|       22141.56|           null|                            #|                  null|                 #|                        null|                 null|                null|   = 6.0|\n",
       "|1437312485|                   GERRIETTS|                 JENNIFER|           JOHNSTON|                  IA|      Family Practice|               S|     INSULIN SYRINGE|SYRING-NEEDL,DISP...|      null|               17|                   17.3|             465|         515.41|           null|                            *|                    17|              null|                        17.3|                  465|              515.41|  = 19.0|\n",
       "|1083631832|                    MORAYATI|                   SHAMIL|         BURLINGTON|                  NC|    Internal Medicine|               S|         AMOXICILLIN|         AMOXICILLIN|      null|               11|                   11.0|              97|          53.06|           null|                            *|                    11|              null|                        11.0|                   97|               53.06|  = 11.0|\n",
       "|1932141819|                   SHOEMAKER|                  ABIGAIL|         WORTINGTON|                  OH|      Family Practice|               S|  PRAVASTATIN SODIUM|  PRAVASTATIN SODIUM|      null|               24|                   48.0|            1440|         643.93|           null|                            *|                    24|              null|                        48.0|                 1440|              643.93|   = 9.0|\n",
       "|1760574123|                    BRADSHAW|                    TONDA|            YUCAIPA|                  CA|    Internal Medicine|               S|     LANTUS SOLOSTAR|INSULIN GLARGINE,...|        11|               80|                  103.2|            3009|       40241.11|           null|                            *|                    65|              null|                        88.2|                 2571|            35212.73|   = 9.0|\n",
       "|1093078644|                       ARORA|                   PUNEET|          WORCESTER|                  MA|              Dentist|               T|     CLINDAMYCIN HCL|     CLINDAMYCIN HCL|        17|               22|                   22.0|             141|         174.73|           null|                            *|                  null|                 *|                        null|                 null|                null|  = 28.0|\n",
       "|1881693331|                     ALUNDAY|                   ARTHUR|         GREENSBURG|                  IN|    Internal Medicine|               S|     ONDANSETRON HCL|     ONDANSETRON HCL|      null|               14|                   14.0|              91|         148.77|           null|                            *|                    14|              null|                        14.0|                   91|              148.77|   = 7.0|\n",
       "|1376579706|                        CHAN|                      TZE|             NEWTON|                  IA|    Internal Medicine|               S|      CHOLESTYRAMINE|CHOLESTYRAMINE (W...|      null|               16|                   16.0|             480|         402.17|           null|                            *|                  null|                 *|                        null|                 null|                null|  = 28.0|\n",
       "|1497790661|                     JOHNSON|                     PAUL|       GARDEN GROVE|                  CA|      Family Practice|               S| QUETIAPINE FUMARATE| QUETIAPINE FUMARATE|        14|               51|                   69.1|            2043|        1467.93|           null|                            *|                    18|              null|                        26.1|                  753|              244.99|   = 9.0|\n",
       "|1508831496|                 REYES-ORTIZ|                  ARNALDO|            HUMACAO|                  PR|     General Practice|               S|           IBUPROFEN|           IBUPROFEN|      null|               51|                   51.0|            1168|         286.38|           null|                            *|                  null|                 *|                        null|                 null|                null|  = 20.0|\n",
       "|1962478495|                      VERGIS|                  EMANUEL|         PITTSBURGH|                  PA|   Infectious Disease|               S|    SELENIUM SULFIDE|    SELENIUM SULFIDE|      null|               11|                   11.0|             330|           75.0|              0|                         null|                     0|              null|                         0.0|                    0|                 0.0|  = 10.0|\n",
       "|1467653683|                        HALL|                      AMI|            NEWBURY|                  OH|      Family Practice|               S|     WARFARIN SODIUM|     WARFARIN SODIUM|      null|               21|                   39.0|            1158|         196.02|           null|                            #|                  null|                 #|                        null|                 null|                null|  = 21.0|\n",
       "+----------+----------------------------+-------------------------+-------------------+--------------------+---------------------+----------------+--------------------+--------------------+----------+-----------------+-----------------------+----------------+---------------+---------------+-----------------------------+----------------------+------------------+----------------------------+---------------------+--------------------+--------+\n",
       "only showing top 20 rows"
      ]
     },
     "metadata": {},
     "output_type": "display_data"
    }
   ],
   "source": [
    "display(df2)"
   ]
  },
  {
   "cell_type": "markdown",
   "id": "5a805c33",
   "metadata": {},
   "source": [
    "## User Specified Schema "
   ]
  },
  {
   "cell_type": "code",
   "execution_count": null,
   "id": "cb6a238c",
   "metadata": {},
   "outputs": [],
   "source": [
    "schema = StructType() \\\n",
    "      .add(\"RecordNumber\",IntegerType(),True) \\\n",
    "      .add(\"Zipcode\",IntegerType(),True) \\\n",
    "      .add(\"ZipCodeType\",StringType(),True) \\\n",
    "      .add(\"City\",StringType(),True) \\\n",
    "      .add(\"State\",StringType(),True) \\\n",
    "      .add(\"LocationType\",StringType(),True) \\\n",
    "      .add(\"Lat\",DoubleType(),True) \\\n",
    "      .add(\"Long\",DoubleType(),True) \\\n",
    "      .add(\"Xaxis\",IntegerType(),True) \\\n",
    "      .add(\"Yaxis\",DoubleType(),True) \\\n",
    "      .add(\"Zaxis\",DoubleType(),True) \\\n",
    "      .add(\"WorldRegion\",StringType(),True) \\\n",
    "      .add(\"Country\",StringType(),True) \\\n",
    "      .add(\"LocationText\",StringType(),True) \\\n",
    "      .add(\"Location\",StringType(),True) \\\n",
    "      .add(\"Decommisioned\",BooleanType(),True) \\\n",
    "      .add(\"TaxReturnsFiled\",StringType(),True) \\\n",
    "      .add(\"EstimatedPopulation\",IntegerType(),True) \\\n",
    "      .add(\"TotalWages\",IntegerType(),True) \\\n",
    "      .add(\"Notes\",StringType(),True)\n"
   ]
  },
  {
   "cell_type": "code",
   "execution_count": null,
   "id": "8e1d7631",
   "metadata": {},
   "outputs": [],
   "source": [
    "      \n",
    "df_with_schema = spark.read.format(\"csv\") \\\n",
    "                        .option(\"header\", True) \\\n",
    "                        .schema(schema) \\\n",
    "                        .load(\"/tmp/resources/zipcodes.csv\")"
   ]
  },
  {
   "cell_type": "markdown",
   "id": "0e36c0e5",
   "metadata": {},
   "source": [
    "## Read multiple CSV files"
   ]
  },
  {
   "cell_type": "markdown",
   "id": "061b3644",
   "metadata": {},
   "source": [
    "Using the **spark.read.csv(\"path\")** method you can also read multiple csv files"
   ]
  },
  {
   "cell_type": "code",
   "execution_count": null,
   "id": "eb5b796f",
   "metadata": {},
   "outputs": [],
   "source": [
    "df = spark.read.csv(\"/path1/fileName1.csv, /path2/fileName2.csv, /path3/fileName3.csv\")"
   ]
  },
  {
   "cell_type": "markdown",
   "id": "49da56a7",
   "metadata": {},
   "source": [
    "## Read all CSVs in a folder "
   ]
  },
  {
   "cell_type": "markdown",
   "id": "a83f23cc",
   "metadata": {},
   "source": [
    "Using the **spark.read.csv(\"path\")** method you can read all csv files in a directory"
   ]
  },
  {
   "cell_type": "code",
   "execution_count": null,
   "id": "1fe9df3e",
   "metadata": {},
   "outputs": [],
   "source": [
    "df = spark.read.csv(\"/folder/path\")\n",
    "\n",
    "or\n",
    "\n",
    "folder_path = \"/full/folder/path\"\n",
    "df = spark.read.csv(folder_path)"
   ]
  },
  {
   "cell_type": "markdown",
   "id": "409faa1b",
   "metadata": {},
   "source": [
    "# 02. Read JSON file"
   ]
  },
  {
   "cell_type": "markdown",
   "id": "ba019f48",
   "metadata": {},
   "source": [
    "By default JSON data source **inferschema** from an input file. You can use below 2 methods to read JSON files.\n",
    "\n",
    "- json(\"path\")\n",
    "- format(\"json\").load(\"path\")"
   ]
  },
  {
   "cell_type": "markdown",
   "id": "1407b094",
   "metadata": {},
   "source": [
    "#### Using spark.read.json(\"path\") method "
   ]
  },
  {
   "cell_type": "code",
   "execution_count": 26,
   "id": "01746fa2",
   "metadata": {},
   "outputs": [
    {
     "name": "stderr",
     "output_type": "stream",
     "text": [
      "\r",
      "[Stage 22:=============================>                            (1 + 1) / 2]\r",
      "\r",
      "                                                                                \r"
     ]
    },
    {
     "name": "stdout",
     "output_type": "stream",
     "text": [
      "root\n",
      " |-- city: string (nullable = true)\n",
      " |-- city_ascii: string (nullable = true)\n",
      " |-- county_fips: long (nullable = true)\n",
      " |-- county_name: string (nullable = true)\n",
      " |-- density: long (nullable = true)\n",
      " |-- lat: double (nullable = true)\n",
      " |-- lng: double (nullable = true)\n",
      " |-- population: long (nullable = true)\n",
      " |-- state_id: string (nullable = true)\n",
      " |-- state_name: string (nullable = true)\n",
      " |-- timezone: string (nullable = true)\n",
      " |-- zips: string (nullable = true)\n",
      "\n"
     ]
    }
   ],
   "source": [
    "df1 = spark.read.json(\"file:///home/hadoop/Downloads/USA_City.json\")\n",
    "df1.printSchema()"
   ]
  },
  {
   "cell_type": "code",
   "execution_count": 33,
   "id": "ae8c3887",
   "metadata": {},
   "outputs": [
    {
     "data": {
      "text/html": [
       "<table border='1'>\n",
       "<tr><th>city</th><th>city_ascii</th><th>county_fips</th><th>county_name</th><th>density</th><th>lat</th><th>lng</th><th>population</th><th>state_id</th><th>state_name</th><th>timezone</th><th>zips</th></tr>\n",
       "<tr><td>New York</td><td>New York</td><td>36061</td><td>New York</td><td>10715</td><td>40.6943</td><td>-73.9249</td><td>18713220</td><td>NY</td><td>New York</td><td>America/New_York</td><td>11229 11226 11225...</td></tr>\n",
       "<tr><td>Los Angeles</td><td>Los Angeles</td><td>6037</td><td>Los Angeles</td><td>3276</td><td>34.1139</td><td>-118.4068</td><td>12750807</td><td>CA</td><td>California</td><td>America/Los_Angeles</td><td>90291 90293 90292...</td></tr>\n",
       "<tr><td>Chicago</td><td>Chicago</td><td>17031</td><td>Cook</td><td>4574</td><td>41.8373</td><td>-87.6862</td><td>8604203</td><td>IL</td><td>Illinois</td><td>America/Chicago</td><td>60018 60649 60641...</td></tr>\n",
       "<tr><td>Miami</td><td>Miami</td><td>12086</td><td>Miami-Dade</td><td>5019</td><td>25.7839</td><td>-80.2102</td><td>6445545</td><td>FL</td><td>Florida</td><td>America/New_York</td><td>33129 33125 33126...</td></tr>\n",
       "<tr><td>Dallas</td><td>Dallas</td><td>48113</td><td>Dallas</td><td>1526</td><td>32.7936</td><td>-96.7662</td><td>5743938</td><td>TX</td><td>Texas</td><td>America/Chicago</td><td>75287 75098 75233...</td></tr>\n",
       "<tr><td>Philadelphia</td><td>Philadelphia</td><td>42101</td><td>Philadelphia</td><td>4554</td><td>40.0077</td><td>-75.1339</td><td>5649300</td><td>PA</td><td>Pennsylvania</td><td>America/New_York</td><td>19154 19151 19150...</td></tr>\n",
       "<tr><td>Houston</td><td>Houston</td><td>48201</td><td>Harris</td><td>1399</td><td>29.7863</td><td>-95.3889</td><td>5464251</td><td>TX</td><td>Texas</td><td>America/Chicago</td><td>77069 77068 77061...</td></tr>\n",
       "<tr><td>Atlanta</td><td>Atlanta</td><td>13121</td><td>Fulton</td><td>1441</td><td>33.7627</td><td>-84.4224</td><td>5449398</td><td>GA</td><td>Georgia</td><td>America/New_York</td><td>30334 30331 30332...</td></tr>\n",
       "<tr><td>Washington</td><td>Washington</td><td>11001</td><td>District of Columbia</td><td>4457</td><td>38.9047</td><td>-77.0163</td><td>5379184</td><td>DC</td><td>District of Columbia</td><td>America/New_York</td><td>20010 20011 20012...</td></tr>\n",
       "<tr><td>Boston</td><td>Boston</td><td>25025</td><td>Suffolk</td><td>5532</td><td>42.3188</td><td>-71.0846</td><td>4688346</td><td>MA</td><td>Massachusetts</td><td>America/New_York</td><td>02120 02121 02122...</td></tr>\n",
       "<tr><td>Phoenix</td><td>Phoenix</td><td>4013</td><td>Maricopa</td><td>1253</td><td>33.5722</td><td>-112.0891</td><td>4219697</td><td>AZ</td><td>Arizona</td><td>America/Phoenix</td><td>85008 85009 85006...</td></tr>\n",
       "<tr><td>Seattle</td><td>Seattle</td><td>53033</td><td>King</td><td>3469</td><td>47.6211</td><td>-122.3244</td><td>3789215</td><td>WA</td><td>Washington</td><td>America/Los_Angeles</td><td>98109 98108 98104...</td></tr>\n",
       "<tr><td>San Francisco</td><td>San Francisco</td><td>6075</td><td>San Francisco</td><td>7256</td><td>37.7562</td><td>-122.443</td><td>3592294</td><td>CA</td><td>California</td><td>America/Los_Angeles</td><td>94130 94131 94132...</td></tr>\n",
       "<tr><td>Detroit</td><td>Detroit</td><td>26163</td><td>Wayne</td><td>1864</td><td>42.3834</td><td>-83.1024</td><td>3506126</td><td>MI</td><td>Michigan</td><td>America/Detroit</td><td>48209 48208 48201...</td></tr>\n",
       "<tr><td>San Diego</td><td>San Diego</td><td>6073</td><td>San Diego</td><td>1686</td><td>32.8312</td><td>-117.1225</td><td>3220118</td><td>CA</td><td>California</td><td>America/Los_Angeles</td><td>92109 92108 92103...</td></tr>\n",
       "<tr><td>Minneapolis</td><td>Minneapolis</td><td>27053</td><td>Hennepin</td><td>3071</td><td>44.9635</td><td>-93.2678</td><td>2977172</td><td>MN</td><td>Minnesota</td><td>America/Chicago</td><td>55403 55409 55408...</td></tr>\n",
       "<tr><td>Tampa</td><td>Tampa</td><td>12057</td><td>Hillsborough</td><td>1353</td><td>27.9942</td><td>-82.4451</td><td>2908063</td><td>FL</td><td>Florida</td><td>America/New_York</td><td>33637 33629 33621...</td></tr>\n",
       "<tr><td>Denver</td><td>Denver</td><td>8031</td><td>Denver</td><td>1831</td><td>39.7621</td><td>-104.8759</td><td>2876625</td><td>CO</td><td>Colorado</td><td>America/Denver</td><td>80264 80230 80231...</td></tr>\n",
       "<tr><td>Brooklyn</td><td>Brooklyn</td><td>36047</td><td>Kings</td><td>14221</td><td>40.6501</td><td>-73.9496</td><td>2559903</td><td>NY</td><td>New York</td><td>America/New_York</td><td>11212 11213 11216...</td></tr>\n",
       "<tr><td>Queens</td><td>Queens</td><td>36081</td><td>Queens</td><td>7885</td><td>40.7498</td><td>-73.7976</td><td>2230722</td><td>NY</td><td>New York</td><td>America/New_York</td><td>11361 11362 11363...</td></tr>\n",
       "</table>\n",
       "only showing top 20 rows\n"
      ],
      "text/plain": [
       "+-------------+-------------+-----------+--------------------+-------+-------+---------+----------+--------+--------------------+-------------------+--------------------+\n",
       "|         city|   city_ascii|county_fips|         county_name|density|    lat|      lng|population|state_id|          state_name|           timezone|                zips|\n",
       "+-------------+-------------+-----------+--------------------+-------+-------+---------+----------+--------+--------------------+-------------------+--------------------+\n",
       "|     New York|     New York|      36061|            New York|  10715|40.6943| -73.9249|  18713220|      NY|            New York|   America/New_York|11229 11226 11225...|\n",
       "|  Los Angeles|  Los Angeles|       6037|         Los Angeles|   3276|34.1139|-118.4068|  12750807|      CA|          California|America/Los_Angeles|90291 90293 90292...|\n",
       "|      Chicago|      Chicago|      17031|                Cook|   4574|41.8373| -87.6862|   8604203|      IL|            Illinois|    America/Chicago|60018 60649 60641...|\n",
       "|        Miami|        Miami|      12086|          Miami-Dade|   5019|25.7839| -80.2102|   6445545|      FL|             Florida|   America/New_York|33129 33125 33126...|\n",
       "|       Dallas|       Dallas|      48113|              Dallas|   1526|32.7936| -96.7662|   5743938|      TX|               Texas|    America/Chicago|75287 75098 75233...|\n",
       "| Philadelphia| Philadelphia|      42101|        Philadelphia|   4554|40.0077| -75.1339|   5649300|      PA|        Pennsylvania|   America/New_York|19154 19151 19150...|\n",
       "|      Houston|      Houston|      48201|              Harris|   1399|29.7863| -95.3889|   5464251|      TX|               Texas|    America/Chicago|77069 77068 77061...|\n",
       "|      Atlanta|      Atlanta|      13121|              Fulton|   1441|33.7627| -84.4224|   5449398|      GA|             Georgia|   America/New_York|30334 30331 30332...|\n",
       "|   Washington|   Washington|      11001|District of Columbia|   4457|38.9047| -77.0163|   5379184|      DC|District of Columbia|   America/New_York|20010 20011 20012...|\n",
       "|       Boston|       Boston|      25025|             Suffolk|   5532|42.3188| -71.0846|   4688346|      MA|       Massachusetts|   America/New_York|02120 02121 02122...|\n",
       "|      Phoenix|      Phoenix|       4013|            Maricopa|   1253|33.5722|-112.0891|   4219697|      AZ|             Arizona|    America/Phoenix|85008 85009 85006...|\n",
       "|      Seattle|      Seattle|      53033|                King|   3469|47.6211|-122.3244|   3789215|      WA|          Washington|America/Los_Angeles|98109 98108 98104...|\n",
       "|San Francisco|San Francisco|       6075|       San Francisco|   7256|37.7562| -122.443|   3592294|      CA|          California|America/Los_Angeles|94130 94131 94132...|\n",
       "|      Detroit|      Detroit|      26163|               Wayne|   1864|42.3834| -83.1024|   3506126|      MI|            Michigan|    America/Detroit|48209 48208 48201...|\n",
       "|    San Diego|    San Diego|       6073|           San Diego|   1686|32.8312|-117.1225|   3220118|      CA|          California|America/Los_Angeles|92109 92108 92103...|\n",
       "|  Minneapolis|  Minneapolis|      27053|            Hennepin|   3071|44.9635| -93.2678|   2977172|      MN|           Minnesota|    America/Chicago|55403 55409 55408...|\n",
       "|        Tampa|        Tampa|      12057|        Hillsborough|   1353|27.9942| -82.4451|   2908063|      FL|             Florida|   America/New_York|33637 33629 33621...|\n",
       "|       Denver|       Denver|       8031|              Denver|   1831|39.7621|-104.8759|   2876625|      CO|            Colorado|     America/Denver|80264 80230 80231...|\n",
       "|     Brooklyn|     Brooklyn|      36047|               Kings|  14221|40.6501| -73.9496|   2559903|      NY|            New York|   America/New_York|11212 11213 11216...|\n",
       "|       Queens|       Queens|      36081|              Queens|   7885|40.7498| -73.7976|   2230722|      NY|            New York|   America/New_York|11361 11362 11363...|\n",
       "+-------------+-------------+-----------+--------------------+-------+-------+---------+----------+--------+--------------------+-------------------+--------------------+\n",
       "only showing top 20 rows"
      ]
     },
     "metadata": {},
     "output_type": "display_data"
    }
   ],
   "source": [
    "display(df1)"
   ]
  },
  {
   "cell_type": "code",
   "execution_count": 27,
   "id": "1ff3a0ed",
   "metadata": {},
   "outputs": [
    {
     "name": "stdout",
     "output_type": "stream",
     "text": [
      "root\n",
      " |-- city: string (nullable = true)\n",
      " |-- city_ascii: string (nullable = true)\n",
      " |-- county_fips: long (nullable = true)\n",
      " |-- county_name: string (nullable = true)\n",
      " |-- density: long (nullable = true)\n",
      " |-- lat: double (nullable = true)\n",
      " |-- lng: double (nullable = true)\n",
      " |-- population: long (nullable = true)\n",
      " |-- state_id: string (nullable = true)\n",
      " |-- state_name: string (nullable = true)\n",
      " |-- timezone: string (nullable = true)\n",
      " |-- zips: string (nullable = true)\n",
      "\n"
     ]
    }
   ],
   "source": [
    "df2 = spark.read.format(\"json\").load(\"file:///home/hadoop/Downloads/USA_City.json\")\n",
    "df2.printSchema()"
   ]
  },
  {
   "cell_type": "code",
   "execution_count": 31,
   "id": "41598130",
   "metadata": {},
   "outputs": [
    {
     "name": "stdout",
     "output_type": "stream",
     "text": [
      "+-------------+-------------+-----------+--------------------+-------+-------+---------+----------+--------+--------------------+-------------------+--------------------+\n",
      "|         city|   city_ascii|county_fips|         county_name|density|    lat|      lng|population|state_id|          state_name|           timezone|                zips|\n",
      "+-------------+-------------+-----------+--------------------+-------+-------+---------+----------+--------+--------------------+-------------------+--------------------+\n",
      "|     New York|     New York|      36061|            New York|  10715|40.6943| -73.9249|  18713220|      NY|            New York|   America/New_York|11229 11226 11225...|\n",
      "|  Los Angeles|  Los Angeles|       6037|         Los Angeles|   3276|34.1139|-118.4068|  12750807|      CA|          California|America/Los_Angeles|90291 90293 90292...|\n",
      "|      Chicago|      Chicago|      17031|                Cook|   4574|41.8373| -87.6862|   8604203|      IL|            Illinois|    America/Chicago|60018 60649 60641...|\n",
      "|        Miami|        Miami|      12086|          Miami-Dade|   5019|25.7839| -80.2102|   6445545|      FL|             Florida|   America/New_York|33129 33125 33126...|\n",
      "|       Dallas|       Dallas|      48113|              Dallas|   1526|32.7936| -96.7662|   5743938|      TX|               Texas|    America/Chicago|75287 75098 75233...|\n",
      "| Philadelphia| Philadelphia|      42101|        Philadelphia|   4554|40.0077| -75.1339|   5649300|      PA|        Pennsylvania|   America/New_York|19154 19151 19150...|\n",
      "|      Houston|      Houston|      48201|              Harris|   1399|29.7863| -95.3889|   5464251|      TX|               Texas|    America/Chicago|77069 77068 77061...|\n",
      "|      Atlanta|      Atlanta|      13121|              Fulton|   1441|33.7627| -84.4224|   5449398|      GA|             Georgia|   America/New_York|30334 30331 30332...|\n",
      "|   Washington|   Washington|      11001|District of Columbia|   4457|38.9047| -77.0163|   5379184|      DC|District of Columbia|   America/New_York|20010 20011 20012...|\n",
      "|       Boston|       Boston|      25025|             Suffolk|   5532|42.3188| -71.0846|   4688346|      MA|       Massachusetts|   America/New_York|02120 02121 02122...|\n",
      "|      Phoenix|      Phoenix|       4013|            Maricopa|   1253|33.5722|-112.0891|   4219697|      AZ|             Arizona|    America/Phoenix|85008 85009 85006...|\n",
      "|      Seattle|      Seattle|      53033|                King|   3469|47.6211|-122.3244|   3789215|      WA|          Washington|America/Los_Angeles|98109 98108 98104...|\n",
      "|San Francisco|San Francisco|       6075|       San Francisco|   7256|37.7562| -122.443|   3592294|      CA|          California|America/Los_Angeles|94130 94131 94132...|\n",
      "|      Detroit|      Detroit|      26163|               Wayne|   1864|42.3834| -83.1024|   3506126|      MI|            Michigan|    America/Detroit|48209 48208 48201...|\n",
      "|    San Diego|    San Diego|       6073|           San Diego|   1686|32.8312|-117.1225|   3220118|      CA|          California|America/Los_Angeles|92109 92108 92103...|\n",
      "|  Minneapolis|  Minneapolis|      27053|            Hennepin|   3071|44.9635| -93.2678|   2977172|      MN|           Minnesota|    America/Chicago|55403 55409 55408...|\n",
      "|        Tampa|        Tampa|      12057|        Hillsborough|   1353|27.9942| -82.4451|   2908063|      FL|             Florida|   America/New_York|33637 33629 33621...|\n",
      "|       Denver|       Denver|       8031|              Denver|   1831|39.7621|-104.8759|   2876625|      CO|            Colorado|     America/Denver|80264 80230 80231...|\n",
      "|     Brooklyn|     Brooklyn|      36047|               Kings|  14221|40.6501| -73.9496|   2559903|      NY|            New York|   America/New_York|11212 11213 11216...|\n",
      "|       Queens|       Queens|      36081|              Queens|   7885|40.7498| -73.7976|   2230722|      NY|            New York|   America/New_York|11361 11362 11363...|\n",
      "+-------------+-------------+-----------+--------------------+-------+-------+---------+----------+--------+--------------------+-------------------+--------------------+\n",
      "only showing top 20 rows\n",
      "\n"
     ]
    }
   ],
   "source": [
    "df2.show()"
   ]
  },
  {
   "cell_type": "markdown",
   "id": "de419421",
   "metadata": {},
   "source": [
    "## Read Multiline JSON file"
   ]
  },
  {
   "cell_type": "code",
   "execution_count": 39,
   "id": "78599c59",
   "metadata": {},
   "outputs": [
    {
     "name": "stdout",
     "output_type": "stream",
     "text": [
      "root\n",
      " |-- City: string (nullable = true)\n",
      " |-- RecordNumber: long (nullable = true)\n",
      " |-- State: string (nullable = true)\n",
      " |-- ZipCodeType: string (nullable = true)\n",
      " |-- Zipcode: long (nullable = true)\n",
      "\n"
     ]
    }
   ],
   "source": [
    "df3 = spark.read.option(\"multiline\", True) \\\n",
    "                .json(\"file:///home/hadoop/Downloads/multiline-zipcode.json\")\n",
    "\n",
    "df3.printSchema()"
   ]
  },
  {
   "cell_type": "code",
   "execution_count": 40,
   "id": "3ba519e2",
   "metadata": {},
   "outputs": [
    {
     "data": {
      "text/html": [
       "<table border='1'>\n",
       "<tr><th>City</th><th>RecordNumber</th><th>State</th><th>ZipCodeType</th><th>Zipcode</th></tr>\n",
       "<tr><td>PASEO COSTA DEL SUR</td><td>2</td><td>PR</td><td>STANDARD</td><td>704</td></tr>\n",
       "<tr><td>BDA SAN LUIS</td><td>10</td><td>PR</td><td>STANDARD</td><td>709</td></tr>\n",
       "</table>\n"
      ],
      "text/plain": [
       "+-------------------+------------+-----+-----------+-------+\n",
       "|               City|RecordNumber|State|ZipCodeType|Zipcode|\n",
       "+-------------------+------------+-----+-----------+-------+\n",
       "|PASEO COSTA DEL SUR|           2|   PR|   STANDARD|    704|\n",
       "|       BDA SAN LUIS|          10|   PR|   STANDARD|    709|\n",
       "+-------------------+------------+-----+-----------+-------+"
      ]
     },
     "metadata": {},
     "output_type": "display_data"
    },
    {
     "name": "stdout",
     "output_type": "stream",
     "text": [
      "+-------------------+------------+-----+-----------+-------+\n",
      "|               City|RecordNumber|State|ZipCodeType|Zipcode|\n",
      "+-------------------+------------+-----+-----------+-------+\n",
      "|PASEO COSTA DEL SUR|           2|   PR|   STANDARD|    704|\n",
      "|       BDA SAN LUIS|          10|   PR|   STANDARD|    709|\n",
      "+-------------------+------------+-----+-----------+-------+\n",
      "\n"
     ]
    }
   ],
   "source": [
    "display(df3)\n",
    "df3.show()"
   ]
  },
  {
   "cell_type": "code",
   "execution_count": 43,
   "id": "bfc61a34",
   "metadata": {},
   "outputs": [
    {
     "name": "stdout",
     "output_type": "stream",
     "text": [
      "root\n",
      " |-- City: string (nullable = true)\n",
      " |-- RecordNumber: long (nullable = true)\n",
      " |-- State: string (nullable = true)\n",
      " |-- ZipCodeType: string (nullable = true)\n",
      " |-- Zipcode: long (nullable = true)\n",
      "\n"
     ]
    }
   ],
   "source": [
    "df4 = spark.read.format(\"json\") \\\n",
    "                .option(\"multiline\", True) \\\n",
    "                .load(\"file:///home/hadoop/Downloads/multiline-zipcode.json\")\n",
    "\n",
    "df4.printSchema()"
   ]
  },
  {
   "cell_type": "code",
   "execution_count": 44,
   "id": "9d59a1e6",
   "metadata": {},
   "outputs": [
    {
     "data": {
      "text/html": [
       "<table border='1'>\n",
       "<tr><th>City</th><th>RecordNumber</th><th>State</th><th>ZipCodeType</th><th>Zipcode</th></tr>\n",
       "<tr><td>PASEO COSTA DEL SUR</td><td>2</td><td>PR</td><td>STANDARD</td><td>704</td></tr>\n",
       "<tr><td>BDA SAN LUIS</td><td>10</td><td>PR</td><td>STANDARD</td><td>709</td></tr>\n",
       "</table>\n"
      ],
      "text/plain": [
       "+-------------------+------------+-----+-----------+-------+\n",
       "|               City|RecordNumber|State|ZipCodeType|Zipcode|\n",
       "+-------------------+------------+-----+-----------+-------+\n",
       "|PASEO COSTA DEL SUR|           2|   PR|   STANDARD|    704|\n",
       "|       BDA SAN LUIS|          10|   PR|   STANDARD|    709|\n",
       "+-------------------+------------+-----+-----------+-------+"
      ]
     },
     "metadata": {},
     "output_type": "display_data"
    },
    {
     "name": "stdout",
     "output_type": "stream",
     "text": [
      "+-------------------+------------+-----+-----------+-------+\n",
      "|               City|RecordNumber|State|ZipCodeType|Zipcode|\n",
      "+-------------------+------------+-----+-----------+-------+\n",
      "|PASEO COSTA DEL SUR|           2|   PR|   STANDARD|    704|\n",
      "|       BDA SAN LUIS|          10|   PR|   STANDARD|    709|\n",
      "+-------------------+------------+-----+-----------+-------+\n",
      "\n"
     ]
    }
   ],
   "source": [
    "display(df4)\n",
    "df4.show()"
   ]
  },
  {
   "cell_type": "markdown",
   "id": "bc1d82c4",
   "metadata": {},
   "source": [
    "By default multiline option, is set to false."
   ]
  },
  {
   "cell_type": "markdown",
   "id": "08f9e237",
   "metadata": {},
   "source": [
    "## Reading multiple JSON files"
   ]
  },
  {
   "cell_type": "code",
   "execution_count": null,
   "id": "a8e953bf",
   "metadata": {},
   "outputs": [],
   "source": [
    "df = spark.read.json([\"/file/path/fileName1.jsom\", \"/file/path/fileName2.json\"])"
   ]
  },
  {
   "cell_type": "markdown",
   "id": "0fd4a40b",
   "metadata": {},
   "source": [
    "- Using **spark.read.json(\"path\")** method you can also read multiple JSON files from different paths, \n",
    "- just pass all file names with fully qualified paths by separating comma,"
   ]
  },
  {
   "cell_type": "markdown",
   "id": "392db124",
   "metadata": {},
   "source": [
    "## Reading all JSON files in a directory"
   ]
  },
  {
   "cell_type": "code",
   "execution_count": null,
   "id": "113c033a",
   "metadata": {},
   "outputs": [],
   "source": [
    "df = spark.read.json(\"/folder/path/*.json\")"
   ]
  },
  {
   "cell_type": "markdown",
   "id": "d875c987",
   "metadata": {},
   "source": [
    "- Using **spark.read.json(\"path\")** method you can read all the json files present in a folder"
   ]
  },
  {
   "cell_type": "markdown",
   "id": "f2eec696",
   "metadata": {},
   "source": [
    "## Reading User Specified schema "
   ]
  },
  {
   "cell_type": "code",
   "execution_count": null,
   "id": "d193930f",
   "metadata": {},
   "outputs": [],
   "source": [
    "schema = StrutType([\n",
    "                    StructField(\"State\", StringType(), True),\n",
    "                    StructField(\"City\", StringType(), True),\n",
    "                    StructField(\"ZipCodes\", IntegerType(), True)    \n",
    "                ])"
   ]
  },
  {
   "cell_type": "code",
   "execution_count": null,
   "id": "6528154f",
   "metadata": {},
   "outputs": [],
   "source": [
    "df = spark.read.schema(schema) \\\n",
    "                .json(\"file/path/fileName.json\")\n",
    "or\n",
    "\n",
    "df = spark.read.format(\"json\") \\\n",
    "                .schema(schema) \\\n",
    "                .load(\"/file/path/fileName.json\")"
   ]
  },
  {
   "cell_type": "markdown",
   "id": "e1342cd3",
   "metadata": {},
   "source": [
    "# 03. Read Parquet"
   ]
  },
  {
   "cell_type": "code",
   "execution_count": null,
   "id": "aa24eb53",
   "metadata": {},
   "outputs": [],
   "source": []
  }
 ],
 "metadata": {
  "kernelspec": {
   "display_name": "Python 3 (ipykernel)",
   "language": "python",
   "name": "python3"
  },
  "language_info": {
   "codemirror_mode": {
    "name": "ipython",
    "version": 3
   },
   "file_extension": ".py",
   "mimetype": "text/x-python",
   "name": "python",
   "nbconvert_exporter": "python",
   "pygments_lexer": "ipython3",
   "version": "3.10.12"
  }
 },
 "nbformat": 4,
 "nbformat_minor": 5
}
