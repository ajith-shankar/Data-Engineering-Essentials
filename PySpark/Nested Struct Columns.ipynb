{
 "cells": [
  {
   "cell_type": "markdown",
   "id": "9d925e18",
   "metadata": {},
   "source": [
    "# <font color=Blue>Nested Struct Column</font>"
   ]
  },
  {
   "cell_type": "code",
   "execution_count": 1,
   "id": "c5d7333c",
   "metadata": {},
   "outputs": [],
   "source": [
    "import findspark\n",
    "findspark.init()"
   ]
  },
  {
   "cell_type": "code",
   "execution_count": 2,
   "id": "a16da2e0",
   "metadata": {},
   "outputs": [
    {
     "name": "stderr",
     "output_type": "stream",
     "text": [
      "24/01/18 23:01:44 WARN Utils: Your hostname, ajith-Lenovo-G50-80 resolves to a loopback address: 127.0.1.1; using 192.168.1.36 instead (on interface wlp3s0)\n",
      "24/01/18 23:01:44 WARN Utils: Set SPARK_LOCAL_IP if you need to bind to another address\n",
      "24/01/18 23:01:46 WARN NativeCodeLoader: Unable to load native-hadoop library for your platform... using builtin-java classes where applicable\n"
     ]
    }
   ],
   "source": [
    "import pyspark\n",
    "from pyspark.sql import SparkSession\n",
    "\n",
    "spark = SparkSession.builder.appName(\"Nested Struct Column\").master(\"local[*]\").getOrCreate()"
   ]
  },
  {
   "cell_type": "code",
   "execution_count": 6,
   "id": "8f394d72",
   "metadata": {},
   "outputs": [
    {
     "data": {
      "text/html": [
       "\n",
       "            <div>\n",
       "                <p><b>SparkSession - in-memory</b></p>\n",
       "                \n",
       "        <div>\n",
       "            <p><b>SparkContext</b></p>\n",
       "\n",
       "            <p><a href=\"http://192.168.1.36:4040\">Spark UI</a></p>\n",
       "\n",
       "            <dl>\n",
       "              <dt>Version</dt>\n",
       "                <dd><code>v3.3.4</code></dd>\n",
       "              <dt>Master</dt>\n",
       "                <dd><code>local[*]</code></dd>\n",
       "              <dt>AppName</dt>\n",
       "                <dd><code>Nested Struct Column</code></dd>\n",
       "            </dl>\n",
       "        </div>\n",
       "        \n",
       "            </div>\n",
       "        "
      ],
      "text/plain": [
       "<pyspark.sql.session.SparkSession at 0x7ff2c5f659f0>"
      ]
     },
     "execution_count": 6,
     "metadata": {},
     "output_type": "execute_result"
    }
   ],
   "source": [
    "spark"
   ]
  },
  {
   "cell_type": "markdown",
   "id": "9ca6b7b8",
   "metadata": {},
   "source": [
    "We often need to work with the nested struct column and this can be defined using **StructType**.In the below example column **full_name** data type is StructType which is nested."
   ]
  },
  {
   "cell_type": "code",
   "execution_count": 13,
   "id": "9f41d239",
   "metadata": {},
   "outputs": [
    {
     "name": "stdout",
     "output_type": "stream",
     "text": [
      "root\n",
      " |-- full_name: struct (nullable = true)\n",
      " |    |-- first_name: string (nullable = true)\n",
      " |    |-- middle_name: string (nullable = true)\n",
      " |    |-- last_name: string (nullable = true)\n",
      " |-- id: string (nullable = true)\n",
      " |-- gender: string (nullable = true)\n",
      " |-- salary: integer (nullable = true)\n",
      "\n"
     ]
    }
   ],
   "source": [
    "from pyspark.sql.types import StructType, StructField, StringType, IntegerType\n",
    "\n",
    "Struct_data = [((\"James\", \"\", \"Smith\"), \"36636\", \"M\", 3100),\n",
    "            ((\"Michael\",\"Rose\",\"\"),\"40288\",\"M\",4300),\n",
    "            ((\"Robert\",\"\",\"Williams\"),\"42114\",\"M\",1400),\n",
    "            ((\"Maria\",\"Anne\",\"Jones\"),\"39192\",\"F\",5500),\n",
    "            ((\"Jen\",\"Mary\",\"Brown\"),\"\",\"F\",-1)       \n",
    "            ]\n",
    "\n",
    "Struct_schema = StructType([ StructField('full_name', StructType([ StructField('first_name', StringType(), True),\n",
    "                                                                  StructField('middle_name', StringType(), True),\n",
    "                                                                  StructField('last_name', StringType(), True)\n",
    "                                                                ])\n",
    "                                        ),\n",
    "                            StructField('id', StringType(), True),\n",
    "                            StructField('gender', StringType(), True),\n",
    "                            StructField('salary', IntegerType(), True)\n",
    "                         ])\n",
    "\n",
    "df = spark.createDataFrame(data=Struct_data, schema=Struct_schema)\n",
    "\n",
    "# print Schema\n",
    "df.printSchema()\n"
   ]
  },
  {
   "cell_type": "code",
   "execution_count": 14,
   "id": "836849e9",
   "metadata": {},
   "outputs": [
    {
     "name": "stderr",
     "output_type": "stream",
     "text": [
      "                                                                                \r"
     ]
    },
    {
     "name": "stdout",
     "output_type": "stream",
     "text": [
      "+--------------------+-----+------+------+\n",
      "|           full_name|   id|gender|salary|\n",
      "+--------------------+-----+------+------+\n",
      "|    {James, , Smith}|36636|     M|  3100|\n",
      "|   {Michael, Rose, }|40288|     M|  4300|\n",
      "|{Robert, , Williams}|42114|     M|  1400|\n",
      "|{Maria, Anne, Jones}|39192|     F|  5500|\n",
      "|  {Jen, Mary, Brown}|     |     F|    -1|\n",
      "+--------------------+-----+------+------+\n",
      "\n"
     ]
    }
   ],
   "source": [
    "# show data\n",
    "df.show()"
   ]
  },
  {
   "cell_type": "markdown",
   "id": "a38c4724",
   "metadata": {},
   "source": [
    "### Adding and Changing Columns"
   ]
  },
  {
   "cell_type": "markdown",
   "id": "03375c61",
   "metadata": {},
   "source": [
    "This can be done by using **struct()** function"
   ]
  },
  {
   "cell_type": "code",
   "execution_count": 17,
   "id": "294345e6",
   "metadata": {},
   "outputs": [
    {
     "name": "stdout",
     "output_type": "stream",
     "text": [
      "root\n",
      " |-- full_name: struct (nullable = true)\n",
      " |    |-- first_name: string (nullable = true)\n",
      " |    |-- middle_name: string (nullable = true)\n",
      " |    |-- last_name: string (nullable = true)\n",
      " |-- id: string (nullable = true)\n",
      " |-- gender: string (nullable = true)\n",
      " |-- salary: integer (nullable = true)\n",
      " |-- Other_Info: struct (nullable = false)\n",
      " |    |-- emp_id: string (nullable = true)\n",
      " |    |-- gender: string (nullable = true)\n",
      " |    |-- salary: integer (nullable = true)\n",
      "\n",
      "+--------------------+-----+------+------+----------------+\n",
      "|           full_name|   id|gender|salary|      Other_Info|\n",
      "+--------------------+-----+------+------+----------------+\n",
      "|    {James, , Smith}|36636|     M|  3100|{36636, M, 3100}|\n",
      "|   {Michael, Rose, }|40288|     M|  4300|{40288, M, 4300}|\n",
      "|{Robert, , Williams}|42114|     M|  1400|{42114, M, 1400}|\n",
      "|{Maria, Anne, Jones}|39192|     F|  5500|{39192, F, 5500}|\n",
      "|  {Jen, Mary, Brown}|     |     F|    -1|       {, F, -1}|\n",
      "+--------------------+-----+------+------+----------------+\n",
      "\n"
     ]
    }
   ],
   "source": [
    "from pyspark.sql.functions import col, struct\n",
    "\n",
    "# create a new column by using withColumn() and rename using alias() \n",
    "df2 = df.withColumn(\"Other_Info\", struct(col('id').alias('emp_id'), \n",
    "                                         col('gender').alias('gender'),\n",
    "                                         col('salary').alias('salary')\n",
    "                                        ))\n",
    "\n",
    "df2.printSchema()\n",
    "\n",
    "df2.show()"
   ]
  },
  {
   "cell_type": "code",
   "execution_count": null,
   "id": "b8a72bae",
   "metadata": {},
   "outputs": [],
   "source": []
  },
  {
   "cell_type": "markdown",
   "id": "f733ea9a",
   "metadata": {},
   "source": [
    "##### Original Credit: https://sparkbyexamples.com/pyspark/pyspark-structtype-and-structfield/"
   ]
  }
 ],
 "metadata": {
  "kernelspec": {
   "display_name": "Python 3 (ipykernel)",
   "language": "python",
   "name": "python3"
  },
  "language_info": {
   "codemirror_mode": {
    "name": "ipython",
    "version": 3
   },
   "file_extension": ".py",
   "mimetype": "text/x-python",
   "name": "python",
   "nbconvert_exporter": "python",
   "pygments_lexer": "ipython3",
   "version": "3.10.12"
  }
 },
 "nbformat": 4,
 "nbformat_minor": 5
}
