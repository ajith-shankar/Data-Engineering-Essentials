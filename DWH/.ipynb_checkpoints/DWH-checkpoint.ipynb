{
 "cells": [
  {
   "cell_type": "markdown",
   "id": "0b6f3656-9f6e-446f-9e18-28813b1fea1a",
   "metadata": {},
   "source": [
    "# <font color=Blue>Data Modeling</font>"
   ]
  },
  {
   "cell_type": "markdown",
   "id": "03575c0d-0ead-4a9a-81b5-fc5129c83ac8",
   "metadata": {},
   "source": [
    "## 1) Surrogate Key"
   ]
  },
  {
   "cell_type": "markdown",
   "id": "60c5a691-505b-4b47-af6c-3d03a5d0af23",
   "metadata": {},
   "source": [
    "* Surrogate key is an additional primary key of Dimension Table\n",
    "* Which is populated by ETL process"
   ]
  },
  {
   "cell_type": "markdown",
   "id": "e9476ce1-cc9e-4ecf-a1ee-ad3aea4ab6e6",
   "metadata": {},
   "source": [
    "### 1.1) Why Surrogate Key"
   ]
  },
  {
   "cell_type": "markdown",
   "id": "c2cc306d-5032-4660-9dea-02a13564d3d5",
   "metadata": {},
   "source": [
    "* If the Primary key has Alphanumeric data, then joining between the tables with alphanumeric data consumes memory. So numeric columns are suggested\n",
    "* Capture chages in master data. "
   ]
  },
  {
   "cell_type": "markdown",
   "id": "a28f4c85-03b7-4ad5-9825-56f28f14cea4",
   "metadata": {},
   "source": [
    "## 2) Hirerachy"
   ]
  },
  {
   "cell_type": "markdown",
   "id": "b1a226f6-0f14-4d58-8176-59f22a4a9008",
   "metadata": {},
   "source": [
    "* A set of related dimensional attributes (columns)\n",
    "* Ex: If a customer dimension consists attributes such as city, state and country, these attributes form customer location hierarchy"
   ]
  },
  {
   "cell_type": "markdown",
   "id": "0b86df71-6cf0-4a06-bf0b-df7ebe06f245",
   "metadata": {},
   "source": [
    "## 3) Grain"
   ]
  },
  {
   "cell_type": "markdown",
   "id": "d62dd044-9d47-4ea4-b272-264791e86000",
   "metadata": {},
   "source": [
    "* An attribute of hirerachy at which data is collected or stored in the fact table\n",
    "* Ex: If we store data in the fact table for each city on daily basis, then city and day are grains"
   ]
  },
  {
   "cell_type": "markdown",
   "id": "c2f1eeeb-bfb0-497b-ba6a-ef6b11759135",
   "metadata": {},
   "source": [
    "## 4) Dimension"
   ]
  },
  {
   "cell_type": "markdown",
   "id": "9a803740-103f-41c5-b628-621fb2b0d65a",
   "metadata": {},
   "source": [
    "* A desriptive information is used to group transactional data\n",
    "* A transactional data is useless, unless we have some additional information about it which is provided by Dimension"
   ]
  },
  {
   "cell_type": "markdown",
   "id": "1d83681b-38aa-4451-8708-02cfdb1f2b1d",
   "metadata": {},
   "source": [
    "### 4.1) Types of Dimension"
   ]
  },
  {
   "cell_type": "markdown",
   "id": "832fa03e-d43f-461a-8d00-770b993a0a99",
   "metadata": {},
   "source": [
    "* Dimensions can be classified based on Periodicity of Change, Where and What data is stored about the dimension\n",
    "    * Slowly Changing Dimension\n",
    "    * Rapidly Changing Dimension\n",
    "    * Degenerate Dimension\n",
    "    * Role-Playing Dimension\n",
    "    * Junk/Garbage Dimension"
   ]
  },
  {
   "cell_type": "markdown",
   "id": "0a28c706-c20b-4015-b619-1f848f795cb3",
   "metadata": {},
   "source": [
    "#### Slowly Changing Dimension (SCD)"
   ]
  },
  {
   "cell_type": "code",
   "execution_count": null,
   "id": "cb4d4bf8-4ba6-4015-b03e-90d6daa1c519",
   "metadata": {},
   "outputs": [],
   "source": []
  },
  {
   "cell_type": "code",
   "execution_count": null,
   "id": "faf59060-b234-473e-b046-8350762c06ac",
   "metadata": {},
   "outputs": [],
   "source": []
  },
  {
   "cell_type": "markdown",
   "id": "f9b06d1e-e894-4310-8af2-d2e95dbe812c",
   "metadata": {},
   "source": [
    "## 5) Fact"
   ]
  },
  {
   "cell_type": "markdown",
   "id": "fa7c9835-6d19-4357-80c9-cb26871de471",
   "metadata": {},
   "source": [
    "* A transactional data analyzed by a business user"
   ]
  },
  {
   "cell_type": "code",
   "execution_count": null,
   "id": "93d422c3-2c35-456c-b25a-65c09adce94b",
   "metadata": {},
   "outputs": [],
   "source": []
  }
 ],
 "metadata": {
  "kernelspec": {
   "display_name": "Python 3 (ipykernel)",
   "language": "python",
   "name": "python3"
  },
  "language_info": {
   "codemirror_mode": {
    "name": "ipython",
    "version": 3
   },
   "file_extension": ".py",
   "mimetype": "text/x-python",
   "name": "python",
   "nbconvert_exporter": "python",
   "pygments_lexer": "ipython3",
   "version": "3.12.1"
  }
 },
 "nbformat": 4,
 "nbformat_minor": 5
}
