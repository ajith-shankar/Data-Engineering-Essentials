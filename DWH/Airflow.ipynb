{
 "cells": [
  {
   "cell_type": "markdown",
   "id": "c76876ed-9e18-4b21-a66f-91b183a324fa",
   "metadata": {},
   "source": [
    "# <font color=Blue>Airflow</font>"
   ]
  },
  {
   "cell_type": "markdown",
   "id": "4a6e68fb-ad70-4645-a6bd-8960232d7422",
   "metadata": {},
   "source": [
    "## 1) Airflow Architecture"
   ]
  },
  {
   "cell_type": "markdown",
   "id": "d5d66107-46c8-4462-b11f-4d6a3d13a25c",
   "metadata": {},
   "source": [
    "* Key Components of airflow\n",
    "    * 1) Metadata database\n",
    "    * 2) Scheduler\n",
    "    * 3) Executor and Queuing Service\n",
    "    * 4) Web Server"
   ]
  },
  {
   "cell_type": "markdown",
   "id": "cbe72e90-5c01-43ae-8f28-5a02c8ac32ea",
   "metadata": {},
   "source": [
    "#### 1.1) Metadata database"
   ]
  },
  {
   "cell_type": "markdown",
   "id": "6552d91e-047a-423b-badf-785e2865c4b2",
   "metadata": {},
   "source": [
    "* Relational database that stores information about DAG runs, Task instance, Task State, & other airflow cofig such as Users, roles and connections\n",
    "* SQLlite is the default database but it is not support parallelization"
   ]
  },
  {
   "cell_type": "markdown",
   "id": "dae3341e-3a56-4e4d-9882-e5772a018aec",
   "metadata": {},
   "source": [
    "#### 1.2) Scheduler"
   ]
  },
  {
   "cell_type": "markdown",
   "id": "be8591a9-7016-4bb0-a72d-7e0560a7e344",
   "metadata": {},
   "source": [
    "* Python process that monitors the metadata database and DAG definition file on a periodic basis\n",
    "* Triggers schedules tasks on worker nodes based on the execution priority"
   ]
  },
  {
   "cell_type": "markdown",
   "id": "7c7d36a8-4ccf-4864-b61d-c93378635bcf",
   "metadata": {},
   "source": [
    "#### 1.3) Executor and Queuing Seervice"
   ]
  },
  {
   "cell_type": "markdown",
   "id": "301739ff-f602-43c7-b1b4-d9b03a5f75db",
   "metadata": {},
   "source": [
    "* Executor is the component that performs the actual tasks of the DAG\n",
    "* Scheduler trigger the tasks, add it to the queuing service and executors run these tasks on worker nodes\n",
    "* The primary job of the executor is to take queued task instances, find a place to run them and record the results after they have been executed\n",
    "* Depending on the Airflow env, different types of executors can be configured"
   ]
  },
  {
   "cell_type": "markdown",
   "id": "63bba5f7-5b09-48d4-8bc8-7a95b23738cc",
   "metadata": {},
   "source": [
    "#### 1.4) Web Server"
   ]
  },
  {
   "cell_type": "markdown",
   "id": "c4833c05-830e-4f48-822c-37e9aeb1a9ed",
   "metadata": {},
   "source": [
    "* UI component of Airflow that is always in sync with the Metadata database\n",
    "* Keeps users up to date by providing real time data of underlying tasks, execution time, and other information using various types of graph representation"
   ]
  },
  {
   "cell_type": "code",
   "execution_count": null,
   "id": "91de01a6-fa02-425d-a3bc-996a55e45859",
   "metadata": {},
   "outputs": [],
   "source": []
  }
 ],
 "metadata": {
  "kernelspec": {
   "display_name": "Python 3 (ipykernel)",
   "language": "python",
   "name": "python3"
  },
  "language_info": {
   "codemirror_mode": {
    "name": "ipython",
    "version": 3
   },
   "file_extension": ".py",
   "mimetype": "text/x-python",
   "name": "python",
   "nbconvert_exporter": "python",
   "pygments_lexer": "ipython3",
   "version": "3.12.1"
  }
 },
 "nbformat": 4,
 "nbformat_minor": 5
}
