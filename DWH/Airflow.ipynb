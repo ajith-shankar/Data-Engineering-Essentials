{
 "cells": [
  {
   "cell_type": "markdown",
   "id": "c76876ed-9e18-4b21-a66f-91b183a324fa",
   "metadata": {},
   "source": [
    "# <font color=Blue>Airflow</font>"
   ]
  },
  {
   "cell_type": "markdown",
   "id": "4a6e68fb-ad70-4645-a6bd-8960232d7422",
   "metadata": {},
   "source": [
    "## 1) Airflow Architecture"
   ]
  },
  {
   "cell_type": "markdown",
   "id": "d5d66107-46c8-4462-b11f-4d6a3d13a25c",
   "metadata": {},
   "source": [
    "* Key Components of airflow\n",
    "    * 1) Metadata database\n",
    "    * 2) Scheduler\n",
    "    * 3) Executor and Queuing Service\n",
    "    * 4) Web Server"
   ]
  },
  {
   "cell_type": "markdown",
   "id": "cbe72e90-5c01-43ae-8f28-5a02c8ac32ea",
   "metadata": {},
   "source": [
    "#### 1.1) Metadata database"
   ]
  },
  {
   "cell_type": "markdown",
   "id": "6552d91e-047a-423b-badf-785e2865c4b2",
   "metadata": {},
   "source": [
    "* Relational database that stores information about DAG runs, Task instance, Task State, & other airflow cofig such as Users, roles and connections\n",
    "* SQLlite is the default database but it is not support parallelization"
   ]
  }
 ],
 "metadata": {
  "kernelspec": {
   "display_name": "Python 3 (ipykernel)",
   "language": "python",
   "name": "python3"
  },
  "language_info": {
   "codemirror_mode": {
    "name": "ipython",
    "version": 3
   },
   "file_extension": ".py",
   "mimetype": "text/x-python",
   "name": "python",
   "nbconvert_exporter": "python",
   "pygments_lexer": "ipython3",
   "version": "3.12.1"
  }
 },
 "nbformat": 4,
 "nbformat_minor": 5
}
