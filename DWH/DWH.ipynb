{
 "cells": [
  {
   "cell_type": "markdown",
   "id": "0b6f3656-9f6e-446f-9e18-28813b1fea1a",
   "metadata": {},
   "source": [
    "# <font color=Blue>Data Modeling</font>"
   ]
  },
  {
   "cell_type": "markdown",
   "id": "03575c0d-0ead-4a9a-81b5-fc5129c83ac8",
   "metadata": {},
   "source": [
    "## 1) Surrogate Key"
   ]
  },
  {
   "cell_type": "markdown",
   "id": "60c5a691-505b-4b47-af6c-3d03a5d0af23",
   "metadata": {},
   "source": [
    "* Surrogate key is an additional primary key of Dimension Table\n",
    "* Which is populated by ETL process"
   ]
  },
  {
   "cell_type": "markdown",
   "id": "e9476ce1-cc9e-4ecf-a1ee-ad3aea4ab6e6",
   "metadata": {},
   "source": [
    "### 1.1) Why Surrogate Key"
   ]
  },
  {
   "cell_type": "markdown",
   "id": "c2cc306d-5032-4660-9dea-02a13564d3d5",
   "metadata": {},
   "source": [
    "* If the Primary key has Alphanumeric data, then joining between the tables with alphanumeric data consumes memory. So numeric columns are suggested\n",
    "* Capture chages in master data. "
   ]
  },
  {
   "cell_type": "markdown",
   "id": "a28f4c85-03b7-4ad5-9825-56f28f14cea4",
   "metadata": {},
   "source": [
    "## 2) Hirerachy"
   ]
  },
  {
   "cell_type": "markdown",
   "id": "b1a226f6-0f14-4d58-8176-59f22a4a9008",
   "metadata": {},
   "source": [
    "* A set of related dimensional attributes (columns)\n",
    "* Ex: If a customer dimension consists attributes such as city, state and country, these attributes form customer location hierarchy"
   ]
  },
  {
   "cell_type": "markdown",
   "id": "0b86df71-6cf0-4a06-bf0b-df7ebe06f245",
   "metadata": {},
   "source": [
    "## 3) Grain"
   ]
  },
  {
   "cell_type": "markdown",
   "id": "d62dd044-9d47-4ea4-b272-264791e86000",
   "metadata": {},
   "source": [
    "* An attribute of hirerachy at which data is collected or stored in the fact table\n",
    "* Ex: If we store data in the fact table for each city on daily basis, then city and day are grains"
   ]
  },
  {
   "cell_type": "markdown",
   "id": "c2f1eeeb-bfb0-497b-ba6a-ef6b11759135",
   "metadata": {},
   "source": [
    "## 4) Dimension"
   ]
  },
  {
   "cell_type": "markdown",
   "id": "9a803740-103f-41c5-b628-621fb2b0d65a",
   "metadata": {},
   "source": [
    "* A desriptive information is used to group transactional data\n",
    "* A transactional data is useless, unless we have some additional information about it which is provided by Dimension"
   ]
  },
  {
   "cell_type": "markdown",
   "id": "1d83681b-38aa-4451-8708-02cfdb1f2b1d",
   "metadata": {},
   "source": [
    "### 4.1) Types of Dimension"
   ]
  },
  {
   "cell_type": "markdown",
   "id": "832fa03e-d43f-461a-8d00-770b993a0a99",
   "metadata": {},
   "source": [
    "* Dimensions can be classified based on Periodicity of Change, Where and What data is stored about the dimension\n",
    "    * Slowly Changing Dimension\n",
    "    * Rapidly Changing Dimension\n",
    "    * Degenerate Dimension\n",
    "    * Role-Playing Dimension\n",
    "    * Junk/Garbage Dimension"
   ]
  },
  {
   "cell_type": "markdown",
   "id": "0a28c706-c20b-4015-b619-1f848f795cb3",
   "metadata": {},
   "source": [
    "#### Slowly Changing Dimension (SCD)"
   ]
  },
  {
   "cell_type": "markdown",
   "id": "01e0787b-60c2-4f7e-a6ac-5a29b8f3dfff",
   "metadata": {},
   "source": [
    "* Any Dimension whose attribute value changes infrequently is called Slowly Changing Dimension (SCD)\n",
    "* EX: Change in name, Bombay renamed as Mumbai or Madras renamed as Chennai\n",
    "* Ex: Change in Address, Person relocated from New York to Atlanta"
   ]
  },
  {
   "cell_type": "markdown",
   "id": "2deb4600-ade3-4f84-b65a-eac35b8b58ed",
   "metadata": {},
   "source": [
    "* Change in the data can be captured using 3 different implementations\n",
    "    * SCD type 0 (No Changes Allowed)\n",
    "    * SCD type 1 (Overwrite History)\n",
    "    * SCD type 2 (Row versioning)\n",
    "    * SCD type 3 (Column versioning)\n",
    "    * SCD type 4 (New Dimension Table)\n",
    "    * SCD type 6 (Hybrid combination of SCD type 1, 2, 3)"
   ]
  },
  {
   "cell_type": "markdown",
   "id": "8dc5c82e-1c0c-44d4-a1d3-b4de4cca9bed",
   "metadata": {},
   "source": [
    "#### SCD Type 0"
   ]
  },
  {
   "cell_type": "markdown",
   "id": "f30257fe-5f2a-49d8-a53b-6003ae718a54",
   "metadata": {},
   "source": [
    "* Here we are ignoring any changes.\n",
    "* Fixed Dimension\n",
    "* Ex: Employee joinedDate to an organization"
   ]
  },
  {
   "cell_type": "markdown",
   "id": "26cf4b11-1c1f-41c7-8b7f-c0fc3c0173e6",
   "metadata": {},
   "source": [
    " #### SCD Type 1"
   ]
  },
  {
   "cell_type": "markdown",
   "id": "30be70fd-29c6-41f0-b426-327682d93b02",
   "metadata": {},
   "source": [
    "* Here we overwrite the data in dimensions\n",
    "* Old data is replaced with New data\n",
    "* History will not be preserved"
   ]
  },
  {
   "cell_type": "markdown",
   "id": "c17fb7b5-d6ae-4d58-a83d-28cd99f5a158",
   "metadata": {},
   "source": [
    "#### SCD Type 2"
   ]
  },
  {
   "cell_type": "markdown",
   "id": "bf1ac3d7-472d-4000-b83d-c1bb09a7adf6",
   "metadata": {},
   "source": [
    "* Very powerfull method. Here history is preserved\n",
    "* Both old and new records will coexist in the dimension\n",
    "* A surrogate key is assigned to the new record as well\n",
    "* We are adding three more attributes StartDate, EndDate, currentFlag columns to track the history\n",
    "* More storage is required and more maintenance overhead\n",
    "* Row versioning"
   ]
  },
  {
   "cell_type": "markdown",
   "id": "e63c5838-d581-4609-94aa-cfc6b80365e2",
   "metadata": {},
   "source": [
    "#### SCD Type 3"
   ]
  },
  {
   "cell_type": "markdown",
   "id": "10963994-8f93-4d64-934e-b2c53b027cda",
   "metadata": {},
   "source": [
    "* Here history will be kept in the additional column\n",
    "* Partially preserve history\n",
    "* two more attributes are added, new_city, effective_date\n",
    "* It doesn't create storage problem\n",
    "* Column versioning "
   ]
  },
  {
   "cell_type": "markdown",
   "id": "a3c11173-c63f-473d-a192-f4f37bd9ad7b",
   "metadata": {},
   "source": [
    "#### SCD Type 4"
   ]
  },
  {
   "cell_type": "markdown",
   "id": "be6fa42d-eaf5-4624-a59e-c55fae7144cc",
   "metadata": {},
   "source": [
    "* There is no change in the existing table\n",
    "* Rapidly changeing column is moved out of the existing dimension table. and created new table with this column\n",
    "* Newly created dimension table is connected with fact table\n",
    "* Separating the historical data makes your dimension smaller and reduces complexity and improves performace if the majority of uses only need the current change value\n",
    "* If you need historical values then this structure adds complexity and data redundancy overheads"
   ]
  },
  {
   "cell_type": "markdown",
   "id": "923ea015-b893-4a1c-b365-4288fc93fa99",
   "metadata": {},
   "source": [
    "#### SCD Type 6"
   ]
  },
  {
   "cell_type": "markdown",
   "id": "0c22f07a-84f1-49b5-a6d2-82443d9da060",
   "metadata": {},
   "source": [
    "* It consists of SCD type 2 and type 3 techniques\n",
    "* Here we maintain a history of all changes by updating both columns and rows\n",
    "* It will improve analytical capabilities\n",
    "* without type 6 dimension in DWH, complex queries has to be used"
   ]
  },
  {
   "cell_type": "markdown",
   "id": "f9b06d1e-e894-4310-8af2-d2e95dbe812c",
   "metadata": {},
   "source": [
    "## 5) Fact"
   ]
  },
  {
   "cell_type": "markdown",
   "id": "fa7c9835-6d19-4357-80c9-cb26871de471",
   "metadata": {},
   "source": [
    "* A transactional data analyzed by a business user"
   ]
  },
  {
   "cell_type": "code",
   "execution_count": null,
   "id": "93d422c3-2c35-456c-b25a-65c09adce94b",
   "metadata": {},
   "outputs": [],
   "source": []
  }
 ],
 "metadata": {
  "kernelspec": {
   "display_name": "Python 3 (ipykernel)",
   "language": "python",
   "name": "python3"
  },
  "language_info": {
   "codemirror_mode": {
    "name": "ipython",
    "version": 3
   },
   "file_extension": ".py",
   "mimetype": "text/x-python",
   "name": "python",
   "nbconvert_exporter": "python",
   "pygments_lexer": "ipython3",
   "version": "3.12.1"
  }
 },
 "nbformat": 4,
 "nbformat_minor": 5
}
