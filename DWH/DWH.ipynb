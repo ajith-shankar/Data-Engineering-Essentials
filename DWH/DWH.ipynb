{
 "cells": [
  {
   "cell_type": "markdown",
   "id": "0b6f3656-9f6e-446f-9e18-28813b1fea1a",
   "metadata": {},
   "source": [
    "# <font color=Blue>Data Modeling</font>"
   ]
  },
  {
   "cell_type": "markdown",
   "id": "03575c0d-0ead-4a9a-81b5-fc5129c83ac8",
   "metadata": {},
   "source": [
    "## 1) Surrogate Key"
   ]
  },
  {
   "cell_type": "markdown",
   "id": "60c5a691-505b-4b47-af6c-3d03a5d0af23",
   "metadata": {},
   "source": [
    "* Surrogate key is an additional primary key of Dimension Table\n",
    "* Which is populated by ETL process"
   ]
  },
  {
   "cell_type": "markdown",
   "id": "e9476ce1-cc9e-4ecf-a1ee-ad3aea4ab6e6",
   "metadata": {},
   "source": [
    "### 1.1) Why Surrogate Key"
   ]
  },
  {
   "cell_type": "markdown",
   "id": "c2cc306d-5032-4660-9dea-02a13564d3d5",
   "metadata": {},
   "source": [
    "* If the Primary key has Alphanumeric data, then joining between the tables with alphanumeric data consumes memory. So numeric columns are suggested\n",
    "* Capture chages in master data. "
   ]
  },
  {
   "cell_type": "markdown",
   "id": "a28f4c85-03b7-4ad5-9825-56f28f14cea4",
   "metadata": {},
   "source": [
    "## 2) Hirerachy"
   ]
  },
  {
   "cell_type": "markdown",
   "id": "b1a226f6-0f14-4d58-8176-59f22a4a9008",
   "metadata": {},
   "source": [
    "* A set of related dimensional attributes (columns)\n",
    "* Ex: If a customer dimension consists attributes such as city, state and country, these attributes form customer location hierarchy"
   ]
  },
  {
   "cell_type": "markdown",
   "id": "0b86df71-6cf0-4a06-bf0b-df7ebe06f245",
   "metadata": {},
   "source": [
    "## 3) Grain"
   ]
  },
  {
   "cell_type": "markdown",
   "id": "d62dd044-9d47-4ea4-b272-264791e86000",
   "metadata": {},
   "source": [
    "* An attribute of hirerachy at which data is collected or stored in the fact table is called Grain\n",
    "* Ex: If we store data in the fact table for each city on daily basis, then city and day are grains"
   ]
  },
  {
   "cell_type": "markdown",
   "id": "c2f1eeeb-bfb0-497b-ba6a-ef6b11759135",
   "metadata": {},
   "source": [
    "## 4) Dimension"
   ]
  },
  {
   "cell_type": "markdown",
   "id": "9a803740-103f-41c5-b628-621fb2b0d65a",
   "metadata": {},
   "source": [
    "* A **desriptive information** is used to group transactional data\n",
    "* A transactional data is useless, unless we have some additional information about it which is provided by Dimension"
   ]
  },
  {
   "cell_type": "markdown",
   "id": "1d83681b-38aa-4451-8708-02cfdb1f2b1d",
   "metadata": {},
   "source": [
    "### 4.1) Types of Dimension"
   ]
  },
  {
   "cell_type": "markdown",
   "id": "832fa03e-d43f-461a-8d00-770b993a0a99",
   "metadata": {},
   "source": [
    "* Dimensions can be classified based on **Periodicity of Change**, Where and What data is stored about the dimension\n",
    "    * Slowly Changing Dimension\n",
    "    * Rapidly Changing Dimension\n",
    "    * Degenerate Dimension\n",
    "    * Role-Playing Dimension\n",
    "    * Junk/Garbage Dimension"
   ]
  },
  {
   "cell_type": "markdown",
   "id": "0a28c706-c20b-4015-b619-1f848f795cb3",
   "metadata": {},
   "source": [
    "### 4.1.1) Slowly Changing Dimension (SCD)"
   ]
  },
  {
   "cell_type": "markdown",
   "id": "01e0787b-60c2-4f7e-a6ac-5a29b8f3dfff",
   "metadata": {},
   "source": [
    "* Any Dimension whose attribute value **changes infrequently** is called Slowly Changing Dimension (SCD)\n",
    "* EX: Change in name, Bombay renamed as Mumbai or Madras renamed as Chennai\n",
    "* Ex: Change in Address, Person relocated from New York to Atlanta"
   ]
  },
  {
   "cell_type": "markdown",
   "id": "2deb4600-ade3-4f84-b65a-eac35b8b58ed",
   "metadata": {},
   "source": [
    "* Change in the data can be captured using 3 different implementations\n",
    "    * SCD type 0 (No Changes Allowed)\n",
    "    * SCD type 1 (Overwrite History)\n",
    "    * SCD type 2 (Row versioning)\n",
    "    * SCD type 3 (Column versioning)\n",
    "    * SCD type 4 (New Dimension Table)\n",
    "    * SCD type 6 (Hybrid combination of SCD type 1, 2, 3)"
   ]
  },
  {
   "cell_type": "markdown",
   "id": "8dc5c82e-1c0c-44d4-a1d3-b4de4cca9bed",
   "metadata": {},
   "source": [
    "#### SCD Type 0"
   ]
  },
  {
   "cell_type": "markdown",
   "id": "f30257fe-5f2a-49d8-a53b-6003ae718a54",
   "metadata": {},
   "source": [
    "* Here we are ignoring any changes.\n",
    "* Fixed Dimension\n",
    "* Ex: Employee joinedDate to an organization"
   ]
  },
  {
   "cell_type": "markdown",
   "id": "26cf4b11-1c1f-41c7-8b7f-c0fc3c0173e6",
   "metadata": {},
   "source": [
    " #### SCD Type 1"
   ]
  },
  {
   "cell_type": "markdown",
   "id": "30be70fd-29c6-41f0-b426-327682d93b02",
   "metadata": {},
   "source": [
    "* Here we overwrite the data in dimensions\n",
    "* Old data is replaced with New data\n",
    "* History will not be preserved\n",
    "* Advantage: It is easier to implement\n",
    "* Disadvantage: All old information deleted permanently"
   ]
  },
  {
   "cell_type": "markdown",
   "id": "c17fb7b5-d6ae-4d58-a83d-28cd99f5a158",
   "metadata": {},
   "source": [
    "#### SCD Type 2"
   ]
  },
  {
   "cell_type": "markdown",
   "id": "bf1ac3d7-472d-4000-b83d-c1bb09a7adf6",
   "metadata": {},
   "source": [
    "* Very powerfull method. Here **history is preserved**\n",
    "* Both old and new records will coexist in the dimension\n",
    "* A surrogate key is assigned to the new record as well\n",
    "* We are adding three more attributes StartDate, EndDate, currentFlag columns to track the history\n",
    "* More storage is required and more maintenance overhead\n",
    "* Row versioning\n",
    "* Advantage: This allows to keep all information accurately\n",
    "* Disadvantage: The size of the table increases rapidly, Frequent update and insert to table cause performance and maintenance problems"
   ]
  },
  {
   "cell_type": "markdown",
   "id": "e63c5838-d581-4609-94aa-cfc6b80365e2",
   "metadata": {},
   "source": [
    "#### SCD Type 3"
   ]
  },
  {
   "cell_type": "markdown",
   "id": "10963994-8f93-4d64-934e-b2c53b027cda",
   "metadata": {},
   "source": [
    "* Here history will be kept in the additional column\n",
    "* **Partially** preserve history\n",
    "* two more attributes are added, new_city, effective_date\n",
    "* Column versioning\n",
    "* Advantage: It doesn't create storage problem, It allows to preserve limited amount of historical data\n",
    "* Disadvantage: As it store limited amount of historical data which may not be useful in timeseries analysis"
   ]
  },
  {
   "cell_type": "markdown",
   "id": "a3c11173-c63f-473d-a192-f4f37bd9ad7b",
   "metadata": {},
   "source": [
    "#### SCD Type 4"
   ]
  },
  {
   "cell_type": "markdown",
   "id": "be6fa42d-eaf5-4624-a59e-c55fae7144cc",
   "metadata": {},
   "source": [
    "* There is no change in the existing table\n",
    "* Rapidly changeing column is moved out of the existing dimension table. and **created new table** with this column\n",
    "* Newly created dimension table is connected with fact table\n",
    "* Separating the historical data makes your dimension smaller and reduces complexity and improves performace if the majority of uses only need the current change value\n",
    "* If you need historical values then this structure adds complexity and data redundancy overheads"
   ]
  },
  {
   "cell_type": "markdown",
   "id": "923ea015-b893-4a1c-b365-4288fc93fa99",
   "metadata": {},
   "source": [
    "#### SCD Type 6"
   ]
  },
  {
   "cell_type": "markdown",
   "id": "0c22f07a-84f1-49b5-a6d2-82443d9da060",
   "metadata": {},
   "source": [
    "* It consists of SCD type 2 and type 3 techniques\n",
    "* Here we maintain a history of all changes by updating both columns and rows\n",
    "* It will improve analytical capabilities\n",
    "* without type 6 dimension in DWH, complex queries has to be used"
   ]
  },
  {
   "cell_type": "markdown",
   "id": "948bdf20-ffc2-4917-b602-0d72a5ae54da",
   "metadata": {},
   "source": [
    "### 4.1.2) Rapidly Changing Dimension"
   ]
  },
  {
   "cell_type": "markdown",
   "id": "24359d20-4abb-4190-b61f-14fa6a988025",
   "metadata": {},
   "source": [
    "* A Dimension whose one or more attributes value changes rapidly over a period\n",
    "* Ex: Age of a person\n",
    "* Test score of a student\n",
    "* Credit history score of a customer"
   ]
  },
  {
   "cell_type": "markdown",
   "id": "a5c4c933-e4cf-4f2f-b725-3ff8762ef770",
   "metadata": {},
   "source": [
    "### 4.1.3) Role-Playing Dimension"
   ]
  },
  {
   "cell_type": "markdown",
   "id": "b518cd0e-9587-417b-97a7-2c39219750c8",
   "metadata": {},
   "source": [
    "* Sometimes, a single dimension needs to be used for different context. Such dimension are known as role playing dimension\n",
    "* Ex: 1) Design two Date dimension tables with unique structure and the same data\n",
    "* 2) Design only one Date dimension table with two *views*"
   ]
  },
  {
   "cell_type": "markdown",
   "id": "648d7a47-bcec-4132-9010-5b9ffb0d6207",
   "metadata": {},
   "source": [
    "### 4.1.4) Degenerate Dimension"
   ]
  },
  {
   "cell_type": "markdown",
   "id": "c2b79bb8-daed-4a65-9b0f-f1cd9d673ab7",
   "metadata": {},
   "source": [
    "* A Dimension without any descriptive or contexual iformation\n",
    "* In real life, a degenerate dimension does not have their own separate existance\n",
    "* it is good to keep such data along with transactional data"
   ]
  },
  {
   "cell_type": "markdown",
   "id": "39c2a6c0-386c-495f-97e2-32f5dc40e92c",
   "metadata": {},
   "source": [
    "### 4.1.5) Junk Dimension"
   ]
  },
  {
   "cell_type": "markdown",
   "id": "bc1ce8e0-8299-4ed8-804d-d98fce9f29c4",
   "metadata": {},
   "source": [
    "* In real life, Junk Dimension are rarely used.\n",
    "* Dimension table consists of columns such as status flags(yes/no), boolean values(yes/no) or classifications(male/female)\n",
    "* Contains attributes that neither belongs to the fact table nor to the dimension tables\n",
    "* Can have values such as true/false, or yes/no which have no corelation with each other"
   ]
  },
  {
   "cell_type": "markdown",
   "id": "f9b06d1e-e894-4310-8af2-d2e95dbe812c",
   "metadata": {},
   "source": [
    "## 5) Fact"
   ]
  },
  {
   "cell_type": "markdown",
   "id": "fa7c9835-6d19-4357-80c9-cb26871de471",
   "metadata": {},
   "source": [
    "* It is a transactional data analyzed by a business user\n",
    "* When facts are summarized or aggregated across Dimensional data they are called as **Measures**\n",
    "* Fact table includes Foreign Keys and Measures"
   ]
  },
  {
   "cell_type": "markdown",
   "id": "82a11e38-bb17-4029-ba8d-521ffd6ba4bd",
   "metadata": {},
   "source": [
    "### Types of Facts"
   ]
  },
  {
   "cell_type": "markdown",
   "id": "d01aeff2-e7a5-47f5-982b-816ae426e7a2",
   "metadata": {},
   "source": [
    "* Facts are divided into 3 major categories based on Aggregation <br>\n",
    "    * Additive Facts\n",
    "    * Semi-Additive Facts\n",
    "    * Non-Additive Facts <br>\n",
    "* There is another type of facts based on the content <br>\n",
    "    * Factless Fact"
   ]
  },
  {
   "cell_type": "markdown",
   "id": "273f7784-247b-45eb-8251-a42bfb447fce",
   "metadata": {},
   "source": [
    "#### 5.1) Additive Facts"
   ]
  },
  {
   "cell_type": "markdown",
   "id": "24d3587e-271a-4646-ad3a-bf7e7576be61",
   "metadata": {},
   "source": [
    "* Facts that are summarized or aggrgated across **all** the dimensions are called ad Additive Facts"
   ]
  },
  {
   "cell_type": "markdown",
   "id": "ce0a8849-cfa7-431a-825d-0ef66c3e020b",
   "metadata": {},
   "source": [
    "#### 5.2) Semi-Additive Facts"
   ]
  },
  {
   "cell_type": "markdown",
   "id": "20117c6a-9d4a-4368-970d-7351b5cbbaeb",
   "metadata": {},
   "source": [
    "* A fact that can be summarized or aggregated only across **few** dimensions is called as Semi-Additive fact"
   ]
  },
  {
   "cell_type": "markdown",
   "id": "dddcf9f5-e67b-47f5-adbd-44aa190a659d",
   "metadata": {},
   "source": [
    "#### 5.3) Non-Additive Facts"
   ]
  },
  {
   "cell_type": "markdown",
   "id": "aece92f0-3b84-4da9-a133-f3c23b9016a9",
   "metadata": {},
   "source": [
    "* Facts which **can't** aggregate across any dimension attributes are called as Non-Additive fact"
   ]
  },
  {
   "cell_type": "markdown",
   "id": "9f83c49f-f839-480d-9b30-fd0a09349b55",
   "metadata": {},
   "source": [
    "#### 5.4) Factless Facts"
   ]
  },
  {
   "cell_type": "markdown",
   "id": "b99bb2fd-b242-4585-873d-861c501fff03",
   "metadata": {},
   "source": [
    "* A fact table **devoid** of any transactional data is called as Factless Fact"
   ]
  },
  {
   "cell_type": "markdown",
   "id": "df6738d9-5c6b-46c3-9a0b-1afe4b315a6b",
   "metadata": {},
   "source": [
    "## 6) Measures"
   ]
  },
  {
   "cell_type": "markdown",
   "id": "be54804f-f53f-49c8-9f0b-285972a14133",
   "metadata": {},
   "source": [
    "* When facts are summarized or aggregated across dimension data they are called as Measures"
   ]
  },
  {
   "cell_type": "markdown",
   "id": "b11fdcbd-ba05-4fb4-98e2-1141e8080284",
   "metadata": {},
   "source": [
    "## 7) Schema"
   ]
  },
  {
   "cell_type": "markdown",
   "id": "3032c8bd-fc0c-475c-bd93-61ff31b0f8fb",
   "metadata": {},
   "source": [
    "* An arrangement of fact and dimensional table is called as schema. Schema can be categorized as <br>\n",
    "    - Star Schema\n",
    "    - Snowflake Schema\n",
    "    - Multi Star Schema"
   ]
  },
  {
   "cell_type": "markdown",
   "id": "fa9d16a8-850a-4d1c-a4a7-d4e7b22cc6ba",
   "metadata": {},
   "source": [
    "### 7.1) Star Schema"
   ]
  },
  {
   "cell_type": "markdown",
   "id": "44dd51ff-4e9f-4d6c-92a1-82346ff52008",
   "metadata": {},
   "source": [
    "* Star Schema is the simplest schema design, wherein the **fact table** is at the **center** of the schema and the dimensions are placed around it\n",
    "* The fact table contains **foreign keys**, references from dimension tables\n",
    "* Here dimension tables are in **Denormalized** form"
   ]
  },
  {
   "cell_type": "markdown",
   "id": "c1b320d2-f5b1-48d4-9682-4a05ce3c443f",
   "metadata": {},
   "source": [
    "### 7.2) Snowflake Schema"
   ]
  },
  {
   "cell_type": "markdown",
   "id": "3ea7d9be-6182-4f0b-98bd-3185a2fcd9e5",
   "metadata": {},
   "source": [
    "* Snowflake schema is a star schema with **Normalized** dimension tables\n",
    "* A dimension table contains two or more attributes (columns) that define information at **different grains**\n",
    "* Each dimension table in the normalized group recieves data from separate sources"
   ]
  },
  {
   "cell_type": "markdown",
   "id": "7f9e617b-1756-4cac-9204-17ebadea1ec4",
   "metadata": {},
   "source": [
    "## Start Schema VS Snowflake Schema"
   ]
  },
  {
   "cell_type": "markdown",
   "id": "06148cd6-9138-49a3-ba5d-c718ac4cf7dc",
   "metadata": {},
   "source": [
    "* Both Fact and Dimension tables are **denormalized** state\n",
    "* In snowflake schema, Fact table is in Denormalized state and Dimension tables are in **Normalized** state\n",
    "***\n",
    "* Star Schema is **Top Down** approach\n",
    "* Snowflake schema is **Bottom Up** approach\n",
    "***\n",
    "* Dimension tables are relatively smaller in size in start schema\n",
    "* Dimension tables are relatively bigger in size in snowflake schema\n",
    "***\n",
    "* Has a single dimension table for each dimension\n",
    "* May have more than one dimension table for each dimension"
   ]
  },
  {
   "cell_type": "code",
   "execution_count": null,
   "id": "4e931c35-b7e6-4c17-8d53-2f767776c176",
   "metadata": {},
   "outputs": [],
   "source": []
  }
 ],
 "metadata": {
  "kernelspec": {
   "display_name": "Python 3 (ipykernel)",
   "language": "python",
   "name": "python3"
  },
  "language_info": {
   "codemirror_mode": {
    "name": "ipython",
    "version": 3
   },
   "file_extension": ".py",
   "mimetype": "text/x-python",
   "name": "python",
   "nbconvert_exporter": "python",
   "pygments_lexer": "ipython3",
   "version": "3.12.1"
  }
 },
 "nbformat": 4,
 "nbformat_minor": 5
}
