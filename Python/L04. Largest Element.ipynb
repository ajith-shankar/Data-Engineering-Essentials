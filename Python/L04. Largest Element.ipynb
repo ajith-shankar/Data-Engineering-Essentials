{
 "cells": [
  {
   "cell_type": "markdown",
   "id": "1d0a505a",
   "metadata": {},
   "source": [
    "# List"
   ]
  },
  {
   "cell_type": "markdown",
   "id": "87aab60f",
   "metadata": {},
   "source": [
    "## Given a list of numbers, write a Python program to find the largest number in given list."
   ]
  },
  {
   "cell_type": "markdown",
   "id": "b6dff995",
   "metadata": {},
   "source": [
    "### Solution 1"
   ]
  },
  {
   "cell_type": "code",
   "execution_count": 2,
   "id": "65b7c91a",
   "metadata": {},
   "outputs": [],
   "source": [
    "def getMax(lst):\n",
    "    for x in lst:\n",
    "        for y in lst:\n",
    "            if y > x:\n",
    "                break\n",
    "        else:\n",
    "            return x\n",
    "    return None"
   ]
  },
  {
   "cell_type": "code",
   "execution_count": 6,
   "id": "f92daf76",
   "metadata": {},
   "outputs": [
    {
     "name": "stdout",
     "output_type": "stream",
     "text": [
      "470\n"
     ]
    }
   ],
   "source": [
    "lst = [10, 2, 3, 470, 5, 258]\n",
    "print(getMax(lst))"
   ]
  },
  {
   "cell_type": "code",
   "execution_count": 5,
   "id": "e6e02567",
   "metadata": {},
   "outputs": [],
   "source": [
    "# time complexity: O(n^2)"
   ]
  },
  {
   "cell_type": "markdown",
   "id": "f608761a",
   "metadata": {},
   "source": [
    "### Solution 2"
   ]
  },
  {
   "cell_type": "code",
   "execution_count": 7,
   "id": "482178e3",
   "metadata": {},
   "outputs": [],
   "source": [
    "def getLargest(lst):\n",
    "    if not lst:\n",
    "        return None\n",
    "    \n",
    "    res = lst[0]\n",
    "    for i in range(1, len(lst)):\n",
    "        if lst[i] > res:\n",
    "            res = lst[i]\n",
    "            \n",
    "    return res"
   ]
  },
  {
   "cell_type": "code",
   "execution_count": 8,
   "id": "348e8558",
   "metadata": {},
   "outputs": [
    {
     "name": "stdout",
     "output_type": "stream",
     "text": [
      "470\n"
     ]
    }
   ],
   "source": [
    "lst = [10, 2, 3, 470, 5, 258]\n",
    "print(getLargest(lst))"
   ]
  },
  {
   "cell_type": "code",
   "execution_count": 9,
   "id": "4e4654a4",
   "metadata": {},
   "outputs": [],
   "source": [
    "# time complexity: O(n)"
   ]
  },
  {
   "cell_type": "code",
   "execution_count": null,
   "id": "a2553e8c",
   "metadata": {},
   "outputs": [],
   "source": []
  }
 ],
 "metadata": {
  "kernelspec": {
   "display_name": "Python 3 (ipykernel)",
   "language": "python",
   "name": "python3"
  },
  "language_info": {
   "codemirror_mode": {
    "name": "ipython",
    "version": 3
   },
   "file_extension": ".py",
   "mimetype": "text/x-python",
   "name": "python",
   "nbconvert_exporter": "python",
   "pygments_lexer": "ipython3",
   "version": "3.10.12"
  }
 },
 "nbformat": 4,
 "nbformat_minor": 5
}
