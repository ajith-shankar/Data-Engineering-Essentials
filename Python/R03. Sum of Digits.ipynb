{
 "cells": [
  {
   "cell_type": "markdown",
   "id": "c23f0023",
   "metadata": {},
   "source": [
    "# Recursion"
   ]
  },
  {
   "cell_type": "markdown",
   "id": "34339a55",
   "metadata": {},
   "source": [
    "### Given a number, we need to find sum of its digits using recursion."
   ]
  },
  {
   "cell_type": "code",
   "execution_count": 2,
   "id": "5cf0068f",
   "metadata": {},
   "outputs": [],
   "source": [
    "def sum_of_digits(n):\n",
    "    if n == 0:\n",
    "        return 0\n",
    "    return sum_of_digits(n//10) + n%10"
   ]
  },
  {
   "cell_type": "code",
   "execution_count": 3,
   "id": "44e76640",
   "metadata": {},
   "outputs": [
    {
     "data": {
      "text/plain": [
       "21"
      ]
     },
     "execution_count": 3,
     "metadata": {},
     "output_type": "execute_result"
    }
   ],
   "source": [
    "n = 2955\n",
    "sum_of_digits(n)"
   ]
  },
  {
   "cell_type": "code",
   "execution_count": null,
   "id": "8bce315d",
   "metadata": {},
   "outputs": [],
   "source": []
  }
 ],
 "metadata": {
  "kernelspec": {
   "display_name": "venv",
   "language": "python",
   "name": "python3"
  },
  "language_info": {
   "codemirror_mode": {
    "name": "ipython",
    "version": 3
   },
   "file_extension": ".py",
   "mimetype": "text/x-python",
   "name": "python",
   "nbconvert_exporter": "python",
   "pygments_lexer": "ipython3",
   "version": "3.13.0"
  }
 },
 "nbformat": 4,
 "nbformat_minor": 5
}
