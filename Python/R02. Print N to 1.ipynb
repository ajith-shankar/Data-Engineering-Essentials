{
 "cells": [
  {
   "cell_type": "markdown",
   "id": "411a6598",
   "metadata": {},
   "source": [
    "# Recursion "
   ]
  },
  {
   "cell_type": "markdown",
   "id": "47d276d2",
   "metadata": {},
   "source": [
    "### Given a number N, the task is to print the numbers from N to 1."
   ]
  },
  {
   "cell_type": "code",
   "execution_count": 3,
   "id": "37b0573c",
   "metadata": {},
   "outputs": [],
   "source": [
    "def printNto1(n):\n",
    "    if n <= 0:\n",
    "        return\n",
    "    print(n)\n",
    "    printNto1(n-1)  # rec call"
   ]
  },
  {
   "cell_type": "code",
   "execution_count": 4,
   "id": "fe517e16",
   "metadata": {},
   "outputs": [
    {
     "name": "stdout",
     "output_type": "stream",
     "text": [
      "3\n",
      "2\n",
      "1\n"
     ]
    }
   ],
   "source": [
    "n = 3\n",
    "printNto1(n)"
   ]
  },
  {
   "cell_type": "code",
   "execution_count": null,
   "id": "a3d21eb7",
   "metadata": {},
   "outputs": [],
   "source": []
  }
 ],
 "metadata": {
  "kernelspec": {
   "display_name": "Python 3 (ipykernel)",
   "language": "python",
   "name": "python3"
  },
  "language_info": {
   "codemirror_mode": {
    "name": "ipython",
    "version": 3
   },
   "file_extension": ".py",
   "mimetype": "text/x-python",
   "name": "python",
   "nbconvert_exporter": "python",
   "pygments_lexer": "ipython3",
   "version": "3.10.12"
  }
 },
 "nbformat": 4,
 "nbformat_minor": 5
}
