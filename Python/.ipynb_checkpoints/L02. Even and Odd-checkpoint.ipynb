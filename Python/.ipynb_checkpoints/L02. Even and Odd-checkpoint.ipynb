{
 "cells": [
  {
   "cell_type": "markdown",
   "id": "d096896e",
   "metadata": {},
   "source": [
    "# List"
   ]
  },
  {
   "cell_type": "markdown",
   "id": "1eb153ba",
   "metadata": {},
   "source": [
    "## Return two list as Even and Odd"
   ]
  },
  {
   "cell_type": "code",
   "execution_count": 1,
   "id": "ec91a9ce",
   "metadata": {},
   "outputs": [],
   "source": [
    "def getEvenOdd(lst):\n",
    "    even = []\n",
    "    odd = []\n",
    "    for x in lst:\n",
    "        if x % 2 == 0:\n",
    "            even.append(x)\n",
    "        else:\n",
    "            odd.append(x)\n",
    "            \n",
    "    return even, odd # returns tuples"
   ]
  },
  {
   "cell_type": "code",
   "execution_count": 2,
   "id": "d41d3171",
   "metadata": {},
   "outputs": [
    {
     "name": "stdout",
     "output_type": "stream",
     "text": [
      "([10, 20, 32, 40], [13, 25])\n"
     ]
    }
   ],
   "source": [
    "lst = [10, 13, 20, 25, 32, 40]\n",
    "print(getEvenOdd(lst))  # tuples"
   ]
  },
  {
   "cell_type": "code",
   "execution_count": 3,
   "id": "d9d862dc",
   "metadata": {},
   "outputs": [
    {
     "name": "stdout",
     "output_type": "stream",
     "text": [
      "[10, 20, 32, 40]\n",
      "[13, 25]\n"
     ]
    }
   ],
   "source": [
    "even, odd = getEvenOdd(lst)  # unpack tuples, it will become list\n",
    "print(even)\n",
    "print(odd)"
   ]
  },
  {
   "cell_type": "code",
   "execution_count": null,
   "id": "e6f9c22c",
   "metadata": {},
   "outputs": [],
   "source": []
  }
 ],
 "metadata": {
  "kernelspec": {
   "display_name": "Python 3 (ipykernel)",
   "language": "python",
   "name": "python3"
  },
  "language_info": {
   "codemirror_mode": {
    "name": "ipython",
    "version": 3
   },
   "file_extension": ".py",
   "mimetype": "text/x-python",
   "name": "python",
   "nbconvert_exporter": "python",
   "pygments_lexer": "ipython3",
   "version": "3.10.12"
  }
 },
 "nbformat": 4,
 "nbformat_minor": 5
}
