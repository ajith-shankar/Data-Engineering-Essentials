{
 "cells": [
  {
   "cell_type": "markdown",
   "id": "d096896e",
   "metadata": {},
   "source": [
    "# List"
   ]
  },
  {
   "cell_type": "markdown",
   "id": "1eb153ba",
   "metadata": {},
   "source": [
    "## Return two list as Even and Odd"
   ]
  },
  {
   "cell_type": "markdown",
   "id": "eb43f34f",
   "metadata": {},
   "source": [
    "### Solution 1 "
   ]
  },
  {
   "cell_type": "code",
   "execution_count": 1,
   "id": "ec91a9ce",
   "metadata": {},
   "outputs": [],
   "source": [
    "def getEvenOdd(lst):\n",
    "    even = []\n",
    "    odd = []\n",
    "    for x in lst:\n",
    "        if x % 2 == 0:\n",
    "            even.append(x)\n",
    "        else:\n",
    "            odd.append(x)\n",
    "            \n",
    "    return even, odd # returns tuples"
   ]
  },
  {
   "cell_type": "code",
   "execution_count": 2,
   "id": "d41d3171",
   "metadata": {},
   "outputs": [
    {
     "name": "stdout",
     "output_type": "stream",
     "text": [
      "([10, 20, 32, 40], [13, 25])\n"
     ]
    }
   ],
   "source": [
    "lst = [10, 13, 20, 25, 32, 40]\n",
    "print(getEvenOdd(lst))  # tuples"
   ]
  },
  {
   "cell_type": "code",
   "execution_count": 3,
   "id": "d9d862dc",
   "metadata": {},
   "outputs": [
    {
     "name": "stdout",
     "output_type": "stream",
     "text": [
      "[10, 20, 32, 40]\n",
      "[13, 25]\n"
     ]
    }
   ],
   "source": [
    "even, odd = getEvenOdd(lst)  # unpack tuples, it will become list\n",
    "print(even)\n",
    "print(odd)"
   ]
  },
  {
   "cell_type": "markdown",
   "id": "8b71e4b6",
   "metadata": {},
   "source": [
    "### Solution 2"
   ]
  },
  {
   "cell_type": "code",
   "execution_count": 5,
   "id": "b7f355f5",
   "metadata": {},
   "outputs": [],
   "source": [
    "def evenOdd(lst):\n",
    "    even = [ele for ele in lst if ele % 2 == 0]\n",
    "    odd = [ele for ele in lst if ele % 2 != 0]\n",
    "    \n",
    "    return even, odd"
   ]
  },
  {
   "cell_type": "code",
   "execution_count": 6,
   "id": "eefbfed9",
   "metadata": {},
   "outputs": [
    {
     "name": "stdout",
     "output_type": "stream",
     "text": [
      "([10, 20, 32, 40], [13, 25])\n"
     ]
    }
   ],
   "source": [
    "lst = [10, 13, 20, 25, 32, 40]\n",
    "print(evenOdd(lst))  # tuples"
   ]
  },
  {
   "cell_type": "code",
   "execution_count": 7,
   "id": "3ac21081",
   "metadata": {},
   "outputs": [
    {
     "name": "stdout",
     "output_type": "stream",
     "text": [
      "[10, 20, 32, 40]\n",
      "[13, 25]\n"
     ]
    }
   ],
   "source": [
    "even, odd = evenOdd(lst)\n",
    "print(even)\n",
    "print(odd)"
   ]
  },
  {
   "cell_type": "code",
   "execution_count": null,
   "id": "5d581be3",
   "metadata": {},
   "outputs": [],
   "source": []
  }
 ],
 "metadata": {
  "kernelspec": {
   "display_name": "Python 3 (ipykernel)",
   "language": "python",
   "name": "python3"
  },
  "language_info": {
   "codemirror_mode": {
    "name": "ipython",
    "version": 3
   },
   "file_extension": ".py",
   "mimetype": "text/x-python",
   "name": "python",
   "nbconvert_exporter": "python",
   "pygments_lexer": "ipython3",
   "version": "3.10.12"
  }
 },
 "nbformat": 4,
 "nbformat_minor": 5
}
