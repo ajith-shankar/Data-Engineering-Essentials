{
 "cells": [
  {
   "cell_type": "markdown",
   "id": "6dede9b1",
   "metadata": {},
   "source": [
    "# Recursion"
   ]
  },
  {
   "cell_type": "markdown",
   "id": "fdd0be34",
   "metadata": {},
   "source": [
    "### Given a number N, the task is to print the numbers from 1 to N."
   ]
  },
  {
   "cell_type": "code",
   "execution_count": 3,
   "id": "3bee3f41",
   "metadata": {},
   "outputs": [],
   "source": [
    "def print1toN(n):\n",
    "    if n <= 0:\n",
    "        return\n",
    "    print1toN(n-1)\n",
    "    print(n)"
   ]
  },
  {
   "cell_type": "code",
   "execution_count": 5,
   "id": "7a8562ca",
   "metadata": {},
   "outputs": [
    {
     "name": "stdout",
     "output_type": "stream",
     "text": [
      "1\n",
      "2\n",
      "3\n",
      "4\n",
      "5\n"
     ]
    }
   ],
   "source": [
    "n = 5\n",
    "print1toN(n)"
   ]
  },
  {
   "cell_type": "code",
   "execution_count": null,
   "id": "44c2b120",
   "metadata": {},
   "outputs": [],
   "source": []
  }
 ],
 "metadata": {
  "kernelspec": {
   "display_name": "Python 3 (ipykernel)",
   "language": "python",
   "name": "python3"
  },
  "language_info": {
   "codemirror_mode": {
    "name": "ipython",
    "version": 3
   },
   "file_extension": ".py",
   "mimetype": "text/x-python",
   "name": "python",
   "nbconvert_exporter": "python",
   "pygments_lexer": "ipython3",
   "version": "3.10.12"
  }
 },
 "nbformat": 4,
 "nbformat_minor": 5
}
