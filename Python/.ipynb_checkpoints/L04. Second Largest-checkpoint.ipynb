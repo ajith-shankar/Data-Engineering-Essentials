{
 "cells": [
  {
   "cell_type": "markdown",
   "id": "0452ac89",
   "metadata": {},
   "source": [
    "# List "
   ]
  },
  {
   "cell_type": "markdown",
   "id": "d471e72c",
   "metadata": {},
   "source": [
    "## Write a program to find the second largest element in the list "
   ]
  },
  {
   "cell_type": "code",
   "execution_count": 2,
   "id": "e7f30017",
   "metadata": {},
   "outputs": [],
   "source": [
    "def getSecondMax(lst):\n",
    "    if len(lst) <= 1:\n",
    "        return None\n",
    "    \n",
    "    largest = getMax(lst)\n",
    "    sec_large = None\n",
    "    for x in lst:\n",
    "        if x != largest:\n",
    "            if sec_large == None:\n",
    "                sec_large = x\n",
    "            else:\n",
    "                sec_large = max(sec_large, x)\n",
    "    return sec_large\n",
    "\n",
    "\n",
    "def getMax(lst):\n",
    "    res = lst[0]\n",
    "    for i in range(1, len(lst)):\n",
    "        res = max(res, lst[i])\n",
    "        \n",
    "    return res"
   ]
  },
  {
   "cell_type": "code",
   "execution_count": 3,
   "id": "6318d4e9",
   "metadata": {},
   "outputs": [
    {
     "name": "stdout",
     "output_type": "stream",
     "text": [
      "34\n"
     ]
    }
   ],
   "source": [
    "lst = [12, 35, 1, 10, 34, 1]\n",
    "print(getSecondMax(lst))"
   ]
  },
  {
   "cell_type": "markdown",
   "id": "a8ae1d7d",
   "metadata": {},
   "source": [
    "### Solution 2 "
   ]
  },
  {
   "cell_type": "code",
   "execution_count": 8,
   "id": "b981f040",
   "metadata": {},
   "outputs": [],
   "source": [
    "def sec_large(lst):\n",
    "    if len(lst) <= 1:\n",
    "        return None\n",
    "    \n",
    "    large = lst[0]\n",
    "    secLarge = None\n",
    "    \n",
    "    for x in lst[1:]:\n",
    "        if x > large:\n",
    "            secLarge = large\n",
    "            large = x\n",
    "        elif x != large:\n",
    "            if secLarge == None or secLarge < x:\n",
    "                secLarge = x\n",
    "                \n",
    "    return secLarge"
   ]
  },
  {
   "cell_type": "code",
   "execution_count": 9,
   "id": "ea37ac2b",
   "metadata": {},
   "outputs": [
    {
     "name": "stdout",
     "output_type": "stream",
     "text": [
      "34\n"
     ]
    }
   ],
   "source": [
    "lst = [12, 35, 1, 10, 34, 1]\n",
    "print(sec_large(lst))"
   ]
  },
  {
   "cell_type": "code",
   "execution_count": null,
   "id": "821cc07c",
   "metadata": {},
   "outputs": [],
   "source": []
  }
 ],
 "metadata": {
  "kernelspec": {
   "display_name": "Python 3 (ipykernel)",
   "language": "python",
   "name": "python3"
  },
  "language_info": {
   "codemirror_mode": {
    "name": "ipython",
    "version": 3
   },
   "file_extension": ".py",
   "mimetype": "text/x-python",
   "name": "python",
   "nbconvert_exporter": "python",
   "pygments_lexer": "ipython3",
   "version": "3.10.12"
  }
 },
 "nbformat": 4,
 "nbformat_minor": 5
}
