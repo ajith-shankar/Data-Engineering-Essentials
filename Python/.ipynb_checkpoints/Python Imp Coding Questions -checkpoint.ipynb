{
 "cells": [
  {
   "cell_type": "markdown",
   "id": "435d2708",
   "metadata": {},
   "source": [
    "# <font color=Blue>Python Important Coding Questions</font>"
   ]
  },
  {
   "cell_type": "markdown",
   "id": "47c3ac84",
   "metadata": {},
   "source": [
    "## 1) String Compression  "
   ]
  },
  {
   "cell_type": "code",
   "execution_count": 1,
   "id": "69049ebe",
   "metadata": {},
   "outputs": [],
   "source": [
    "# input = 'sszgggg'\n",
    "# output = 's2z1g4'"
   ]
  },
  {
   "cell_type": "code",
   "execution_count": 4,
   "id": "81654840",
   "metadata": {},
   "outputs": [
    {
     "name": "stdout",
     "output_type": "stream",
     "text": [
      "s2z1g4\n"
     ]
    }
   ],
   "source": [
    "def compress(s):\n",
    "    n = len(s)\n",
    "    new_s = \"\"\n",
    "    count = 1\n",
    "    for i in range(n-1):\n",
    "        if s[i] == s[i+1]:\n",
    "            count = count + 1\n",
    "        else:\n",
    "            new_s = new_s + s[i] + str(count)\n",
    "            count = 1\n",
    "    new_s = new_s + s[n-1] + str(count)\n",
    "    return new_s\n",
    "\n",
    "input = 'sszgggg'\n",
    "print(compress(input))\n",
    "        "
   ]
  },
  {
   "cell_type": "markdown",
   "id": "1c2fca7b",
   "metadata": {},
   "source": [
    "## 2) FizzBuzz"
   ]
  },
  {
   "cell_type": "code",
   "execution_count": 5,
   "id": "f19897b7",
   "metadata": {},
   "outputs": [],
   "source": [
    "# if 3 then print Fizz\n",
    "# if 5 then print Buzz\n",
    "# if 15 then print FizzBuzz "
   ]
  },
  {
   "cell_type": "code",
   "execution_count": 10,
   "id": "e010d720",
   "metadata": {},
   "outputs": [
    {
     "name": "stdout",
     "output_type": "stream",
     "text": [
      "1\n",
      "2\n",
      "Fizz\n",
      "4\n",
      "Buzz\n",
      "Fizz\n",
      "7\n",
      "8\n",
      "Fizz\n",
      "Buzz\n",
      "11\n",
      "Fizz\n",
      "13\n",
      "14\n",
      "FizzBuzz\n",
      "16\n",
      "17\n",
      "Fizz\n",
      "19\n",
      "Buzz\n"
     ]
    }
   ],
   "source": [
    "def fizzBuzz(n):\n",
    "    for i in range(1, n+1):\n",
    "        if i%3 == 0 and i%5 == 0:\n",
    "            print(\"FizzBuzz\")\n",
    "        elif i%3 == 0:\n",
    "            print(\"Fizz\")\n",
    "        elif i%5 == 0:\n",
    "            print(\"Buzz\")\n",
    "        else:\n",
    "            print(i)\n",
    "            \n",
    "fizzBuzz(20)"
   ]
  },
  {
   "cell_type": "code",
   "execution_count": 11,
   "id": "98ef1fec",
   "metadata": {},
   "outputs": [
    {
     "name": "stdout",
     "output_type": "stream",
     "text": [
      "Fizz\n",
      "4\n",
      "Buzz\n",
      "Fizz\n",
      "7\n",
      "8\n",
      "Fizz\n",
      "Buzz\n",
      "11\n",
      "Fizz\n",
      "13\n",
      "14\n",
      "FizzBuzz\n",
      "16\n",
      "17\n",
      "Fizz\n",
      "19\n"
     ]
    }
   ],
   "source": [
    "def fizzBuzz(start, end):\n",
    "    for i in range(start, end):\n",
    "        if i%3 == 0 and i%5 == 0:\n",
    "            print(\"FizzBuzz\")\n",
    "        elif i%3 == 0:\n",
    "            print(\"Fizz\")\n",
    "        elif i%5 == 0:\n",
    "            print(\"Buzz\")\n",
    "        else:\n",
    "            print(i)\n",
    "            \n",
    "fizzBuzz(3, 20)"
   ]
  },
  {
   "cell_type": "code",
   "execution_count": 13,
   "id": "d8a5ccd2",
   "metadata": {},
   "outputs": [
    {
     "name": "stdout",
     "output_type": "stream",
     "text": [
      "1\n",
      "2\n",
      "fizz\n",
      "4\n",
      "buzz\n",
      "fizz\n",
      "7\n",
      "8\n",
      "fizz\n",
      "buzz\n",
      "11\n",
      "fizz\n",
      "13\n",
      "14\n",
      "fizzbuzz\n",
      "16\n",
      "17\n",
      "fizz\n",
      "19\n",
      "buzz\n"
     ]
    }
   ],
   "source": [
    "# using dictionary\n",
    "\n",
    "def fizzBuzz_dict(n):\n",
    "    \n",
    "    h = {3:'fizz', 5:'buzz'}\n",
    "    for i in range(1, n+1):\n",
    "        result = ''\n",
    "        for k, v in h.items():\n",
    "            if i%k == 0:\n",
    "                result = result + v\n",
    "        if not result:\n",
    "            result = i\n",
    "        print(result)\n",
    "        \n",
    "fizzBuzz_dict(20)"
   ]
  },
  {
   "cell_type": "markdown",
   "id": "81b06dab-a137-433a-a150-f02b50a401d5",
   "metadata": {},
   "source": [
    "## 3) Fibonacci"
   ]
  },
  {
   "cell_type": "code",
   "execution_count": 19,
   "id": "bc887a7d-4e66-41c2-94b0-eeb17ff260f9",
   "metadata": {},
   "outputs": [
    {
     "name": "stdout",
     "output_type": "stream",
     "text": [
      "Fibonocci series of 10 is: 0 1 1 2 3 5 8 13 21 34 "
     ]
    }
   ],
   "source": [
    "# Using for loop\n",
    "\n",
    "def fib(n):\n",
    "    if n < 0:\n",
    "        print(\"Enter valid number\")\n",
    "    else:\n",
    "        a = 0\n",
    "        b = 1\n",
    "        print(f\"Fibonocci series of {n} is: {a} {b}\", end = \" \")\n",
    "        for i in range(2, n):\n",
    "            c = a+b\n",
    "            a = b\n",
    "            b = c\n",
    "            print(c, end=\" \")\n",
    "\n",
    "fib(10)"
   ]
  },
  {
   "cell_type": "code",
   "execution_count": 20,
   "id": "f7eeacdd-9149-4c26-83c6-edbec215aa0d",
   "metadata": {},
   "outputs": [
    {
     "name": "stdout",
     "output_type": "stream",
     "text": [
      "8\n"
     ]
    }
   ],
   "source": [
    "def fib1(n):\n",
    "    if n <= 1:\n",
    "        return n\n",
    "    else:\n",
    "        return (fib1(n-1)+fib1(n-2))\n",
    "\n",
    "num = fib1(6)\n",
    "print(num)"
   ]
  },
  {
   "cell_type": "code",
   "execution_count": 28,
   "id": "8b2991f7-42b4-47ea-8912-8f8e68d796c9",
   "metadata": {},
   "outputs": [
    {
     "name": "stdout",
     "output_type": "stream",
     "text": [
      "8\n"
     ]
    }
   ],
   "source": [
    "# Using dict\n",
    "\n",
    "def fib2(n):\n",
    "    mem = {}\n",
    "    if n <= 0:\n",
    "        return 0\n",
    "    elif n == 1:\n",
    "        return 1\n",
    "    elif n in mem:\n",
    "        return mem[n]\n",
    "    else:\n",
    "        mem[n] = (fib2(n-1) + fib2(n-2))\n",
    "        return mem[n]\n",
    "\n",
    "ans = fib2(6)\n",
    "print(ans)"
   ]
  },
  {
   "cell_type": "code",
   "execution_count": 31,
   "id": "97c4d781-a0c1-46ae-9fa8-1dd22850e819",
   "metadata": {},
   "outputs": [
    {
     "name": "stdout",
     "output_type": "stream",
     "text": [
      "0\n",
      "1\n",
      "1\n",
      "2\n"
     ]
    }
   ],
   "source": [
    "# Using Generator, infinite fibonacci\n",
    "\n",
    "def fib3():\n",
    "    a, b = 0, 1\n",
    "    while True:\n",
    "        yield a\n",
    "        a,b = b, a+b\n",
    "\n",
    "f1 = fib3()\n",
    "print(next(f1))\n",
    "print(next(f1))\n",
    "print(next(f1))\n",
    "print(next(f1))"
   ]
  },
  {
   "cell_type": "markdown",
   "id": "8dcbf1a5-32af-4fb8-990e-68556a39fe60",
   "metadata": {},
   "source": [
    "## 4) Sort a List without using Sort keyword"
   ]
  },
  {
   "cell_type": "code",
   "execution_count": 34,
   "id": "4456d8a9-891b-43f9-8ba4-d51dc6b0a484",
   "metadata": {},
   "outputs": [
    {
     "name": "stdout",
     "output_type": "stream",
     "text": [
      "[1, 2, 6, 8, 10, 12, 19, 35, 41]\n"
     ]
    }
   ],
   "source": [
    "# ascending order\n",
    "# using for loop\n",
    "\n",
    "def sort_list(lst):\n",
    "    n = len(lst)\n",
    "    for i in range(n):\n",
    "        for j in range(i+1, n):\n",
    "            if lst[i] > lst[j]:\n",
    "                lst[i], lst[j] = lst[j], lst[i]\n",
    "    return lst\n",
    "\n",
    "lst = [41, 2, 12, 6, 35, 8, 10, 1, 19]\n",
    "ans = sort_list(lst)\n",
    "print(ans)"
   ]
  },
  {
   "cell_type": "code",
   "execution_count": 35,
   "id": "2e600e7f-ccab-4e81-bf9a-f2f812bd5158",
   "metadata": {},
   "outputs": [
    {
     "name": "stdout",
     "output_type": "stream",
     "text": [
      "[1, 2, 3, 6, 8, 10, 12, 19, 35, 41, 50]\n"
     ]
    }
   ],
   "source": [
    "# ascending order\n",
    "# using third variable\n",
    "\n",
    "def sort_list1(lst):\n",
    "    for i in range(len(lst)):\n",
    "        for j in range(i+1, len(lst)):\n",
    "            if lst[i] > lst[j]:\n",
    "                temp = lst[i]\n",
    "                lst[i] = lst[j]\n",
    "                lst[j] = temp\n",
    "    return lst\n",
    "\n",
    "lst = [50, 3, 41, 2, 12, 6, 35, 8, 10, 1, 19]\n",
    "print(sort_list1(lst))"
   ]
  },
  {
   "cell_type": "code",
   "execution_count": 36,
   "id": "97e7372f-df4e-4ef2-8d86-8abc2f2c7c74",
   "metadata": {},
   "outputs": [
    {
     "name": "stdout",
     "output_type": "stream",
     "text": [
      "[50, 41, 35, 19, 12, 10, 8, 6, 3, 2, 1]\n"
     ]
    }
   ],
   "source": [
    "# descending order\n",
    "# using for loop\n",
    "\n",
    "def sort_desc(lst):\n",
    "    n = len(lst)\n",
    "    for i in range(n):\n",
    "        for j in range(i+1, n):\n",
    "            if lst[i] < lst[j]:\n",
    "                lst[i], lst[j] = lst[j], lst[i]\n",
    "    return lst\n",
    "\n",
    "lst = [50, 3, 41, 2, 12, 6, 35, 8, 10, 1, 19]\n",
    "print(sort_desc(lst))"
   ]
  },
  {
   "cell_type": "markdown",
   "id": "68452e7f-a2a3-4eb0-985e-2e6eca43f352",
   "metadata": {},
   "source": [
    "## 5) String Palindrome"
   ]
  },
  {
   "cell_type": "code",
   "execution_count": 41,
   "id": "0c372036-f0a2-43a8-b766-d5657b5a882d",
   "metadata": {},
   "outputs": [
    {
     "name": "stdout",
     "output_type": "stream",
     "text": [
      "Yes, Palindrome\n"
     ]
    }
   ],
   "source": [
    "# Using string slicing\n",
    "\n",
    "def palindrome1(s):\n",
    "    if s == s[::-1]:\n",
    "        print(\"Yes, Palindrome\")\n",
    "    else:\n",
    "        print(\"No\")\n",
    "\n",
    "s = 'nitin'\n",
    "palindrome1(s)"
   ]
  },
  {
   "cell_type": "code",
   "execution_count": 44,
   "id": "2c840fbb-9fe8-45ad-b16c-f331c44a7c49",
   "metadata": {},
   "outputs": [
    {
     "name": "stdout",
     "output_type": "stream",
     "text": [
      "Yes\n"
     ]
    }
   ],
   "source": [
    "# Using while loop\n",
    "\n",
    "def palindrome2(s):\n",
    "    low = 0\n",
    "    high = len(s)-1\n",
    "    while low < high:\n",
    "        if s[low] != s[high]:\n",
    "            print(\"No\")\n",
    "            break\n",
    "        low = low + 1\n",
    "        high = high - 1\n",
    "    else:\n",
    "        print(\"Yes\")\n",
    "\n",
    "s = 'nitin'\n",
    "palindrome2(s)"
   ]
  },
  {
   "cell_type": "code",
   "execution_count": null,
   "id": "91b45df0-6ce5-42ba-b264-d96b36e70f5c",
   "metadata": {},
   "outputs": [],
   "source": []
  }
 ],
 "metadata": {
  "kernelspec": {
   "display_name": "Python 3 (ipykernel)",
   "language": "python",
   "name": "python3"
  },
  "language_info": {
   "codemirror_mode": {
    "name": "ipython",
    "version": 3
   },
   "file_extension": ".py",
   "mimetype": "text/x-python",
   "name": "python",
   "nbconvert_exporter": "python",
   "pygments_lexer": "ipython3",
   "version": "3.12.1"
  }
 },
 "nbformat": 4,
 "nbformat_minor": 5
}
