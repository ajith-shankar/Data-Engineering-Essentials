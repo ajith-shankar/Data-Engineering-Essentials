{
 "cells": [
  {
   "cell_type": "markdown",
   "id": "88b4e86e",
   "metadata": {},
   "source": [
    "# <font color=Blue>Python Important Coding Questions</font>"
   ]
  },
  {
   "cell_type": "markdown",
   "id": "86686389",
   "metadata": {},
   "source": [
    "## 1) String Compression  "
   ]
  },
  {
   "cell_type": "code",
   "execution_count": 1,
   "id": "d9c60930",
   "metadata": {},
   "outputs": [],
   "source": [
    "# input = 'sszgggg'\n",
    "# output = 's2z1g4'"
   ]
  },
  {
   "cell_type": "code",
   "execution_count": 4,
   "id": "7394f191",
   "metadata": {},
   "outputs": [
    {
     "name": "stdout",
     "output_type": "stream",
     "text": [
      "s2z1g4\n"
     ]
    }
   ],
   "source": [
    "def compress(s):\n",
    "    n = len(s)\n",
    "    new_s = \"\"\n",
    "    count = 1\n",
    "    for i in range(n-1):\n",
    "        if s[i] == s[i+1]:\n",
    "            count = count + 1\n",
    "        else:\n",
    "            new_s = new_s + s[i] + str(count)\n",
    "            count = 1\n",
    "    new_s = new_s + s[n-1] + str(count)\n",
    "    return new_s\n",
    "\n",
    "input = 'sszgggg'\n",
    "print(compress(input))\n",
    "        "
   ]
  },
  {
   "cell_type": "markdown",
   "id": "26efcfe3",
   "metadata": {},
   "source": [
    "## 2) FizzBuzz"
   ]
  },
  {
   "cell_type": "code",
   "execution_count": 5,
   "id": "b6a56aa2",
   "metadata": {},
   "outputs": [],
   "source": [
    "# if 3 then print Fizz\n",
    "# if 5 then print Buzz\n",
    "# if 15 then print FizzBuzz "
   ]
  },
  {
   "cell_type": "code",
   "execution_count": 10,
   "id": "15fe4824",
   "metadata": {},
   "outputs": [
    {
     "name": "stdout",
     "output_type": "stream",
     "text": [
      "1\n",
      "2\n",
      "Fizz\n",
      "4\n",
      "Buzz\n",
      "Fizz\n",
      "7\n",
      "8\n",
      "Fizz\n",
      "Buzz\n",
      "11\n",
      "Fizz\n",
      "13\n",
      "14\n",
      "FizzBuzz\n",
      "16\n",
      "17\n",
      "Fizz\n",
      "19\n",
      "Buzz\n"
     ]
    }
   ],
   "source": [
    "def fizzBuzz(n):\n",
    "    for i in range(1, n+1):\n",
    "        if i%3 == 0 and i%5 == 0:\n",
    "            print(\"FizzBuzz\")\n",
    "        elif i%3 == 0:\n",
    "            print(\"Fizz\")\n",
    "        elif i%5 == 0:\n",
    "            print(\"Buzz\")\n",
    "        else:\n",
    "            print(i)\n",
    "            \n",
    "fizzBuzz(20)"
   ]
  },
  {
   "cell_type": "code",
   "execution_count": 11,
   "id": "de4d4579",
   "metadata": {},
   "outputs": [
    {
     "name": "stdout",
     "output_type": "stream",
     "text": [
      "Fizz\n",
      "4\n",
      "Buzz\n",
      "Fizz\n",
      "7\n",
      "8\n",
      "Fizz\n",
      "Buzz\n",
      "11\n",
      "Fizz\n",
      "13\n",
      "14\n",
      "FizzBuzz\n",
      "16\n",
      "17\n",
      "Fizz\n",
      "19\n"
     ]
    }
   ],
   "source": [
    "def fizzBuzz(start, end):\n",
    "    for i in range(start, end):\n",
    "        if i%3 == 0 and i%5 == 0:\n",
    "            print(\"FizzBuzz\")\n",
    "        elif i%3 == 0:\n",
    "            print(\"Fizz\")\n",
    "        elif i%5 == 0:\n",
    "            print(\"Buzz\")\n",
    "        else:\n",
    "            print(i)\n",
    "            \n",
    "fizzBuzz(3, 20)"
   ]
  },
  {
   "cell_type": "code",
   "execution_count": 13,
   "id": "c4900204",
   "metadata": {},
   "outputs": [
    {
     "name": "stdout",
     "output_type": "stream",
     "text": [
      "1\n",
      "2\n",
      "fizz\n",
      "4\n",
      "buzz\n",
      "fizz\n",
      "7\n",
      "8\n",
      "fizz\n",
      "buzz\n",
      "11\n",
      "fizz\n",
      "13\n",
      "14\n",
      "fizzbuzz\n",
      "16\n",
      "17\n",
      "fizz\n",
      "19\n",
      "buzz\n"
     ]
    }
   ],
   "source": [
    "# using dictionary\n",
    "\n",
    "def fizzBuzz_dict(n):\n",
    "    \n",
    "    h = {3:'fizz', 5:'buzz'}\n",
    "    for i in range(1, n+1):\n",
    "        result = ''\n",
    "        for k, v in h.items():\n",
    "            if i%k == 0:\n",
    "                result = result + v\n",
    "        if not result:\n",
    "            result = i\n",
    "        print(result)\n",
    "        \n",
    "fizzBuzz_dict(20)"
   ]
  },
  {
   "cell_type": "code",
   "execution_count": null,
   "id": "7cf70e2a",
   "metadata": {},
   "outputs": [],
   "source": []
  }
 ],
 "metadata": {
  "kernelspec": {
   "display_name": "Python 3 (ipykernel)",
   "language": "python",
   "name": "python3"
  },
  "language_info": {
   "codemirror_mode": {
    "name": "ipython",
    "version": 3
   },
   "file_extension": ".py",
   "mimetype": "text/x-python",
   "name": "python",
   "nbconvert_exporter": "python",
   "pygments_lexer": "ipython3",
   "version": "3.10.12"
  }
 },
 "nbformat": 4,
 "nbformat_minor": 5
}
