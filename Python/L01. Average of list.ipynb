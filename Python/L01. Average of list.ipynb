{
 "cells": [
  {
   "cell_type": "markdown",
   "id": "b92071b4",
   "metadata": {},
   "source": [
    "# List "
   ]
  },
  {
   "cell_type": "markdown",
   "id": "4f8e1513",
   "metadata": {},
   "source": [
    "## Average or Mean of the list"
   ]
  },
  {
   "cell_type": "markdown",
   "id": "85fbd0b2",
   "metadata": {},
   "source": [
    "### Solution 1"
   ]
  },
  {
   "cell_type": "code",
   "execution_count": 2,
   "id": "da12c386",
   "metadata": {},
   "outputs": [],
   "source": [
    "def average(lst):\n",
    "    sum = 0\n",
    "    for x in lst:\n",
    "        sum = sum + x\n",
    "        \n",
    "    n = len(lst)\n",
    "    \n",
    "    return sum/n"
   ]
  },
  {
   "cell_type": "code",
   "execution_count": 3,
   "id": "9cff6310",
   "metadata": {},
   "outputs": [
    {
     "name": "stdout",
     "output_type": "stream",
     "text": [
      "4.0\n"
     ]
    }
   ],
   "source": [
    "lst = [2, 4, 3, 7]\n",
    "print(average(lst))"
   ]
  },
  {
   "cell_type": "markdown",
   "id": "ebca2506",
   "metadata": {},
   "source": [
    "### Solution 2"
   ]
  },
  {
   "cell_type": "code",
   "execution_count": 5,
   "id": "5b82c1d6",
   "metadata": {},
   "outputs": [],
   "source": [
    "def mean(lst):\n",
    "    return sum(lst)/len(lst)"
   ]
  },
  {
   "cell_type": "code",
   "execution_count": 6,
   "id": "2465f91d",
   "metadata": {},
   "outputs": [
    {
     "name": "stdout",
     "output_type": "stream",
     "text": [
      "4.0\n"
     ]
    }
   ],
   "source": [
    "lst = [2, 4, 3, 7]\n",
    "print(average(lst))"
   ]
  },
  {
   "cell_type": "code",
   "execution_count": null,
   "id": "e655d6d1",
   "metadata": {},
   "outputs": [],
   "source": []
  }
 ],
 "metadata": {
  "kernelspec": {
   "display_name": "Python 3",
   "language": "python",
   "name": "python3"
  },
  "language_info": {
   "codemirror_mode": {
    "name": "ipython",
    "version": 3
   },
   "file_extension": ".py",
   "mimetype": "text/x-python",
   "name": "python",
   "nbconvert_exporter": "python",
   "pygments_lexer": "ipython3",
   "version": "3.13.0"
  }
 },
 "nbformat": 4,
 "nbformat_minor": 5
}
