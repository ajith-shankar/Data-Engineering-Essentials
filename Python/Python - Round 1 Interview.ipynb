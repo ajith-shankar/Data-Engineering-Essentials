{
 "cells": [
  {
   "cell_type": "markdown",
   "id": "440633aa",
   "metadata": {},
   "source": [
    "# <font color=Blue>Potential Round 1 Python Interview Questions</font>"
   ]
  },
  {
   "cell_type": "markdown",
   "id": "9fb2ac2d",
   "metadata": {},
   "source": [
    "## 1) Difference between List and Tuple"
   ]
  },
  {
   "cell_type": "code",
   "execution_count": null,
   "id": "477331a5",
   "metadata": {},
   "outputs": [],
   "source": []
  }
 ],
 "metadata": {
  "kernelspec": {
   "display_name": "Python 3 (ipykernel)",
   "language": "python",
   "name": "python3"
  },
  "language_info": {
   "codemirror_mode": {
    "name": "ipython",
    "version": 3
   },
   "file_extension": ".py",
   "mimetype": "text/x-python",
   "name": "python",
   "nbconvert_exporter": "python",
   "pygments_lexer": "ipython3",
   "version": "3.10.12"
  }
 },
 "nbformat": 4,
 "nbformat_minor": 5
}
