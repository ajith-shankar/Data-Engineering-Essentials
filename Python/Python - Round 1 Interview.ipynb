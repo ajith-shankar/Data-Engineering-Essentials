{
 "cells": [
  {
   "cell_type": "markdown",
   "id": "440633aa",
   "metadata": {},
   "source": [
    "# <font color=Blue>Potential Round 1 Python Interview Questions</font>"
   ]
  },
  {
   "cell_type": "markdown",
   "id": "9fb2ac2d",
   "metadata": {},
   "source": [
    "## 1) Difference between List and Tuple"
   ]
  },
  {
   "cell_type": "markdown",
   "id": "7a1564e1",
   "metadata": {},
   "source": [
    "* Lists are <b>mutable</b>\n",
    "* Tuples are <b>immutable</b> \n",
    "***\n",
    "* List is initiated with []\n",
    "* Tuple is initiated with ()\n",
    "***\n",
    "* List iteration is slower\n",
    "* Tuple iteration is faster than list\n",
    "***\n",
    "* List consumes more memory\n",
    "* Tuple consumes less memory\n",
    "***\n",
    "* Operations like Insertion and Deletion are better performed\n",
    "* Accessing elements is best in Tuple"
   ]
  },
  {
   "cell_type": "markdown",
   "id": "5aa5f7f2",
   "metadata": {},
   "source": [
    "## 2) What is Decorator? Explain with example"
   ]
  },
  {
   "cell_type": "markdown",
   "id": "12cbcbf1",
   "metadata": {},
   "source": [
    "A Decorator is a function that takes another function as a argument and extends it behavior without changing the original function explicitly"
   ]
  },
  {
   "cell_type": "code",
   "execution_count": 8,
   "id": "2a4801c5",
   "metadata": {},
   "outputs": [
    {
     "name": "stdout",
     "output_type": "stream",
     "text": [
      "$105.0\n"
     ]
    }
   ],
   "source": [
    "def net_price(price, tax):\n",
    "    return price * (1 + tax)\n",
    "\n",
    "def currency(symbol):\n",
    "    def wrapper(*args, **kwargs):\n",
    "        res = symbol(*args, **kwargs)\n",
    "        return f'${res}'\n",
    "    return wrapper\n",
    "\n",
    "\n",
    "net_price = currency(net_price)\n",
    "print(net_price(100, 0.05))"
   ]
  },
  {
   "cell_type": "markdown",
   "id": "cc8eb7f1",
   "metadata": {},
   "source": [
    "The **net_price** function calculates the net price from selling price and tax. It returns the net_price as a number. <br>Suppose that you need to format the net price using the **USD currency**. For example, 100 becomes $100. To do it, you can use a decorator."
   ]
  },
  {
   "cell_type": "markdown",
   "id": "7148ddc9",
   "metadata": {},
   "source": [
    "- By the definition, the decorator is a function that takes the function as a argument. Here the **currency** function is the decorator and it takes **net_price** function as argument returns the **wrapper** function. \n",
    "\n",
    "- The wrapper function has the \\*args and \\**kwargs parameters.These parameters allow you to call any **symbol** function with any combination of positional and keyword-only arguments. \n",
    "\n",
    "- Here wrapper function essentially executes the **symbol** function directly and doesn’t change any behavior of the symbol function.\n",
    "\n",
    "- Inside the **wrapper** function, you can call the **symbol** function, get its result, and format the result as a currency string"
   ]
  },
  {
   "cell_type": "markdown",
   "id": "1fc47909",
   "metadata": {},
   "source": [
    "#### Another way of representation of Decorators"
   ]
  },
  {
   "cell_type": "code",
   "execution_count": 10,
   "id": "fe59e640",
   "metadata": {},
   "outputs": [
    {
     "name": "stdout",
     "output_type": "stream",
     "text": [
      "$114.99999999999999\n"
     ]
    }
   ],
   "source": [
    "def currency(symbol):\n",
    "    def wrapper(*args, **kwargs):\n",
    "        res = symbol(*args, **kwargs)\n",
    "        return f'${res}'\n",
    "    return wrapper\n",
    "\n",
    "@currency\n",
    "def net_price(price, tax):\n",
    "    return price * (1 + tax)\n",
    "\n",
    "print(net_price(100, 0.15))"
   ]
  },
  {
   "cell_type": "markdown",
   "id": "ce8af823",
   "metadata": {},
   "source": [
    "## 3) Difference between List and Dictionary comprehension"
   ]
  },
  {
   "cell_type": "markdown",
   "id": "33b43d35",
   "metadata": {},
   "source": [
    "* List comprehension syntax [expression for item in iterable if conditional]\n",
    "* Dict comprehension"
   ]
  },
  {
   "cell_type": "code",
   "execution_count": null,
   "id": "bbfd41a6",
   "metadata": {},
   "outputs": [],
   "source": []
  }
 ],
 "metadata": {
  "kernelspec": {
   "display_name": "Python 3 (ipykernel)",
   "language": "python",
   "name": "python3"
  },
  "language_info": {
   "codemirror_mode": {
    "name": "ipython",
    "version": 3
   },
   "file_extension": ".py",
   "mimetype": "text/x-python",
   "name": "python",
   "nbconvert_exporter": "python",
   "pygments_lexer": "ipython3",
   "version": "3.10.12"
  }
 },
 "nbformat": 4,
 "nbformat_minor": 5
}
