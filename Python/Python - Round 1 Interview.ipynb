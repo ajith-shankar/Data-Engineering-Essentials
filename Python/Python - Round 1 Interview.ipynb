{
 "cells": [
  {
   "cell_type": "markdown",
   "id": "440633aa",
   "metadata": {},
   "source": [
    "# <font color=Blue>Potential Round 1 Python Interview Questions</font>"
   ]
  },
  {
   "cell_type": "markdown",
   "id": "9fb2ac2d",
   "metadata": {},
   "source": [
    "## 1) Difference between List and Tuple"
   ]
  },
  {
   "cell_type": "markdown",
   "id": "b9f9b155",
   "metadata": {},
   "source": [
    "* Lists are <b>mutable</b>\n",
    "* Tuples are <b>immutable</b> \n",
    "***\n",
    "* List is initiated with []\n",
    "* Tuple is initiated with ()\n",
    "***\n",
    "* List iteration is slower\n",
    "* Tuple iteration is faster than list\n",
    "***\n",
    "* List consumes more memory\n",
    "* Tuple consumes less memory\n",
    "***\n",
    "* Operations like Insertion and Deletion are better performed in List\n",
    "* Accessing elements is best in Tuple"
   ]
  },
  {
   "cell_type": "markdown",
   "id": "b3d3a9d4",
   "metadata": {},
   "source": [
    "## 2) What is Decorator? Explain with example"
   ]
  },
  {
   "cell_type": "markdown",
   "id": "a5d3a4c2",
   "metadata": {},
   "source": [
    "A Decorator is a function that takes another function as a argument and extends it behavior without changing the original function explicitly"
   ]
  },
  {
   "cell_type": "code",
   "execution_count": 8,
   "id": "84064d62",
   "metadata": {},
   "outputs": [
    {
     "name": "stdout",
     "output_type": "stream",
     "text": [
      "$105.0\n"
     ]
    }
   ],
   "source": [
    "def net_price(price, tax):\n",
    "    return price * (1 + tax)\n",
    "\n",
    "def currency(symbol):\n",
    "    def wrapper(*args, **kwargs):\n",
    "        res = symbol(*args, **kwargs)\n",
    "        return f'${res}'\n",
    "    return wrapper\n",
    "\n",
    "\n",
    "net_price = currency(net_price)\n",
    "print(net_price(100, 0.05))"
   ]
  },
  {
   "cell_type": "markdown",
   "id": "5affe49e",
   "metadata": {},
   "source": [
    "The **net_price** function calculates the net price from selling price and tax. It returns the net_price as a number. <br>Suppose that you need to format the net price using the **USD currency**. For example, 100 becomes $100. To do it, you can use a decorator."
   ]
  },
  {
   "cell_type": "markdown",
   "id": "a8e4abc6",
   "metadata": {},
   "source": [
    "- By the definition, the decorator is a function that takes the function as a argument. Here the **currency** function is the decorator and it takes **net_price** function as argument returns the **wrapper** function. \n",
    "\n",
    "- The wrapper function has the \\*args and \\**kwargs parameters.These parameters allow you to call any **symbol** function with any combination of positional and keyword-only arguments. \n",
    "\n",
    "- Here wrapper function essentially executes the **symbol** function directly and doesn’t change any behavior of the symbol function.\n",
    "\n",
    "- Inside the **wrapper** function, you can call the **symbol** function, get its result, and format the result as a currency string"
   ]
  },
  {
   "cell_type": "markdown",
   "id": "58982ef4",
   "metadata": {},
   "source": [
    "#### Another way of representation of Decorators"
   ]
  },
  {
   "cell_type": "code",
   "execution_count": 10,
   "id": "61836cea",
   "metadata": {},
   "outputs": [
    {
     "name": "stdout",
     "output_type": "stream",
     "text": [
      "$114.99999999999999\n"
     ]
    }
   ],
   "source": [
    "def currency(symbol):\n",
    "    def wrapper(*args, **kwargs):\n",
    "        res = symbol(*args, **kwargs)\n",
    "        return f'${res}'\n",
    "    return wrapper\n",
    "\n",
    "@currency\n",
    "def net_price(price, tax):\n",
    "    return price * (1 + tax)\n",
    "\n",
    "print(net_price(100, 0.15))"
   ]
  },
  {
   "cell_type": "markdown",
   "id": "1ef8fcef",
   "metadata": {},
   "source": [
    "## 3) Difference between List and Dictionary comprehension"
   ]
  },
  {
   "cell_type": "markdown",
   "id": "5547179d",
   "metadata": {},
   "source": [
    "* List comprehension syntax [expression for item in iterable if condition]\n",
    "* Dict comprehension syntax {key:value for (key, value) in iterable if condition}"
   ]
  },
  {
   "cell_type": "code",
   "execution_count": 13,
   "id": "01589da1",
   "metadata": {},
   "outputs": [
    {
     "name": "stdout",
     "output_type": "stream",
     "text": [
      "[1, 3, 5, 7, 9]\n"
     ]
    }
   ],
   "source": [
    "ls = [i for i in range(10) if i%2]\n",
    "print(ls)"
   ]
  },
  {
   "cell_type": "code",
   "execution_count": 16,
   "id": "9a5a25b0",
   "metadata": {},
   "outputs": [
    {
     "name": "stdout",
     "output_type": "stream",
     "text": [
      "{1: 1, 2: 8, 3: 27, 4: 64, 5: 125, 6: 216, 7: 343, 8: 512, 9: 729}\n"
     ]
    }
   ],
   "source": [
    "dct = {x:x**3 for x in range(1, 10)}\n",
    "print(dct)"
   ]
  },
  {
   "cell_type": "markdown",
   "id": "ae82b3d0",
   "metadata": {},
   "source": [
    "## 4) How memory managed in Python"
   ]
  },
  {
   "cell_type": "markdown",
   "id": "9713cb4f-5e3b-469e-bc81-9596b8c9920c",
   "metadata": {},
   "source": [
    "* Python has a private **heap** space that stores all the objects\n",
    "* The allocation of heap space for Python objects is done by **Python Memory Manager**\n",
    "* The user has no control over heap, Only Python Interpreter has access\n",
    "* The Python also has built in **Garbage collector** which recycles all the unused memory\n",
    "* When an object is no longer refferenced by the program, the heap space can be freed\n",
    "* The **gc** module defines functions to enable/disable garbage collector\n",
    "    * gc.enable()  Enables automatic garbage collection\n",
    "    * gc.disable()  Disable automatic garbage collection"
   ]
  },
  {
   "cell_type": "markdown",
   "id": "475cf178-7128-4783-b167-0b1b267f8245",
   "metadata": {},
   "source": [
    "## 5) Difference between Generators and Iterators"
   ]
  },
  {
   "cell_type": "markdown",
   "id": "4d06824c-791e-4a59-837d-9fa20d14235d",
   "metadata": {},
   "source": [
    "* Generators are iterators which can execute only once\n",
    "* An iterator is an object which contains a countable number of values\n",
    "***\n",
    "* Generator uses **yield** keyword\n",
    "* Iterator uses **iter()** and **next()** functions\n",
    "***\n",
    "* Generators are mostly used in loops to generate an iterator by returning all the values in the loop without affecting the iteration of the loop\n",
    "* Iterators are used to iterate over the iterable objects like list, tuples, sets etc\n",
    "***\n",
    "* Every Generator is an iterator\n",
    "* Every Iterator is not a generator"
   ]
  },
  {
   "cell_type": "code",
   "execution_count": 3,
   "id": "70528e52-9e13-490d-ac68-94caae1c6d01",
   "metadata": {},
   "outputs": [
    {
     "name": "stdout",
     "output_type": "stream",
     "text": [
      "1\n",
      "4\n",
      "9\n"
     ]
    }
   ],
   "source": [
    "def sqr(n):\n",
    "    for i in range(1, n+1):\n",
    "        yield i*i\n",
    "\n",
    "a = sqr(3)\n",
    "print(next(a))\n",
    "print(next(a))\n",
    "print(next(a))"
   ]
  },
  {
   "cell_type": "code",
   "execution_count": 4,
   "id": "9489f6c6-0126-46f3-9157-a4ab56c39f26",
   "metadata": {},
   "outputs": [
    {
     "name": "stdout",
     "output_type": "stream",
     "text": [
      "A\n",
      "B\n",
      "C\n"
     ]
    }
   ],
   "source": [
    "iter_lst = iter(['A', 'B', 'C'])\n",
    "print(next(iter_lst))\n",
    "print(next(iter_lst))\n",
    "print(next(iter_lst))"
   ]
  },
  {
   "cell_type": "markdown",
   "id": "53ce0d6d-7907-41ae-96ee-2f9e0a6eeb5e",
   "metadata": {},
   "source": [
    "## 6) What is __init__ keyword in Python"
   ]
  },
  {
   "cell_type": "markdown",
   "id": "876a9364-78a1-4069-9be0-2b66973f8cfb",
   "metadata": {},
   "source": [
    "#### *\\__init__.py* file"
   ]
  },
  {
   "cell_type": "markdown",
   "id": "61a14e65-94d2-4475-979a-655701525ad7",
   "metadata": {},
   "source": [
    "* The __init__.py file lets the Python Interpreter know that a directory contains code for a python module\n",
    "* It can be blank\n",
    "* Without this, you can't import modules from another folder into your project"
   ]
  },
  {
   "cell_type": "markdown",
   "id": "fc849f2b-0412-40a5-934d-d60292bb9aaf",
   "metadata": {},
   "source": [
    "#### *\\__init__()* function"
   ]
  },
  {
   "cell_type": "markdown",
   "id": "4ad5b1de-182f-4f16-9fbe-ca60fa5a5a55",
   "metadata": {},
   "source": [
    "* The __init__() method is similar to constructor in c++ or java\n",
    "* Constructors are used to initialieze the object's state"
   ]
  },
  {
   "cell_type": "markdown",
   "id": "7d4c41bd-fa9c-441c-a46b-0926531bc92f",
   "metadata": {},
   "source": [
    "## 7) Difference between Modules and Packages in Python"
   ]
  },
  {
   "cell_type": "markdown",
   "id": "dd38f754-a0e3-4219-bfa7-2ea2e61b6c31",
   "metadata": {},
   "source": [
    "* Module: It can be a simple python file (having .py extension), that contains collections of functions and global variables\n",
    "* Package: It is a collection of different modules with __init__.py file\n",
    "***\n",
    "* Only a .py file\n",
    "* __init__.py file with many .py files\n",
    "***\n",
    "* import module_name\n",
    "* import package_name.module_name\n",
    "***\n",
    "* Ex: math, random, os, datetime\n",
    "* Ex: Numpy, Pandas, Matplotlib"
   ]
  },
  {
   "cell_type": "markdown",
   "id": "d5e8d56f-08e2-411c-bde7-0ccfcaabd072",
   "metadata": {},
   "source": [
    "## 8) Different DataTypes and Mutable or Immutable"
   ]
  },
  {
   "cell_type": "markdown",
   "id": "56c9b568-1084-4dce-a4e0-5f0cbfb3debc",
   "metadata": {},
   "source": [
    "* Boolean (bool)    : Immutable\n",
    "* Integer (int)     : Immutable\n",
    "* Float             : Immutable\n",
    "* String (str)      : Immutable\n",
    "* tuple             : Immutable\n",
    "* frozenset         : Immutable\n",
    "* list              : Mutable\n",
    "* set               : Mutable\n",
    "* dict              : Mutable"
   ]
  },
  {
   "cell_type": "markdown",
   "id": "ade2abd8-153a-46cd-83d9-3692de169df4",
   "metadata": {},
   "source": [
    "## 9) Explain Ternary Operator in Python"
   ]
  },
  {
   "cell_type": "markdown",
   "id": "f127cced-9622-487c-95b2-f05c0f747c97",
   "metadata": {},
   "source": [
    "* Ternary operator determines if a condition is true or false and then returns the appropriate value in accordance with the result\n",
    "* Syntax: [on true] if [expression] else [on_false]"
   ]
  },
  {
   "cell_type": "code",
   "execution_count": 11,
   "id": "60448034-0921-4b07-8bf6-5c88b1be269a",
   "metadata": {},
   "outputs": [
    {
     "name": "stdout",
     "output_type": "stream",
     "text": [
      "Minimum :  20\n"
     ]
    }
   ],
   "source": [
    "a = 40\n",
    "b = 20\n",
    "min = a if a < b else b\n",
    "print(\"Minimum : \", min)"
   ]
  },
  {
   "cell_type": "markdown",
   "id": "060c9fce-4c94-47c4-a0fd-db4c6b5574ad",
   "metadata": {},
   "source": [
    "## 10) Explain Inheritance in Python"
   ]
  },
  {
   "cell_type": "markdown",
   "id": "9afd12de-8d57-4275-84d8-d4a310056671",
   "metadata": {},
   "source": [
    "* The process of inheriting the properties of the parent class into a child class is called inheritance"
   ]
  },
  {
   "cell_type": "markdown",
   "id": "f11d5ba7-ffd3-4b33-a29a-47eb952ed7da",
   "metadata": {},
   "source": [
    "### Single Inheritance"
   ]
  },
  {
   "cell_type": "markdown",
   "id": "bb3addcb-a2f8-4cf0-a34a-1d3b99160659",
   "metadata": {},
   "source": [
    "* In single inheritance, a child class inherits from a **single-parent** class.\r",
    "* Here one child class, and one parent class"
   ]
  },
  {
   "cell_type": "code",
   "execution_count": 12,
   "id": "f1f04645-fe42-4ab5-9b1e-8165bd252681",
   "metadata": {},
   "outputs": [
    {
     "name": "stdout",
     "output_type": "stream",
     "text": [
      "Inside Vehicle class\n",
      "Inside car class\n"
     ]
    }
   ],
   "source": [
    "# parent class\n",
    "class Vehicle:\n",
    "    def vehicle_info(self):\n",
    "        print(\"Inside Vehicle class\")\n",
    "        \n",
    "# child class\n",
    "class Car(Vehicle):\n",
    "    def car_info(self):\n",
    "        print(\"Inside car class\")\n",
    "\n",
    "car1 = Car()  # object of child\n",
    "car1.vehicle_info()\n",
    "car1.car_info()"
   ]
  },
  {
   "cell_type": "markdown",
   "id": "5f739519-9c1f-46dd-bb1c-a98bfa0e7c6e",
   "metadata": {},
   "source": [
    "### Multiple Inheritance"
   ]
  },
  {
   "cell_type": "markdown",
   "id": "f468c91e-7eed-472f-9e11-25f3769e3678",
   "metadata": {},
   "source": [
    "* In Mulitple inheritance, a child class inherits from a **multiple-parent** class.\n",
    "* Here one child class, and multiple parent class"
   ]
  },
  {
   "cell_type": "code",
   "execution_count": 9,
   "id": "af06e001-104c-4775-9391-94bcdf1b3359",
   "metadata": {},
   "outputs": [
    {
     "name": "stdout",
     "output_type": "stream",
     "text": [
      "Inside Vehicle class\n",
      "Inside Car class\n",
      "Inside Driver class\n"
     ]
    }
   ],
   "source": [
    "# parent class 1\n",
    "class Vehicle:\n",
    "    def vehicle_info(self):\n",
    "        print(\"Inside Vehicle class\")\n",
    "\n",
    "# parent class 2\n",
    "class Car:\n",
    "    def car_info(self):\n",
    "        print(\"Inside Car class\")\n",
    "\n",
    "# Child class\n",
    "class Driver(Vehicle, Car):\n",
    "    def driver_info(self):\n",
    "        print(\"Inside Driver class\")\n",
    "\n",
    "\n",
    "#  obj\n",
    "ev_car1 = Driver()\n",
    "\n",
    "# call parent class\n",
    "ev_car1.vehicle_info()\n",
    "ev_car1.car_info()\n",
    "ev_car1.driver_info()"
   ]
  },
  {
   "cell_type": "markdown",
   "id": "ae4c9ea4-fe09-4670-88dc-d36e1b2b05c9",
   "metadata": {},
   "source": [
    "### Multilevel Inheritance"
   ]
  },
  {
   "cell_type": "markdown",
   "id": "0185cfed-b039-495b-8a74-3b4b0cd59c80",
   "metadata": {},
   "source": [
    "* In Multilevel inheritance, a class inherits from a **child class**\n",
    "* In other words we can say **chain of classes** is called as Multilevel Inheritance"
   ]
  },
  {
   "cell_type": "code",
   "execution_count": 11,
   "id": "972533b8-6f10-41b5-8dcd-02773a1de6b4",
   "metadata": {},
   "outputs": [
    {
     "name": "stdout",
     "output_type": "stream",
     "text": [
      "Inide Vehicle class\n",
      "Inside Car class\n",
      "Inside Sports Car class\n"
     ]
    }
   ],
   "source": [
    "# parent class 1\n",
    "class Vehicle():\n",
    "    def vehicle_info(self):\n",
    "        print(\"Inide Vehicle class\")\n",
    "\n",
    "# child class 1\n",
    "class Car(Vehicle):\n",
    "    def car_info(self):\n",
    "        print(\"Inside Car class\")\n",
    "\n",
    "# child class 2\n",
    "class SportsCar(Car):\n",
    "    def sports_car_info(self):\n",
    "        print(\"Inside Sports Car class\")\n",
    "\n",
    "# child class 2 obj\n",
    "sp_car = SportsCar()\n",
    "\n",
    "# call parent class\n",
    "sp_car.vehicle_info()\n",
    "sp_car.car_info()\n",
    "sp_car.sports_car_info()"
   ]
  },
  {
   "cell_type": "markdown",
   "id": "17ce16c0-5b2c-4949-b325-7b2cd83cfaea",
   "metadata": {},
   "source": [
    "## 11) Difference between Local and Global variable"
   ]
  },
  {
   "cell_type": "code",
   "execution_count": null,
   "id": "0056dc81-a86b-466c-94c7-d435fad7a867",
   "metadata": {},
   "outputs": [],
   "source": []
  }
 ],
 "metadata": {
  "kernelspec": {
   "display_name": "Python 3 (ipykernel)",
   "language": "python",
   "name": "python3"
  },
  "language_info": {
   "codemirror_mode": {
    "name": "ipython",
    "version": 3
   },
   "file_extension": ".py",
   "mimetype": "text/x-python",
   "name": "python",
   "nbconvert_exporter": "python",
   "pygments_lexer": "ipython3",
   "version": "3.12.1"
  }
 },
 "nbformat": 4,
 "nbformat_minor": 5
}
