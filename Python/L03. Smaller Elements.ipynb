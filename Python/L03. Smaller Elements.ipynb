{
 "cells": [
  {
   "cell_type": "markdown",
   "id": "a3594b99",
   "metadata": {},
   "source": [
    "# List "
   ]
  },
  {
   "cell_type": "markdown",
   "id": "5abbfc00",
   "metadata": {},
   "source": [
    "## Write a program to find the smaller elements to the target element in the list"
   ]
  },
  {
   "cell_type": "markdown",
   "id": "97a5a1d3",
   "metadata": {},
   "source": [
    "### Solution 1"
   ]
  },
  {
   "cell_type": "code",
   "execution_count": 1,
   "id": "786b68d8",
   "metadata": {},
   "outputs": [],
   "source": [
    "def getSmaller(lst, x):\n",
    "    res = []\n",
    "    for ele in lst:\n",
    "        if ele < x:\n",
    "            res.append(ele)\n",
    "    \n",
    "    return res"
   ]
  },
  {
   "cell_type": "code",
   "execution_count": 2,
   "id": "a7e5629a",
   "metadata": {},
   "outputs": [
    {
     "name": "stdout",
     "output_type": "stream",
     "text": [
      "[10, 8, 3, 11]\n"
     ]
    }
   ],
   "source": [
    "lst = [10, 22, 35, 8, 76, 29, 3, 50, 11]\n",
    "x = 20\n",
    "print(getSmaller(lst, x))"
   ]
  },
  {
   "cell_type": "markdown",
   "id": "d8ece81b",
   "metadata": {},
   "source": [
    "### Solution 2 "
   ]
  },
  {
   "cell_type": "code",
   "execution_count": 3,
   "id": "4ac118ce",
   "metadata": {},
   "outputs": [],
   "source": [
    "def smaller(lst, x):\n",
    "    return [ele for ele in lst if ele < x]"
   ]
  },
  {
   "cell_type": "code",
   "execution_count": 4,
   "id": "aec5a46c",
   "metadata": {},
   "outputs": [
    {
     "name": "stdout",
     "output_type": "stream",
     "text": [
      "[10, 8, 3, 11]\n"
     ]
    }
   ],
   "source": [
    "lst = [10, 22, 35, 8, 76, 29, 3, 50, 11]\n",
    "x = 20\n",
    "print(smaller(lst, x))"
   ]
  },
  {
   "cell_type": "code",
   "execution_count": null,
   "id": "4ed3776f",
   "metadata": {},
   "outputs": [],
   "source": []
  }
 ],
 "metadata": {
  "kernelspec": {
   "display_name": "Python 3 (ipykernel)",
   "language": "python",
   "name": "python3"
  },
  "language_info": {
   "codemirror_mode": {
    "name": "ipython",
    "version": 3
   },
   "file_extension": ".py",
   "mimetype": "text/x-python",
   "name": "python",
   "nbconvert_exporter": "python",
   "pygments_lexer": "ipython3",
   "version": "3.10.12"
  }
 },
 "nbformat": 4,
 "nbformat_minor": 5
}
